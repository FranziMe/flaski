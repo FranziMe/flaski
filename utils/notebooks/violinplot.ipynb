{
 "cells": [
  {
   "cell_type": "code",
   "execution_count": 1,
   "metadata": {},
   "outputs": [],
   "source": [
    "import pandas as pd\n",
    "import numpy as np\n",
    "import matplotlib\n",
    "import matplotlib.pylab as plt\n",
    "from sklearn import datasets\n",
    "import seaborn as sns\n"
   ]
  },
  {
   "cell_type": "code",
   "execution_count": 2,
   "metadata": {},
   "outputs": [
    {
     "data": {
      "text/plain": [
       "<function seaborn.categorical.violinplot(x=None, y=None, hue=None, data=None, order=None, hue_order=None, bw='scott', cut=2, scale='area', scale_hue=True, gridsize=100, width=0.8, inner='box', split=False, dodge=True, orient=None, linewidth=None, color=None, palette=None, saturation=0.75, ax=None, **kwargs)>"
      ]
     },
     "execution_count": 2,
     "metadata": {},
     "output_type": "execute_result"
    }
   ],
   "source": [
    "sns.violinplot"
   ]
  },
  {
   "cell_type": "code",
   "execution_count": 3,
   "metadata": {},
   "outputs": [
    {
     "name": "stdout",
     "output_type": "stream",
     "text": [
      "Help on function violinplot in module matplotlib.pyplot:\n",
      "\n",
      "violinplot(dataset, positions=None, vert=True, widths=0.5, showmeans=False, showextrema=True, showmedians=False, points=100, bw_method=None, *, data=None)\n",
      "    Make a violin plot.\n",
      "    \n",
      "    Make a violin plot for each column of *dataset* or each vector in\n",
      "    sequence *dataset*.  Each filled area extends to represent the\n",
      "    entire data range, with optional lines at the mean, the median,\n",
      "    the minimum, and the maximum.\n",
      "    \n",
      "    Parameters\n",
      "    ----------\n",
      "    dataset : Array or a sequence of vectors.\n",
      "      The input data.\n",
      "    \n",
      "    positions : array-like, default = [1, 2, ..., n]\n",
      "      Sets the positions of the violins. The ticks and limits are\n",
      "      automatically set to match the positions.\n",
      "    \n",
      "    vert : bool, default = True.\n",
      "      If true, creates a vertical violin plot.\n",
      "      Otherwise, creates a horizontal violin plot.\n",
      "    \n",
      "    widths : array-like, default = 0.5\n",
      "      Either a scalar or a vector that sets the maximal width of\n",
      "      each violin. The default is 0.5, which uses about half of the\n",
      "      available horizontal space.\n",
      "    \n",
      "    showmeans : bool, default = False\n",
      "      If `True`, will toggle rendering of the means.\n",
      "    \n",
      "    showextrema : bool, default = True\n",
      "      If `True`, will toggle rendering of the extrema.\n",
      "    \n",
      "    showmedians : bool, default = False\n",
      "      If `True`, will toggle rendering of the medians.\n",
      "    \n",
      "    points : scalar, default = 100\n",
      "      Defines the number of points to evaluate each of the\n",
      "      gaussian kernel density estimations at.\n",
      "    \n",
      "    bw_method : str, scalar or callable, optional\n",
      "      The method used to calculate the estimator bandwidth.  This can be\n",
      "      'scott', 'silverman', a scalar constant or a callable.  If a\n",
      "      scalar, this will be used directly as `kde.factor`.  If a\n",
      "      callable, it should take a `GaussianKDE` instance as its only\n",
      "      parameter and return a scalar. If None (default), 'scott' is used.\n",
      "    \n",
      "    Returns\n",
      "    -------\n",
      "    \n",
      "    result : dict\n",
      "      A dictionary mapping each component of the violinplot to a\n",
      "      list of the corresponding collection instances created. The\n",
      "      dictionary has the following keys:\n",
      "    \n",
      "        - ``bodies``: A list of the\n",
      "          :class:`matplotlib.collections.PolyCollection` instances\n",
      "          containing the filled area of each violin.\n",
      "    \n",
      "        - ``cmeans``: A\n",
      "          :class:`matplotlib.collections.LineCollection` instance\n",
      "          created to identify the mean values of each of the\n",
      "          violin's distribution.\n",
      "    \n",
      "        - ``cmins``: A\n",
      "          :class:`matplotlib.collections.LineCollection` instance\n",
      "          created to identify the bottom of each violin's\n",
      "          distribution.\n",
      "    \n",
      "        - ``cmaxes``: A\n",
      "          :class:`matplotlib.collections.LineCollection` instance\n",
      "          created to identify the top of each violin's\n",
      "          distribution.\n",
      "    \n",
      "        - ``cbars``: A\n",
      "          :class:`matplotlib.collections.LineCollection` instance\n",
      "          created to identify the centers of each violin's\n",
      "          distribution.\n",
      "    \n",
      "        - ``cmedians``: A\n",
      "          :class:`matplotlib.collections.LineCollection` instance\n",
      "          created to identify the median values of each of the\n",
      "          violin's distribution.\n",
      "    \n",
      "    Notes\n",
      "    -----\n",
      "    \n",
      "    \n",
      "    .. note::\n",
      "        In addition to the above described arguments, this function can take a\n",
      "        **data** keyword argument. If such a **data** argument is given, the\n",
      "        following arguments are replaced by **data[<arg>]**:\n",
      "    \n",
      "        * All arguments with the following names: 'dataset'.\n",
      "    \n",
      "        Objects passed as **data** must support item access (``data[<arg>]``) and\n",
      "        membership test (``<arg> in data``).\n",
      "\n"
     ]
    }
   ],
   "source": [
    "help(plt.violinplot)"
   ]
  },
  {
   "cell_type": "code",
   "execution_count": 4,
   "metadata": {},
   "outputs": [],
   "source": [
    "data=pd.read_csv(\"Datasets/iris_4variables.csv\")"
   ]
  },
  {
   "cell_type": "code",
   "execution_count": 26,
   "metadata": {},
   "outputs": [
    {
     "data": {
      "text/plain": [
       "{'bodies': [<matplotlib.collections.PolyCollection at 0x7f46a2356828>,\n",
       "  <matplotlib.collections.PolyCollection at 0x7f46a2356898>],\n",
       " 'cmaxes': <matplotlib.collections.LineCollection at 0x7f46a2888a90>,\n",
       " 'cmins': <matplotlib.collections.LineCollection at 0x7f46a2356e80>,\n",
       " 'cbars': <matplotlib.collections.LineCollection at 0x7f46a2356a20>}"
      ]
     },
     "execution_count": 26,
     "metadata": {},
     "output_type": "execute_result"
    },
    {
     "data": {
      "image/png": "[encoded data removed]",
      "text/plain": [
       "<Figure size 432x288 with 1 Axes>"
      ]
     },
     "metadata": {
      "needs_background": "light"
     },
     "output_type": "display_data"
    }
   ],
   "source": [
    "fig, ax = plt.subplots()\n",
    "ax.violinplot([data[\"D\"],data.C])"
   ]
  },
  {
   "cell_type": "code",
   "execution_count": 28,
   "metadata": {},
   "outputs": [
    {
     "name": "stdout",
     "output_type": "stream",
     "text": [
      "Help on function violinplot in module seaborn.categorical:\n",
      "\n",
      "violinplot(x=None, y=None, hue=None, data=None, order=None, hue_order=None, bw='scott', cut=2, scale='area', scale_hue=True, gridsize=100, width=0.8, inner='box', split=False, dodge=True, orient=None, linewidth=None, color=None, palette=None, saturation=0.75, ax=None, **kwargs)\n",
      "    Draw a combination of boxplot and kernel density estimate.\n",
      "    \n",
      "    A violin plot plays a similar role as a box and whisker plot. It shows the\n",
      "    distribution of quantitative data across several levels of one (or more)\n",
      "    categorical variables such that those distributions can be compared. Unlike\n",
      "    a box plot, in which all of the plot components correspond to actual\n",
      "    datapoints, the violin plot features a kernel density estimation of the\n",
      "    underlying distribution.\n",
      "    \n",
      "    This can be an effective and attractive way to show multiple distributions\n",
      "    of data at once, but keep in mind that the estimation procedure is\n",
      "    influenced by the sample size, and violins for relatively small samples\n",
      "    might look misleadingly smooth.\n",
      "    \n",
      "    \n",
      "    Input data can be passed in a variety of formats, including:\n",
      "    \n",
      "    - Vectors of data represented as lists, numpy arrays, or pandas Series\n",
      "      objects passed directly to the ``x``, ``y``, and/or ``hue`` parameters.\n",
      "    - A \"long-form\" DataFrame, in which case the ``x``, ``y``, and ``hue``\n",
      "      variables will determine how the data are plotted.\n",
      "    - A \"wide-form\" DataFrame, such that each numeric column will be plotted.\n",
      "    - An array or list of vectors.\n",
      "    \n",
      "    In most cases, it is possible to use numpy or Python objects, but pandas\n",
      "    objects are preferable because the associated names will be used to\n",
      "    annotate the axes. Additionally, you can use Categorical types for the\n",
      "    grouping variables to control the order of plot elements.    \n",
      "    \n",
      "    This function always treats one of the variables as categorical and\n",
      "    draws data at ordinal positions (0, 1, ... n) on the relevant axis, even\n",
      "    when the data has a numeric or date type.\n",
      "    \n",
      "    See the :ref:`tutorial <categorical_tutorial>` for more information.    \n",
      "    \n",
      "    Parameters\n",
      "    ----------\n",
      "    x, y, hue : names of variables in ``data`` or vector data, optional\n",
      "        Inputs for plotting long-form data. See examples for interpretation.        \n",
      "    data : DataFrame, array, or list of arrays, optional\n",
      "        Dataset for plotting. If ``x`` and ``y`` are absent, this is\n",
      "        interpreted as wide-form. Otherwise it is expected to be long-form.    \n",
      "    order, hue_order : lists of strings, optional\n",
      "        Order to plot the categorical levels in, otherwise the levels are\n",
      "        inferred from the data objects.        \n",
      "    bw : {'scott', 'silverman', float}, optional\n",
      "        Either the name of a reference rule or the scale factor to use when\n",
      "        computing the kernel bandwidth. The actual kernel size will be\n",
      "        determined by multiplying the scale factor by the standard deviation of\n",
      "        the data within each bin.\n",
      "    cut : float, optional\n",
      "        Distance, in units of bandwidth size, to extend the density past the\n",
      "        extreme datapoints. Set to 0 to limit the violin range within the range\n",
      "        of the observed data (i.e., to have the same effect as ``trim=True`` in\n",
      "        ``ggplot``.\n",
      "    scale : {\"area\", \"count\", \"width\"}, optional\n",
      "        The method used to scale the width of each violin. If ``area``, each\n",
      "        violin will have the same area. If ``count``, the width of the violins\n",
      "        will be scaled by the number of observations in that bin. If ``width``,\n",
      "        each violin will have the same width.\n",
      "    scale_hue : bool, optional\n",
      "        When nesting violins using a ``hue`` variable, this parameter\n",
      "        determines whether the scaling is computed within each level of the\n",
      "        major grouping variable (``scale_hue=True``) or across all the violins\n",
      "        on the plot (``scale_hue=False``).\n",
      "    gridsize : int, optional\n",
      "        Number of points in the discrete grid used to compute the kernel\n",
      "        density estimate.\n",
      "    width : float, optional\n",
      "        Width of a full element when not using hue nesting, or width of all the\n",
      "        elements for one level of the major grouping variable.    \n",
      "    inner : {\"box\", \"quartile\", \"point\", \"stick\", None}, optional\n",
      "        Representation of the datapoints in the violin interior. If ``box``,\n",
      "        draw a miniature boxplot. If ``quartiles``, draw the quartiles of the\n",
      "        distribution.  If ``point`` or ``stick``, show each underlying\n",
      "        datapoint. Using ``None`` will draw unadorned violins.\n",
      "    split : bool, optional\n",
      "        When using hue nesting with a variable that takes two levels, setting\n",
      "        ``split`` to True will draw half of a violin for each level. This can\n",
      "        make it easier to directly compare the distributions.\n",
      "    dodge : bool, optional\n",
      "        When hue nesting is used, whether elements should be shifted along the\n",
      "        categorical axis.    \n",
      "    orient : \"v\" | \"h\", optional\n",
      "        Orientation of the plot (vertical or horizontal). This is usually\n",
      "        inferred from the dtype of the input variables, but can be used to\n",
      "        specify when the \"categorical\" variable is a numeric or when plotting\n",
      "        wide-form data.    \n",
      "    linewidth : float, optional\n",
      "        Width of the gray lines that frame the plot elements.    \n",
      "    color : matplotlib color, optional\n",
      "        Color for all of the elements, or seed for a gradient palette.    \n",
      "    palette : palette name, list, or dict, optional\n",
      "        Colors to use for the different levels of the ``hue`` variable. Should\n",
      "        be something that can be interpreted by :func:`color_palette`, or a\n",
      "        dictionary mapping hue levels to matplotlib colors.    \n",
      "    saturation : float, optional\n",
      "        Proportion of the original saturation to draw colors at. Large patches\n",
      "        often look better with slightly desaturated colors, but set this to\n",
      "        ``1`` if you want the plot colors to perfectly match the input color\n",
      "        spec.    \n",
      "    ax : matplotlib Axes, optional\n",
      "        Axes object to draw the plot onto, otherwise uses the current Axes.    \n",
      "    \n",
      "    Returns\n",
      "    -------\n",
      "    ax : matplotlib Axes\n",
      "        Returns the Axes object with the plot drawn onto it.    \n",
      "    \n",
      "    See Also\n",
      "    --------\n",
      "    boxplot : A traditional box-and-whisker plot with a similar API.    \n",
      "    stripplot : A scatterplot where one variable is categorical. Can be used\n",
      "                in conjunction with other plots to show each observation.    \n",
      "    swarmplot : A categorical scatterplot where the points do not overlap. Can\n",
      "                be used with other plots to show each observation.    \n",
      "    catplot : Combine a categorical plot with a :class:`FacetGrid`.    \n",
      "    \n",
      "    Examples\n",
      "    --------\n",
      "    \n",
      "    Draw a single horizontal violinplot:\n",
      "    \n",
      "    .. plot::\n",
      "        :context: close-figs\n",
      "    \n",
      "        >>> import seaborn as sns\n",
      "        >>> sns.set(style=\"whitegrid\")\n",
      "        >>> tips = sns.load_dataset(\"tips\")\n",
      "        >>> ax = sns.violinplot(x=tips[\"total_bill\"])\n",
      "    \n",
      "    Draw a vertical violinplot grouped by a categorical variable:\n",
      "    \n",
      "    .. plot::\n",
      "        :context: close-figs\n",
      "    \n",
      "        >>> ax = sns.violinplot(x=\"day\", y=\"total_bill\", data=tips)\n",
      "    \n",
      "    Draw a violinplot with nested grouping by two categorical variables:\n",
      "    \n",
      "    .. plot::\n",
      "        :context: close-figs\n",
      "    \n",
      "        >>> ax = sns.violinplot(x=\"day\", y=\"total_bill\", hue=\"smoker\",\n",
      "        ...                     data=tips, palette=\"muted\")\n",
      "    \n",
      "    Draw split violins to compare the across the hue variable:\n",
      "    \n",
      "    .. plot::\n",
      "        :context: close-figs\n",
      "    \n",
      "        >>> ax = sns.violinplot(x=\"day\", y=\"total_bill\", hue=\"smoker\",\n",
      "        ...                     data=tips, palette=\"muted\", split=True)\n",
      "    \n",
      "    Control violin order by passing an explicit order:\n",
      "    \n",
      "    .. plot::\n",
      "        :context: close-figs\n",
      "    \n",
      "        >>> ax = sns.violinplot(x=\"time\", y=\"tip\", data=tips,\n",
      "        ...                     order=[\"Dinner\", \"Lunch\"])\n",
      "    \n",
      "    Scale the violin width by the number of observations in each bin:\n",
      "    \n",
      "    .. plot::\n",
      "        :context: close-figs\n",
      "    \n",
      "        >>> ax = sns.violinplot(x=\"day\", y=\"total_bill\", hue=\"sex\",\n",
      "        ...                     data=tips, palette=\"Set2\", split=True,\n",
      "        ...                     scale=\"count\")\n",
      "    \n",
      "    Draw the quartiles as horizontal lines instead of a mini-box:\n",
      "    \n",
      "    .. plot::\n",
      "        :context: close-figs\n",
      "    \n",
      "        >>> ax = sns.violinplot(x=\"day\", y=\"total_bill\", hue=\"sex\",\n",
      "        ...                     data=tips, palette=\"Set2\", split=True,\n",
      "        ...                     scale=\"count\", inner=\"quartile\")\n",
      "    \n",
      "    Show each observation with a stick inside the violin:\n",
      "    \n",
      "    .. plot::\n",
      "        :context: close-figs\n",
      "    \n",
      "        >>> ax = sns.violinplot(x=\"day\", y=\"total_bill\", hue=\"sex\",\n",
      "        ...                     data=tips, palette=\"Set2\", split=True,\n",
      "        ...                     scale=\"count\", inner=\"stick\")\n",
      "    \n",
      "    Scale the density relative to the counts across all bins:\n",
      "    \n",
      "    .. plot::\n",
      "        :context: close-figs\n",
      "    \n",
      "        >>> ax = sns.violinplot(x=\"day\", y=\"total_bill\", hue=\"sex\",\n",
      "        ...                     data=tips, palette=\"Set2\", split=True,\n",
      "        ...                     scale=\"count\", inner=\"stick\", scale_hue=False)\n",
      "    \n",
      "    Use a narrow bandwidth to reduce the amount of smoothing:\n",
      "    \n",
      "    .. plot::\n",
      "        :context: close-figs\n",
      "    \n",
      "        >>> ax = sns.violinplot(x=\"day\", y=\"total_bill\", hue=\"sex\",\n",
      "        ...                     data=tips, palette=\"Set2\", split=True,\n",
      "        ...                     scale=\"count\", inner=\"stick\",\n",
      "        ...                     scale_hue=False, bw=.2)\n",
      "    \n",
      "    Draw horizontal violins:\n",
      "    \n",
      "    .. plot::\n",
      "        :context: close-figs\n",
      "    \n",
      "        >>> planets = sns.load_dataset(\"planets\")\n",
      "        >>> ax = sns.violinplot(x=\"orbital_period\", y=\"method\",\n",
      "        ...                     data=planets[planets.orbital_period < 1000],\n",
      "        ...                     scale=\"width\", palette=\"Set3\")\n",
      "    \n",
      "    Don't let density extend past extreme values in the data:\n",
      "    \n",
      "    .. plot::\n",
      "        :context: close-figs\n",
      "    \n",
      "        >>> ax = sns.violinplot(x=\"orbital_period\", y=\"method\",\n",
      "        ...                     data=planets[planets.orbital_period < 1000],\n",
      "        ...                     cut=0, scale=\"width\", palette=\"Set3\")\n",
      "    \n",
      "    Use ``hue`` without changing violin position or width:\n",
      "    \n",
      "    .. plot::\n",
      "        :context: close-figs\n",
      "    \n",
      "        >>> tips[\"weekend\"] = tips[\"day\"].isin([\"Sat\", \"Sun\"])\n",
      "        >>> ax = sns.violinplot(x=\"day\", y=\"total_bill\", hue=\"weekend\",\n",
      "        ...                     data=tips, dodge=False)\n",
      "    \n",
      "    Use :func:`catplot` to combine a :func:`violinplot` and a\n",
      "    :class:`FacetGrid`. This allows grouping within additional categorical\n",
      "    variables. Using :func:`catplot` is safer than using :class:`FacetGrid`\n",
      "    directly, as it ensures synchronization of variable order across facets:\n",
      "    \n",
      "    .. plot::\n",
      "        :context: close-figs\n",
      "    \n",
      "        >>> g = sns.catplot(x=\"sex\", y=\"total_bill\",\n",
      "        ...                 hue=\"smoker\", col=\"time\",\n",
      "        ...                 data=tips, kind=\"violin\", split=True,\n",
      "        ...                 height=4, aspect=.7);\n",
      "\n"
     ]
    }
   ],
   "source": [
    "help(sns.violinplot)"
   ]
  },
  {
   "cell_type": "code",
   "execution_count": 3,
   "metadata": {},
   "outputs": [],
   "source": [
    "tips = sns.load_dataset(\"tips\")"
   ]
  },
  {
   "cell_type": "code",
   "execution_count": 13,
   "metadata": {},
   "outputs": [],
   "source": [
    "tips.to_csv(\"Datasets/tips.csv\",sep=\",\")"
   ]
  },
  {
   "cell_type": "code",
   "execution_count": 25,
   "metadata": {},
   "outputs": [
    {
     "data": {
      "text/plain": [
       "<matplotlib.axes._subplots.AxesSubplot at 0x7f663ac3c630>"
      ]
     },
     "execution_count": 25,
     "metadata": {},
     "output_type": "execute_result"
    },
    {
     "data": {
      "image/png": "[encoded data removed]",
      "text/plain": [
       "<Figure size 432x288 with 1 Axes>"
      ]
     },
     "metadata": {
      "needs_background": "light"
     },
     "output_type": "display_data"
    }
   ],
   "source": [
    "sns.violinplot(x=None,y=None,data=tips,order=None,hue_order=None,bw=None)"
   ]
  },
  {
   "cell_type": "code",
   "execution_count": 3,
   "metadata": {},
   "outputs": [],
   "source": [
    "import inspect\n",
    "sns.violinplot\n",
    "args=inspect.getfullargspec(sns.violinplot)[0]\n",
    "defaults=inspect.getfullargspec(sns.violinplot)[3]"
   ]
  },
  {
   "cell_type": "code",
   "execution_count": 5,
   "metadata": {},
   "outputs": [
    {
     "data": {
      "text/plain": [
       "FullArgSpec(args=['x', 'y', 'hue', 'data', 'order', 'hue_order', 'bw', 'cut', 'scale', 'scale_hue', 'gridsize', 'width', 'inner', 'split', 'dodge', 'orient', 'linewidth', 'color', 'palette', 'saturation', 'ax'], varargs=None, varkw='kwargs', defaults=(None, None, None, None, None, None, 'scott', 2, 'area', True, 100, 0.8, 'box', False, True, None, None, None, None, 0.75, None), kwonlyargs=[], kwonlydefaults=None, annotations={})"
      ]
     },
     "execution_count": 5,
     "metadata": {},
     "output_type": "execute_result"
    }
   ],
   "source": [
    "inspect.getfullargspec(sns.violinplot)"
   ]
  },
  {
   "cell_type": "code",
   "execution_count": 67,
   "metadata": {},
   "outputs": [
    {
     "ename": "NameError",
     "evalue": "name 'parseBool' is not defined",
     "output_type": "error",
     "traceback": [
      "\u001b[0;31m---------------------------------------------------------------------------\u001b[0m",
      "\u001b[0;31mNameError\u001b[0m                                 Traceback (most recent call last)",
      "\u001b[0;32m<ipython-input-67-c6c42707b25c>\u001b[0m in \u001b[0;36m<module>\u001b[0;34m\u001b[0m\n\u001b[0;32m----> 1\u001b[0;31m \u001b[0mparseBool\u001b[0m\u001b[0;34m(\u001b[0m\u001b[0;34m\"True\"\u001b[0m\u001b[0;34m)\u001b[0m\u001b[0;34m\u001b[0m\u001b[0;34m\u001b[0m\u001b[0m\n\u001b[0m",
      "\u001b[0;31mNameError\u001b[0m: name 'parseBool' is not defined"
     ]
    }
   ],
   "source": [
    "parseBool(\"True\")"
   ]
  },
  {
   "cell_type": "code",
   "execution_count": 6,
   "metadata": {},
   "outputs": [
    {
     "name": "stdout",
     "output_type": "stream",
     "text": [
      "x None\n",
      "y None\n",
      "hue None\n",
      "data None\n",
      "order None\n",
      "hue_order None\n",
      "bw scott\n",
      "cut 2\n",
      "scale area\n",
      "scale_hue True\n",
      "gridsize 100\n",
      "width 0.8\n",
      "inner box\n",
      "split False\n",
      "dodge True\n",
      "orient None\n",
      "linewidth None\n",
      "color None\n",
      "palette None\n",
      "saturation 0.75\n",
      "ax None\n"
     ]
    }
   ],
   "source": [
    "for arg,default in zip(args,defaults):\n",
    "    print(arg,default)"
   ]
  },
  {
   "cell_type": "code",
   "execution_count": 9,
   "metadata": {},
   "outputs": [
    {
     "name": "stderr",
     "output_type": "stream",
     "text": [
      "No handles with labels found to put in legend.\n"
     ]
    },
    {
     "data": {
      "text/plain": [
       "<matplotlib.legend.Legend at 0x7f64fb981908>"
      ]
     },
     "execution_count": 9,
     "metadata": {},
     "output_type": "execute_result"
    },
    {
     "data": {
      "image/png": "[encoded data removed]",
      "text/plain": [
       "<Figure size 432x288 with 1 Axes>"
      ]
     },
     "metadata": {
      "needs_background": "light"
     },
     "output_type": "display_data"
    }
   ],
   "source": [
    "ax=sns.violinplot(data=tips,linewidth=None,palette=\"colorblind\")\n",
    "ax.legend()"
   ]
  },
  {
   "cell_type": "code",
   "execution_count": 12,
   "metadata": {},
   "outputs": [
    {
     "data": {
      "text/plain": [
       "<matplotlib.axes._subplots.AxesSubplot at 0x7f64f7091128>"
      ]
     },
     "execution_count": 12,
     "metadata": {},
     "output_type": "execute_result"
    },
    {
     "data": {
      "image/png": "[encoded data removed]",
      "text/plain": [
       "<Figure size 432x288 with 1 Axes>"
      ]
     },
     "metadata": {
      "needs_background": "light"
     },
     "output_type": "display_data"
    }
   ],
   "source": [
    "sns.violinplot(x=\"total_bill\",hue=\"smoker\",data=tips)"
   ]
  },
  {
   "cell_type": "code",
   "execution_count": 11,
   "metadata": {},
   "outputs": [
    {
     "data": {
      "text/plain": [
       "<matplotlib.axes._subplots.AxesSubplot at 0x7f64f70ca860>"
      ]
     },
     "execution_count": 11,
     "metadata": {},
     "output_type": "execute_result"
    },
    {
     "data": {
      "image/png": "[encoded data removed]",
      "text/plain": [
       "<Figure size 432x288 with 1 Axes>"
      ]
     },
     "metadata": {
      "needs_background": "light"
     },
     "output_type": "display_data"
    }
   ],
   "source": [
    "sns.violinplot(x=\"size\",hue=\"time\",data=tips, orient=\"v\",color_palette=\"pastel\")"
   ]
  },
  {
   "cell_type": "code",
   "execution_count": 63,
   "metadata": {},
   "outputs": [
    {
     "data": {
      "text/html": [
       "<div>\n",
       "<style scoped>\n",
       "    .dataframe tbody tr th:only-of-type {\n",
       "        vertical-align: middle;\n",
       "    }\n",
       "\n",
       "    .dataframe tbody tr th {\n",
       "        vertical-align: top;\n",
       "    }\n",
       "\n",
       "    .dataframe thead th {\n",
       "        text-align: right;\n",
       "    }\n",
       "</style>\n",
       "<table border=\"1\" class=\"dataframe\">\n",
       "  <thead>\n",
       "    <tr style=\"text-align: right;\">\n",
       "      <th></th>\n",
       "      <th>total_bill</th>\n",
       "      <th>tip</th>\n",
       "      <th>sex</th>\n",
       "      <th>smoker</th>\n",
       "      <th>day</th>\n",
       "      <th>time</th>\n",
       "      <th>size</th>\n",
       "    </tr>\n",
       "  </thead>\n",
       "  <tbody>\n",
       "    <tr>\n",
       "      <th>0</th>\n",
       "      <td>16.99</td>\n",
       "      <td>1.01</td>\n",
       "      <td>Female</td>\n",
       "      <td>No</td>\n",
       "      <td>Sun</td>\n",
       "      <td>Dinner</td>\n",
       "      <td>2</td>\n",
       "    </tr>\n",
       "    <tr>\n",
       "      <th>1</th>\n",
       "      <td>10.34</td>\n",
       "      <td>1.66</td>\n",
       "      <td>Male</td>\n",
       "      <td>No</td>\n",
       "      <td>Sun</td>\n",
       "      <td>Dinner</td>\n",
       "      <td>3</td>\n",
       "    </tr>\n",
       "    <tr>\n",
       "      <th>2</th>\n",
       "      <td>21.01</td>\n",
       "      <td>3.50</td>\n",
       "      <td>Male</td>\n",
       "      <td>No</td>\n",
       "      <td>Sun</td>\n",
       "      <td>Dinner</td>\n",
       "      <td>3</td>\n",
       "    </tr>\n",
       "    <tr>\n",
       "      <th>3</th>\n",
       "      <td>23.68</td>\n",
       "      <td>3.31</td>\n",
       "      <td>Male</td>\n",
       "      <td>No</td>\n",
       "      <td>Sun</td>\n",
       "      <td>Dinner</td>\n",
       "      <td>2</td>\n",
       "    </tr>\n",
       "    <tr>\n",
       "      <th>4</th>\n",
       "      <td>24.59</td>\n",
       "      <td>3.61</td>\n",
       "      <td>Female</td>\n",
       "      <td>No</td>\n",
       "      <td>Sun</td>\n",
       "      <td>Dinner</td>\n",
       "      <td>4</td>\n",
       "    </tr>\n",
       "    <tr>\n",
       "      <th>...</th>\n",
       "      <td>...</td>\n",
       "      <td>...</td>\n",
       "      <td>...</td>\n",
       "      <td>...</td>\n",
       "      <td>...</td>\n",
       "      <td>...</td>\n",
       "      <td>...</td>\n",
       "    </tr>\n",
       "    <tr>\n",
       "      <th>239</th>\n",
       "      <td>29.03</td>\n",
       "      <td>5.92</td>\n",
       "      <td>Male</td>\n",
       "      <td>No</td>\n",
       "      <td>Sat</td>\n",
       "      <td>Dinner</td>\n",
       "      <td>3</td>\n",
       "    </tr>\n",
       "    <tr>\n",
       "      <th>240</th>\n",
       "      <td>27.18</td>\n",
       "      <td>2.00</td>\n",
       "      <td>Female</td>\n",
       "      <td>Yes</td>\n",
       "      <td>Sat</td>\n",
       "      <td>Dinner</td>\n",
       "      <td>2</td>\n",
       "    </tr>\n",
       "    <tr>\n",
       "      <th>241</th>\n",
       "      <td>22.67</td>\n",
       "      <td>2.00</td>\n",
       "      <td>Male</td>\n",
       "      <td>Yes</td>\n",
       "      <td>Sat</td>\n",
       "      <td>Dinner</td>\n",
       "      <td>2</td>\n",
       "    </tr>\n",
       "    <tr>\n",
       "      <th>242</th>\n",
       "      <td>17.82</td>\n",
       "      <td>1.75</td>\n",
       "      <td>Male</td>\n",
       "      <td>No</td>\n",
       "      <td>Sat</td>\n",
       "      <td>Dinner</td>\n",
       "      <td>2</td>\n",
       "    </tr>\n",
       "    <tr>\n",
       "      <th>243</th>\n",
       "      <td>18.78</td>\n",
       "      <td>3.00</td>\n",
       "      <td>Female</td>\n",
       "      <td>No</td>\n",
       "      <td>Thur</td>\n",
       "      <td>Dinner</td>\n",
       "      <td>2</td>\n",
       "    </tr>\n",
       "  </tbody>\n",
       "</table>\n",
       "<p>244 rows × 7 columns</p>\n",
       "</div>"
      ],
      "text/plain": [
       "     total_bill   tip     sex smoker   day    time  size\n",
       "0         16.99  1.01  Female     No   Sun  Dinner     2\n",
       "1         10.34  1.66    Male     No   Sun  Dinner     3\n",
       "2         21.01  3.50    Male     No   Sun  Dinner     3\n",
       "3         23.68  3.31    Male     No   Sun  Dinner     2\n",
       "4         24.59  3.61  Female     No   Sun  Dinner     4\n",
       "..          ...   ...     ...    ...   ...     ...   ...\n",
       "239       29.03  5.92    Male     No   Sat  Dinner     3\n",
       "240       27.18  2.00  Female    Yes   Sat  Dinner     2\n",
       "241       22.67  2.00    Male    Yes   Sat  Dinner     2\n",
       "242       17.82  1.75    Male     No   Sat  Dinner     2\n",
       "243       18.78  3.00  Female     No  Thur  Dinner     2\n",
       "\n",
       "[244 rows x 7 columns]"
      ]
     },
     "execution_count": 63,
     "metadata": {},
     "output_type": "execute_result"
    }
   ],
   "source": []
  },
  {
   "cell_type": "code",
   "execution_count": 93,
   "metadata": {},
   "outputs": [
    {
     "data": {
      "text/plain": [
       "True"
      ]
     },
     "execution_count": 93,
     "metadata": {},
     "output_type": "execute_result"
    }
   ],
   "source": [
    "tips.size.dtype == \"int\""
   ]
  },
  {
   "cell_type": "code",
   "execution_count": 4,
   "metadata": {},
   "outputs": [
    {
     "data": {
      "text/plain": [
       "True"
      ]
     },
     "execution_count": 4,
     "metadata": {},
     "output_type": "execute_result"
    }
   ],
   "source": [
    "from pandas.api.types import is_numeric_dtype\n",
    "is_numeric_dtype(tips.size)"
   ]
  },
  {
   "cell_type": "code",
   "execution_count": 15,
   "metadata": {},
   "outputs": [
    {
     "data": {
      "text/plain": [
       "False"
      ]
     },
     "execution_count": 15,
     "metadata": {},
     "output_type": "execute_result"
    }
   ],
   "source": [
    "any(tips.apply(is_numeric_dtype))"
   ]
  },
  {
   "cell_type": "code",
   "execution_count": 48,
   "metadata": {},
   "outputs": [
    {
     "data": {
      "text/plain": [
       "False"
      ]
     },
     "execution_count": 48,
     "metadata": {},
     "output_type": "execute_result"
    }
   ],
   "source": [
    "vals=[\"total_bill\",\"smoker\"]\n",
    "not any(tips[vals].apply(is_numeric_dtype))"
   ]
  },
  {
   "cell_type": "code",
   "execution_count": 7,
   "metadata": {},
   "outputs": [],
   "source": [
    "from matplotlib.patches import PathPatch\n",
    "\n",
    "def adjust_box_widths(g, fac):\n",
    "    \"\"\"\n",
    "    Adjust the widths of a seaborn-generated boxplot.\n",
    "    \"\"\"\n",
    "\n",
    "    # iterating through Axes instances\n",
    "    for ax in g.axes:\n",
    "\n",
    "        # iterating through axes artists:\n",
    "        for c in ax.get_children():\n",
    "\n",
    "            # searching for PathPatches\n",
    "            if isinstance(c, PathPatch):\n",
    "                # getting current width of box:\n",
    "                p = c.get_path()\n",
    "                verts = p.vertices\n",
    "                verts_sub = verts[:-1]\n",
    "                xmin = np.min(verts_sub[:, 0])\n",
    "                xmax = np.max(verts_sub[:, 0])\n",
    "                xmid = 0.5*(xmin+xmax)\n",
    "                xhalf = 0.5*(xmax - xmin)\n",
    "\n",
    "                # setting new width of box\n",
    "                xmin_new = xmid-fac*xhalf\n",
    "                xmax_new = xmid+fac*xhalf\n",
    "                verts_sub[verts_sub[:, 0] == xmin, 0] = xmin_new\n",
    "                verts_sub[verts_sub[:, 0] == xmax, 0] = xmax_new\n",
    "\n",
    "                # setting new width of median line\n",
    "                for l in ax.lines:\n",
    "                    if np.all(l.get_xdata() == [xmin, xmax]):\n",
    "                        l.set_xdata([xmin_new, xmax_new])"
   ]
  },
  {
   "cell_type": "code",
   "execution_count": 5,
   "metadata": {},
   "outputs": [
    {
     "data": {
      "text/plain": [
       "<matplotlib.axes._subplots.AxesSubplot at 0x7f343a8bb8d0>"
      ]
     },
     "execution_count": 5,
     "metadata": {},
     "output_type": "execute_result"
    },
    {
     "data": {
      "image/png": "[encoded data removed]",
      "text/plain": [
       "<Figure size 648x648 with 1 Axes>"
      ]
     },
     "metadata": {
      "needs_background": "light"
     },
     "output_type": "display_data"
    }
   ],
   "source": [
    "fig, axes = plt.subplots(figsize=(9,9))\n",
    "palette=dict()\n",
    "palette[\"Yes\"]=\"red\"\n",
    "palette[\"No\"]=\"blue\"\n",
    "sns.boxplot(x=\"day\", y=\"total_bill\", hue=\"smoker\",data=tips, palette=palette)\n"
   ]
  },
  {
   "cell_type": "code",
   "execution_count": 35,
   "metadata": {},
   "outputs": [],
   "source": [
    "tips_json=tips.to_json()"
   ]
  },
  {
   "cell_type": "code",
   "execution_count": 36,
   "metadata": {},
   "outputs": [
    {
     "data": {
      "text/html": [
       "<div>\n",
       "<style scoped>\n",
       "    .dataframe tbody tr th:only-of-type {\n",
       "        vertical-align: middle;\n",
       "    }\n",
       "\n",
       "    .dataframe tbody tr th {\n",
       "        vertical-align: top;\n",
       "    }\n",
       "\n",
       "    .dataframe thead th {\n",
       "        text-align: right;\n",
       "    }\n",
       "</style>\n",
       "<table border=\"1\" class=\"dataframe\">\n",
       "  <thead>\n",
       "    <tr style=\"text-align: right;\">\n",
       "      <th></th>\n",
       "      <th>total_bill</th>\n",
       "      <th>tip</th>\n",
       "      <th>sex</th>\n",
       "      <th>smoker</th>\n",
       "      <th>day</th>\n",
       "      <th>time</th>\n",
       "      <th>size</th>\n",
       "    </tr>\n",
       "  </thead>\n",
       "  <tbody>\n",
       "    <tr>\n",
       "      <th>0</th>\n",
       "      <td>16.99</td>\n",
       "      <td>1.01</td>\n",
       "      <td>Female</td>\n",
       "      <td>No</td>\n",
       "      <td>Sun</td>\n",
       "      <td>Dinner</td>\n",
       "      <td>2</td>\n",
       "    </tr>\n",
       "    <tr>\n",
       "      <th>1</th>\n",
       "      <td>10.34</td>\n",
       "      <td>1.66</td>\n",
       "      <td>Male</td>\n",
       "      <td>No</td>\n",
       "      <td>Sun</td>\n",
       "      <td>Dinner</td>\n",
       "      <td>3</td>\n",
       "    </tr>\n",
       "    <tr>\n",
       "      <th>2</th>\n",
       "      <td>21.01</td>\n",
       "      <td>3.50</td>\n",
       "      <td>Male</td>\n",
       "      <td>No</td>\n",
       "      <td>Sun</td>\n",
       "      <td>Dinner</td>\n",
       "      <td>3</td>\n",
       "    </tr>\n",
       "    <tr>\n",
       "      <th>3</th>\n",
       "      <td>23.68</td>\n",
       "      <td>3.31</td>\n",
       "      <td>Male</td>\n",
       "      <td>No</td>\n",
       "      <td>Sun</td>\n",
       "      <td>Dinner</td>\n",
       "      <td>2</td>\n",
       "    </tr>\n",
       "    <tr>\n",
       "      <th>4</th>\n",
       "      <td>24.59</td>\n",
       "      <td>3.61</td>\n",
       "      <td>Female</td>\n",
       "      <td>No</td>\n",
       "      <td>Sun</td>\n",
       "      <td>Dinner</td>\n",
       "      <td>4</td>\n",
       "    </tr>\n",
       "    <tr>\n",
       "      <th>...</th>\n",
       "      <td>...</td>\n",
       "      <td>...</td>\n",
       "      <td>...</td>\n",
       "      <td>...</td>\n",
       "      <td>...</td>\n",
       "      <td>...</td>\n",
       "      <td>...</td>\n",
       "    </tr>\n",
       "    <tr>\n",
       "      <th>239</th>\n",
       "      <td>29.03</td>\n",
       "      <td>5.92</td>\n",
       "      <td>Male</td>\n",
       "      <td>No</td>\n",
       "      <td>Sat</td>\n",
       "      <td>Dinner</td>\n",
       "      <td>3</td>\n",
       "    </tr>\n",
       "    <tr>\n",
       "      <th>240</th>\n",
       "      <td>27.18</td>\n",
       "      <td>2.00</td>\n",
       "      <td>Female</td>\n",
       "      <td>Yes</td>\n",
       "      <td>Sat</td>\n",
       "      <td>Dinner</td>\n",
       "      <td>2</td>\n",
       "    </tr>\n",
       "    <tr>\n",
       "      <th>241</th>\n",
       "      <td>22.67</td>\n",
       "      <td>2.00</td>\n",
       "      <td>Male</td>\n",
       "      <td>Yes</td>\n",
       "      <td>Sat</td>\n",
       "      <td>Dinner</td>\n",
       "      <td>2</td>\n",
       "    </tr>\n",
       "    <tr>\n",
       "      <th>242</th>\n",
       "      <td>17.82</td>\n",
       "      <td>1.75</td>\n",
       "      <td>Male</td>\n",
       "      <td>No</td>\n",
       "      <td>Sat</td>\n",
       "      <td>Dinner</td>\n",
       "      <td>2</td>\n",
       "    </tr>\n",
       "    <tr>\n",
       "      <th>243</th>\n",
       "      <td>18.78</td>\n",
       "      <td>3.00</td>\n",
       "      <td>Female</td>\n",
       "      <td>No</td>\n",
       "      <td>Thur</td>\n",
       "      <td>Dinner</td>\n",
       "      <td>2</td>\n",
       "    </tr>\n",
       "  </tbody>\n",
       "</table>\n",
       "<p>244 rows × 7 columns</p>\n",
       "</div>"
      ],
      "text/plain": [
       "     total_bill   tip     sex smoker   day    time  size\n",
       "0         16.99  1.01  Female     No   Sun  Dinner     2\n",
       "1         10.34  1.66    Male     No   Sun  Dinner     3\n",
       "2         21.01  3.50    Male     No   Sun  Dinner     3\n",
       "3         23.68  3.31    Male     No   Sun  Dinner     2\n",
       "4         24.59  3.61  Female     No   Sun  Dinner     4\n",
       "..          ...   ...     ...    ...   ...     ...   ...\n",
       "239       29.03  5.92    Male     No   Sat  Dinner     3\n",
       "240       27.18  2.00  Female    Yes   Sat  Dinner     2\n",
       "241       22.67  2.00    Male    Yes   Sat  Dinner     2\n",
       "242       17.82  1.75    Male     No   Sat  Dinner     2\n",
       "243       18.78  3.00  Female     No  Thur  Dinner     2\n",
       "\n",
       "[244 rows x 7 columns]"
      ]
     },
     "execution_count": 36,
     "metadata": {},
     "output_type": "execute_result"
    }
   ],
   "source": [
    "tips=pd.read_json(tips_json)"
   ]
  },
  {
   "cell_type": "code",
   "execution_count": 37,
   "metadata": {},
   "outputs": [
    {
     "data": {
      "text/plain": [
       "total_bill     float64\n",
       "tip            float64\n",
       "sex           category\n",
       "smoker        category\n",
       "day           category\n",
       "time          category\n",
       "size             int64\n",
       "dtype: object"
      ]
     },
     "execution_count": 37,
     "metadata": {},
     "output_type": "execute_result"
    }
   ],
   "source": [
    "tips.dtypes"
   ]
  },
  {
   "cell_type": "code",
   "execution_count": 52,
   "metadata": {},
   "outputs": [
    {
     "data": {
      "text/plain": [
       "False"
      ]
     },
     "execution_count": 52,
     "metadata": {},
     "output_type": "execute_result"
    }
   ],
   "source": [
    "vals=[\"smoker\",\"tip\",\"day\"]\n",
    "is_numeric_dtype(tips[vals])"
   ]
  },
  {
   "cell_type": "code",
   "execution_count": 54,
   "metadata": {},
   "outputs": [
    {
     "data": {
      "text/plain": [
       "smoker    False\n",
       "tip        True\n",
       "day       False\n",
       "dtype: bool"
      ]
     },
     "execution_count": 54,
     "metadata": {},
     "output_type": "execute_result"
    }
   ],
   "source": [
    "tips[vals].dtypes.apply(is_numeric_dtype)"
   ]
  },
  {
   "cell_type": "code",
   "execution_count": 6,
   "metadata": {},
   "outputs": [],
   "source": [
    "ela=[1,2,3,4]\n",
    "ela=ela+[None]"
   ]
  },
  {
   "cell_type": "code",
   "execution_count": 7,
   "metadata": {},
   "outputs": [],
   "source": [
    "ela.remove(None)"
   ]
  },
  {
   "cell_type": "code",
   "execution_count": 8,
   "metadata": {},
   "outputs": [
    {
     "data": {
      "text/plain": [
       "[1, 2, 3, 4]"
      ]
     },
     "execution_count": 8,
     "metadata": {},
     "output_type": "execute_result"
    }
   ],
   "source": [
    "ela"
   ]
  },
  {
   "cell_type": "code",
   "execution_count": null,
   "metadata": {},
   "outputs": [],
   "source": []
  }
 ],
 "metadata": {
  "kernelspec": {
   "display_name": "Python 3",
   "language": "python",
   "name": "python3"
  },
  "language_info": {
   "codemirror_mode": {
    "name": "ipython",
    "version": 3
   },
   "file_extension": ".py",
   "mimetype": "text/x-python",
   "name": "python",
   "nbconvert_exporter": "python",
   "pygments_lexer": "ipython3",
   "version": "3.7.3"
  }
 },
 "nbformat": 4,
 "nbformat_minor": 4
}
