{
 "cells": [
  {
   "cell_type": "code",
   "execution_count": 1,
   "metadata": {},
   "outputs": [],
   "source": [
    "inputfile=\"../../tmp/all.results.tsv\""
   ]
  },
  {
   "cell_type": "code",
   "execution_count": 17,
   "metadata": {},
   "outputs": [],
   "source": [
    "import pandas as pd\n",
    "import numpy as np\n",
    "import matplotlib\n",
    "import matplotlib.pylab as plt\n",
    "import seaborn as sns\n",
    "from scipy.cluster.hierarchy import fcluster\n",
    "import scipy.cluster.hierarchy as sch\n",
    "import scipy.spatial as scs\n",
    "from scipy import stats"
   ]
  },
  {
   "cell_type": "code",
   "execution_count": 9,
   "metadata": {},
   "outputs": [],
   "source": [
    "df=pd.read_csv(inputfile,sep=\"\\t\")\n",
    "df=df[:50]\n"
   ]
  },
  {
   "cell_type": "code",
   "execution_count": 10,
   "metadata": {},
   "outputs": [],
   "source": [
    "data_array=df.values\n",
    "data_array_=df.transpose().values\n",
    "labels=df.columns.tolist()"
   ]
  },
  {
   "cell_type": "code",
   "execution_count": 11,
   "metadata": {},
   "outputs": [],
   "source": [
    "rows=df.index.tolist()\n",
    "\n",
    "\n",
    "# np = optional_imports.get_module(\"numpy\")\n",
    "# scp = optional_imports.get_module(\"scipy\")\n",
    "# sch = optional_imports.get_module(\"scipy.cluster.hierarchy\")\n",
    "# scs = optional_imports.get_module(\"scipy.spatial\")\n",
    "\n",
    "#distfun = scs.distance.pdist\n",
    "#linkagefun= lambda x: sch.linkage(x, \"complete\")\n"
   ]
  },
  {
   "cell_type": "code",
   "execution_count": 15,
   "metadata": {},
   "outputs": [
    {
     "data": {
      "text/html": [
       "<div>\n",
       "<style scoped>\n",
       "    .dataframe tbody tr th:only-of-type {\n",
       "        vertical-align: middle;\n",
       "    }\n",
       "\n",
       "    .dataframe tbody tr th {\n",
       "        vertical-align: top;\n",
       "    }\n",
       "\n",
       "    .dataframe thead th {\n",
       "        text-align: right;\n",
       "    }\n",
       "</style>\n",
       "<table border=\"1\" class=\"dataframe\">\n",
       "  <thead>\n",
       "    <tr style=\"text-align: right;\">\n",
       "      <th></th>\n",
       "      <th>S_001-F_LeTo-L____wt-__0-____-REP_1</th>\n",
       "      <th>S_002-F_LeTo-L____wt-__0-____-REP_2</th>\n",
       "      <th>S_003-F_LeTo-L____wt-__0-____-REP_3</th>\n",
       "      <th>S_004-F_LeTo-L____wt-__1-____-REP_1</th>\n",
       "      <th>S_005-F_LeTo-L____wt-__1-____-REP_2</th>\n",
       "      <th>S_006-F_LeTo-L____wt-__1-____-REP_3</th>\n",
       "      <th>S_007-F_LeTo-L____wt-__2-____-REP_1</th>\n",
       "      <th>S_008-F_LeTo-L____wt-__2-____-REP_2</th>\n",
       "      <th>S_009-F_LeTo-L____wt-__2-____-REP_3</th>\n",
       "      <th>S_010-F_LeTo-L____wt-__4-____-REP_1</th>\n",
       "      <th>...</th>\n",
       "      <th>S_014-F_LeTo-L____wt-__6-____-REP_2</th>\n",
       "      <th>S_015-F_LeTo-L____wt-__6-____-REP_3</th>\n",
       "      <th>S_016-F_LeTo-L____wt-__8-____-REP_1</th>\n",
       "      <th>S_017-F_LeTo-L____wt-__8-____-REP_2</th>\n",
       "      <th>S_018-F_LeTo-L____wt-__8-____-REP_3</th>\n",
       "      <th>S_019-F_LeTo-L____wt-_14-____-REP_1</th>\n",
       "      <th>S_020-F_LeTo-L____wt-_14-____-REP_2</th>\n",
       "      <th>S_021-F_LeTo-L____wt-_14-____-REP_3</th>\n",
       "      <th>stdev</th>\n",
       "      <th>mean</th>\n",
       "    </tr>\n",
       "  </thead>\n",
       "  <tbody>\n",
       "    <tr>\n",
       "      <th>ENSG00000008311</th>\n",
       "      <td>2.305450</td>\n",
       "      <td>2.390052</td>\n",
       "      <td>2.411332</td>\n",
       "      <td>-0.289530</td>\n",
       "      <td>-0.304053</td>\n",
       "      <td>-0.348159</td>\n",
       "      <td>-0.373184</td>\n",
       "      <td>-0.375666</td>\n",
       "      <td>-0.363008</td>\n",
       "      <td>-0.298242</td>\n",
       "      <td>...</td>\n",
       "      <td>-0.372406</td>\n",
       "      <td>-0.378289</td>\n",
       "      <td>-0.413791</td>\n",
       "      <td>-0.427386</td>\n",
       "      <td>-0.465656</td>\n",
       "      <td>-0.599279</td>\n",
       "      <td>-0.607597</td>\n",
       "      <td>-0.601202</td>\n",
       "      <td>8591.405951</td>\n",
       "      <td>6592.262109</td>\n",
       "    </tr>\n",
       "    <tr>\n",
       "      <th>ENSG00000111186</th>\n",
       "      <td>-0.866210</td>\n",
       "      <td>-0.844004</td>\n",
       "      <td>-0.865718</td>\n",
       "      <td>2.374369</td>\n",
       "      <td>2.181531</td>\n",
       "      <td>2.110384</td>\n",
       "      <td>0.400954</td>\n",
       "      <td>0.280751</td>\n",
       "      <td>0.267896</td>\n",
       "      <td>-0.645604</td>\n",
       "      <td>...</td>\n",
       "      <td>-0.538234</td>\n",
       "      <td>-0.564542</td>\n",
       "      <td>-0.183992</td>\n",
       "      <td>-0.166766</td>\n",
       "      <td>-0.176275</td>\n",
       "      <td>-0.301515</td>\n",
       "      <td>-0.374391</td>\n",
       "      <td>-0.306566</td>\n",
       "      <td>1296.075852</td>\n",
       "      <td>1206.953030</td>\n",
       "    </tr>\n",
       "    <tr>\n",
       "      <th>ENSG00000116729</th>\n",
       "      <td>-2.065439</td>\n",
       "      <td>-2.056391</td>\n",
       "      <td>-2.074050</td>\n",
       "      <td>-0.132108</td>\n",
       "      <td>-0.169401</td>\n",
       "      <td>-0.178276</td>\n",
       "      <td>0.259158</td>\n",
       "      <td>0.323694</td>\n",
       "      <td>0.265654</td>\n",
       "      <td>0.988138</td>\n",
       "      <td>...</td>\n",
       "      <td>1.360360</td>\n",
       "      <td>0.924505</td>\n",
       "      <td>0.525200</td>\n",
       "      <td>0.574148</td>\n",
       "      <td>0.421515</td>\n",
       "      <td>-0.027993</td>\n",
       "      <td>-0.469584</td>\n",
       "      <td>0.106734</td>\n",
       "      <td>2155.942828</td>\n",
       "      <td>4571.909989</td>\n",
       "    </tr>\n",
       "    <tr>\n",
       "      <th>ENSG00000164458</th>\n",
       "      <td>-0.595527</td>\n",
       "      <td>-0.593441</td>\n",
       "      <td>-0.592873</td>\n",
       "      <td>0.727562</td>\n",
       "      <td>0.921151</td>\n",
       "      <td>0.779519</td>\n",
       "      <td>1.864652</td>\n",
       "      <td>2.059934</td>\n",
       "      <td>2.221253</td>\n",
       "      <td>-0.595307</td>\n",
       "      <td>...</td>\n",
       "      <td>-0.599796</td>\n",
       "      <td>-0.599560</td>\n",
       "      <td>-0.601004</td>\n",
       "      <td>-0.600545</td>\n",
       "      <td>-0.599930</td>\n",
       "      <td>-0.601004</td>\n",
       "      <td>-0.601004</td>\n",
       "      <td>-0.601004</td>\n",
       "      <td>3439.952789</td>\n",
       "      <td>2067.424299</td>\n",
       "    </tr>\n",
       "    <tr>\n",
       "      <th>ENSG00000166073</th>\n",
       "      <td>2.308916</td>\n",
       "      <td>2.390667</td>\n",
       "      <td>2.380129</td>\n",
       "      <td>-0.392065</td>\n",
       "      <td>-0.387287</td>\n",
       "      <td>-0.389180</td>\n",
       "      <td>-0.249553</td>\n",
       "      <td>-0.239230</td>\n",
       "      <td>-0.222021</td>\n",
       "      <td>-0.400685</td>\n",
       "      <td>...</td>\n",
       "      <td>-0.474058</td>\n",
       "      <td>-0.486456</td>\n",
       "      <td>-0.521180</td>\n",
       "      <td>-0.515682</td>\n",
       "      <td>-0.518231</td>\n",
       "      <td>-0.469475</td>\n",
       "      <td>-0.487198</td>\n",
       "      <td>-0.477851</td>\n",
       "      <td>4188.380682</td>\n",
       "      <td>2335.697244</td>\n",
       "    </tr>\n",
       "  </tbody>\n",
       "</table>\n",
       "<p>5 rows × 23 columns</p>\n",
       "</div>"
      ],
      "text/plain": [
       "                 S_001-F_LeTo-L____wt-__0-____-REP_1  \\\n",
       "ENSG00000008311                             2.305450   \n",
       "ENSG00000111186                            -0.866210   \n",
       "ENSG00000116729                            -2.065439   \n",
       "ENSG00000164458                            -0.595527   \n",
       "ENSG00000166073                             2.308916   \n",
       "\n",
       "                 S_002-F_LeTo-L____wt-__0-____-REP_2  \\\n",
       "ENSG00000008311                             2.390052   \n",
       "ENSG00000111186                            -0.844004   \n",
       "ENSG00000116729                            -2.056391   \n",
       "ENSG00000164458                            -0.593441   \n",
       "ENSG00000166073                             2.390667   \n",
       "\n",
       "                 S_003-F_LeTo-L____wt-__0-____-REP_3  \\\n",
       "ENSG00000008311                             2.411332   \n",
       "ENSG00000111186                            -0.865718   \n",
       "ENSG00000116729                            -2.074050   \n",
       "ENSG00000164458                            -0.592873   \n",
       "ENSG00000166073                             2.380129   \n",
       "\n",
       "                 S_004-F_LeTo-L____wt-__1-____-REP_1  \\\n",
       "ENSG00000008311                            -0.289530   \n",
       "ENSG00000111186                             2.374369   \n",
       "ENSG00000116729                            -0.132108   \n",
       "ENSG00000164458                             0.727562   \n",
       "ENSG00000166073                            -0.392065   \n",
       "\n",
       "                 S_005-F_LeTo-L____wt-__1-____-REP_2  \\\n",
       "ENSG00000008311                            -0.304053   \n",
       "ENSG00000111186                             2.181531   \n",
       "ENSG00000116729                            -0.169401   \n",
       "ENSG00000164458                             0.921151   \n",
       "ENSG00000166073                            -0.387287   \n",
       "\n",
       "                 S_006-F_LeTo-L____wt-__1-____-REP_3  \\\n",
       "ENSG00000008311                            -0.348159   \n",
       "ENSG00000111186                             2.110384   \n",
       "ENSG00000116729                            -0.178276   \n",
       "ENSG00000164458                             0.779519   \n",
       "ENSG00000166073                            -0.389180   \n",
       "\n",
       "                 S_007-F_LeTo-L____wt-__2-____-REP_1  \\\n",
       "ENSG00000008311                            -0.373184   \n",
       "ENSG00000111186                             0.400954   \n",
       "ENSG00000116729                             0.259158   \n",
       "ENSG00000164458                             1.864652   \n",
       "ENSG00000166073                            -0.249553   \n",
       "\n",
       "                 S_008-F_LeTo-L____wt-__2-____-REP_2  \\\n",
       "ENSG00000008311                            -0.375666   \n",
       "ENSG00000111186                             0.280751   \n",
       "ENSG00000116729                             0.323694   \n",
       "ENSG00000164458                             2.059934   \n",
       "ENSG00000166073                            -0.239230   \n",
       "\n",
       "                 S_009-F_LeTo-L____wt-__2-____-REP_3  \\\n",
       "ENSG00000008311                            -0.363008   \n",
       "ENSG00000111186                             0.267896   \n",
       "ENSG00000116729                             0.265654   \n",
       "ENSG00000164458                             2.221253   \n",
       "ENSG00000166073                            -0.222021   \n",
       "\n",
       "                 S_010-F_LeTo-L____wt-__4-____-REP_1  ...  \\\n",
       "ENSG00000008311                            -0.298242  ...   \n",
       "ENSG00000111186                            -0.645604  ...   \n",
       "ENSG00000116729                             0.988138  ...   \n",
       "ENSG00000164458                            -0.595307  ...   \n",
       "ENSG00000166073                            -0.400685  ...   \n",
       "\n",
       "                 S_014-F_LeTo-L____wt-__6-____-REP_2  \\\n",
       "ENSG00000008311                            -0.372406   \n",
       "ENSG00000111186                            -0.538234   \n",
       "ENSG00000116729                             1.360360   \n",
       "ENSG00000164458                            -0.599796   \n",
       "ENSG00000166073                            -0.474058   \n",
       "\n",
       "                 S_015-F_LeTo-L____wt-__6-____-REP_3  \\\n",
       "ENSG00000008311                            -0.378289   \n",
       "ENSG00000111186                            -0.564542   \n",
       "ENSG00000116729                             0.924505   \n",
       "ENSG00000164458                            -0.599560   \n",
       "ENSG00000166073                            -0.486456   \n",
       "\n",
       "                 S_016-F_LeTo-L____wt-__8-____-REP_1  \\\n",
       "ENSG00000008311                            -0.413791   \n",
       "ENSG00000111186                            -0.183992   \n",
       "ENSG00000116729                             0.525200   \n",
       "ENSG00000164458                            -0.601004   \n",
       "ENSG00000166073                            -0.521180   \n",
       "\n",
       "                 S_017-F_LeTo-L____wt-__8-____-REP_2  \\\n",
       "ENSG00000008311                            -0.427386   \n",
       "ENSG00000111186                            -0.166766   \n",
       "ENSG00000116729                             0.574148   \n",
       "ENSG00000164458                            -0.600545   \n",
       "ENSG00000166073                            -0.515682   \n",
       "\n",
       "                 S_018-F_LeTo-L____wt-__8-____-REP_3  \\\n",
       "ENSG00000008311                            -0.465656   \n",
       "ENSG00000111186                            -0.176275   \n",
       "ENSG00000116729                             0.421515   \n",
       "ENSG00000164458                            -0.599930   \n",
       "ENSG00000166073                            -0.518231   \n",
       "\n",
       "                 S_019-F_LeTo-L____wt-_14-____-REP_1  \\\n",
       "ENSG00000008311                            -0.599279   \n",
       "ENSG00000111186                            -0.301515   \n",
       "ENSG00000116729                            -0.027993   \n",
       "ENSG00000164458                            -0.601004   \n",
       "ENSG00000166073                            -0.469475   \n",
       "\n",
       "                 S_020-F_LeTo-L____wt-_14-____-REP_2  \\\n",
       "ENSG00000008311                            -0.607597   \n",
       "ENSG00000111186                            -0.374391   \n",
       "ENSG00000116729                            -0.469584   \n",
       "ENSG00000164458                            -0.601004   \n",
       "ENSG00000166073                            -0.487198   \n",
       "\n",
       "                 S_021-F_LeTo-L____wt-_14-____-REP_3        stdev         mean  \n",
       "ENSG00000008311                            -0.601202  8591.405951  6592.262109  \n",
       "ENSG00000111186                            -0.306566  1296.075852  1206.953030  \n",
       "ENSG00000116729                             0.106734  2155.942828  4571.909989  \n",
       "ENSG00000164458                            -0.601004  3439.952789  2067.424299  \n",
       "ENSG00000166073                            -0.477851  4188.380682  2335.697244  \n",
       "\n",
       "[5 rows x 23 columns]"
      ]
     },
     "execution_count": 15,
     "metadata": {},
     "output_type": "execute_result"
    }
   ],
   "source": [
    "tmp=df.copy()\n",
    "cols=tmp.columns.tolist()\n",
    "tmp[\"stdev\"]=tmp.std(axis=1)\n",
    "tmp[\"mean\"]=tmp.mean(axis=1)\n",
    "for c in cols:\n",
    "    tmp[c]=( tmp[c]-tmp[\"mean\"] ) / tmp[\"stdev\"]\n",
    "tmp.head()\n"
   ]
  },
  {
   "cell_type": "code",
   "execution_count": 25,
   "metadata": {},
   "outputs": [
    {
     "data": {
      "text/html": [
       "<div>\n",
       "<style scoped>\n",
       "    .dataframe tbody tr th:only-of-type {\n",
       "        vertical-align: middle;\n",
       "    }\n",
       "\n",
       "    .dataframe tbody tr th {\n",
       "        vertical-align: top;\n",
       "    }\n",
       "\n",
       "    .dataframe thead th {\n",
       "        text-align: right;\n",
       "    }\n",
       "</style>\n",
       "<table border=\"1\" class=\"dataframe\">\n",
       "  <thead>\n",
       "    <tr style=\"text-align: right;\">\n",
       "      <th></th>\n",
       "      <th>S_001-F_LeTo-L____wt-__0-____-REP_1</th>\n",
       "      <th>S_002-F_LeTo-L____wt-__0-____-REP_2</th>\n",
       "      <th>S_003-F_LeTo-L____wt-__0-____-REP_3</th>\n",
       "      <th>S_004-F_LeTo-L____wt-__1-____-REP_1</th>\n",
       "      <th>S_005-F_LeTo-L____wt-__1-____-REP_2</th>\n",
       "      <th>S_006-F_LeTo-L____wt-__1-____-REP_3</th>\n",
       "      <th>S_007-F_LeTo-L____wt-__2-____-REP_1</th>\n",
       "      <th>S_008-F_LeTo-L____wt-__2-____-REP_2</th>\n",
       "      <th>S_009-F_LeTo-L____wt-__2-____-REP_3</th>\n",
       "      <th>S_010-F_LeTo-L____wt-__4-____-REP_1</th>\n",
       "      <th>...</th>\n",
       "      <th>S_012-F_LeTo-L____wt-__4-____-REP_3</th>\n",
       "      <th>S_013-F_LeTo-L____wt-__6-____-REP_1</th>\n",
       "      <th>S_014-F_LeTo-L____wt-__6-____-REP_2</th>\n",
       "      <th>S_015-F_LeTo-L____wt-__6-____-REP_3</th>\n",
       "      <th>S_016-F_LeTo-L____wt-__8-____-REP_1</th>\n",
       "      <th>S_017-F_LeTo-L____wt-__8-____-REP_2</th>\n",
       "      <th>S_018-F_LeTo-L____wt-__8-____-REP_3</th>\n",
       "      <th>S_019-F_LeTo-L____wt-_14-____-REP_1</th>\n",
       "      <th>S_020-F_LeTo-L____wt-_14-____-REP_2</th>\n",
       "      <th>S_021-F_LeTo-L____wt-_14-____-REP_3</th>\n",
       "    </tr>\n",
       "  </thead>\n",
       "  <tbody>\n",
       "    <tr>\n",
       "      <th>ENSG00000008311</th>\n",
       "      <td>2.316531</td>\n",
       "      <td>2.401133</td>\n",
       "      <td>2.422412</td>\n",
       "      <td>-0.278450</td>\n",
       "      <td>-0.292973</td>\n",
       "      <td>-0.337079</td>\n",
       "      <td>-0.362103</td>\n",
       "      <td>-0.364585</td>\n",
       "      <td>-0.351928</td>\n",
       "      <td>-0.287161</td>\n",
       "      <td>...</td>\n",
       "      <td>-0.356800</td>\n",
       "      <td>-0.366501</td>\n",
       "      <td>-0.361325</td>\n",
       "      <td>-0.367208</td>\n",
       "      <td>-0.402710</td>\n",
       "      <td>-0.416306</td>\n",
       "      <td>-0.454576</td>\n",
       "      <td>-0.588198</td>\n",
       "      <td>-0.596516</td>\n",
       "      <td>-0.590121</td>\n",
       "    </tr>\n",
       "    <tr>\n",
       "      <th>ENSG00000111186</th>\n",
       "      <td>-0.862936</td>\n",
       "      <td>-0.840730</td>\n",
       "      <td>-0.862443</td>\n",
       "      <td>2.377643</td>\n",
       "      <td>2.184806</td>\n",
       "      <td>2.113659</td>\n",
       "      <td>0.404228</td>\n",
       "      <td>0.284026</td>\n",
       "      <td>0.271170</td>\n",
       "      <td>-0.642329</td>\n",
       "      <td>...</td>\n",
       "      <td>-0.685101</td>\n",
       "      <td>-0.447971</td>\n",
       "      <td>-0.534959</td>\n",
       "      <td>-0.561267</td>\n",
       "      <td>-0.180717</td>\n",
       "      <td>-0.163492</td>\n",
       "      <td>-0.173000</td>\n",
       "      <td>-0.298241</td>\n",
       "      <td>-0.371116</td>\n",
       "      <td>-0.303292</td>\n",
       "    </tr>\n",
       "    <tr>\n",
       "      <th>ENSG00000116729</th>\n",
       "      <td>-2.118802</td>\n",
       "      <td>-2.109754</td>\n",
       "      <td>-2.127412</td>\n",
       "      <td>-0.185471</td>\n",
       "      <td>-0.222764</td>\n",
       "      <td>-0.231639</td>\n",
       "      <td>0.205795</td>\n",
       "      <td>0.270332</td>\n",
       "      <td>0.212292</td>\n",
       "      <td>0.934775</td>\n",
       "      <td>...</td>\n",
       "      <td>0.790728</td>\n",
       "      <td>1.005215</td>\n",
       "      <td>1.306998</td>\n",
       "      <td>0.871143</td>\n",
       "      <td>0.471837</td>\n",
       "      <td>0.520786</td>\n",
       "      <td>0.368152</td>\n",
       "      <td>-0.081355</td>\n",
       "      <td>-0.522946</td>\n",
       "      <td>0.053372</td>\n",
       "    </tr>\n",
       "    <tr>\n",
       "      <th>ENSG00000164458</th>\n",
       "      <td>-0.576527</td>\n",
       "      <td>-0.574441</td>\n",
       "      <td>-0.573873</td>\n",
       "      <td>0.746562</td>\n",
       "      <td>0.940151</td>\n",
       "      <td>0.798519</td>\n",
       "      <td>1.883652</td>\n",
       "      <td>2.078934</td>\n",
       "      <td>2.240253</td>\n",
       "      <td>-0.576307</td>\n",
       "      <td>...</td>\n",
       "      <td>-0.579099</td>\n",
       "      <td>-0.578595</td>\n",
       "      <td>-0.580796</td>\n",
       "      <td>-0.580560</td>\n",
       "      <td>-0.582004</td>\n",
       "      <td>-0.581545</td>\n",
       "      <td>-0.580930</td>\n",
       "      <td>-0.582004</td>\n",
       "      <td>-0.582004</td>\n",
       "      <td>-0.582004</td>\n",
       "    </tr>\n",
       "    <tr>\n",
       "      <th>ENSG00000166073</th>\n",
       "      <td>2.329980</td>\n",
       "      <td>2.411731</td>\n",
       "      <td>2.401193</td>\n",
       "      <td>-0.371001</td>\n",
       "      <td>-0.366223</td>\n",
       "      <td>-0.368116</td>\n",
       "      <td>-0.228489</td>\n",
       "      <td>-0.218166</td>\n",
       "      <td>-0.200957</td>\n",
       "      <td>-0.379622</td>\n",
       "      <td>...</td>\n",
       "      <td>-0.386294</td>\n",
       "      <td>-0.457621</td>\n",
       "      <td>-0.452994</td>\n",
       "      <td>-0.465392</td>\n",
       "      <td>-0.500117</td>\n",
       "      <td>-0.494618</td>\n",
       "      <td>-0.497167</td>\n",
       "      <td>-0.448411</td>\n",
       "      <td>-0.466134</td>\n",
       "      <td>-0.456787</td>\n",
       "    </tr>\n",
       "  </tbody>\n",
       "</table>\n",
       "<p>5 rows × 21 columns</p>\n",
       "</div>"
      ],
      "text/plain": [
       "                 S_001-F_LeTo-L____wt-__0-____-REP_1  \\\n",
       "ENSG00000008311                             2.316531   \n",
       "ENSG00000111186                            -0.862936   \n",
       "ENSG00000116729                            -2.118802   \n",
       "ENSG00000164458                            -0.576527   \n",
       "ENSG00000166073                             2.329980   \n",
       "\n",
       "                 S_002-F_LeTo-L____wt-__0-____-REP_2  \\\n",
       "ENSG00000008311                             2.401133   \n",
       "ENSG00000111186                            -0.840730   \n",
       "ENSG00000116729                            -2.109754   \n",
       "ENSG00000164458                            -0.574441   \n",
       "ENSG00000166073                             2.411731   \n",
       "\n",
       "                 S_003-F_LeTo-L____wt-__0-____-REP_3  \\\n",
       "ENSG00000008311                             2.422412   \n",
       "ENSG00000111186                            -0.862443   \n",
       "ENSG00000116729                            -2.127412   \n",
       "ENSG00000164458                            -0.573873   \n",
       "ENSG00000166073                             2.401193   \n",
       "\n",
       "                 S_004-F_LeTo-L____wt-__1-____-REP_1  \\\n",
       "ENSG00000008311                            -0.278450   \n",
       "ENSG00000111186                             2.377643   \n",
       "ENSG00000116729                            -0.185471   \n",
       "ENSG00000164458                             0.746562   \n",
       "ENSG00000166073                            -0.371001   \n",
       "\n",
       "                 S_005-F_LeTo-L____wt-__1-____-REP_2  \\\n",
       "ENSG00000008311                            -0.292973   \n",
       "ENSG00000111186                             2.184806   \n",
       "ENSG00000116729                            -0.222764   \n",
       "ENSG00000164458                             0.940151   \n",
       "ENSG00000166073                            -0.366223   \n",
       "\n",
       "                 S_006-F_LeTo-L____wt-__1-____-REP_3  \\\n",
       "ENSG00000008311                            -0.337079   \n",
       "ENSG00000111186                             2.113659   \n",
       "ENSG00000116729                            -0.231639   \n",
       "ENSG00000164458                             0.798519   \n",
       "ENSG00000166073                            -0.368116   \n",
       "\n",
       "                 S_007-F_LeTo-L____wt-__2-____-REP_1  \\\n",
       "ENSG00000008311                            -0.362103   \n",
       "ENSG00000111186                             0.404228   \n",
       "ENSG00000116729                             0.205795   \n",
       "ENSG00000164458                             1.883652   \n",
       "ENSG00000166073                            -0.228489   \n",
       "\n",
       "                 S_008-F_LeTo-L____wt-__2-____-REP_2  \\\n",
       "ENSG00000008311                            -0.364585   \n",
       "ENSG00000111186                             0.284026   \n",
       "ENSG00000116729                             0.270332   \n",
       "ENSG00000164458                             2.078934   \n",
       "ENSG00000166073                            -0.218166   \n",
       "\n",
       "                 S_009-F_LeTo-L____wt-__2-____-REP_3  \\\n",
       "ENSG00000008311                            -0.351928   \n",
       "ENSG00000111186                             0.271170   \n",
       "ENSG00000116729                             0.212292   \n",
       "ENSG00000164458                             2.240253   \n",
       "ENSG00000166073                            -0.200957   \n",
       "\n",
       "                 S_010-F_LeTo-L____wt-__4-____-REP_1  ...  \\\n",
       "ENSG00000008311                            -0.287161  ...   \n",
       "ENSG00000111186                            -0.642329  ...   \n",
       "ENSG00000116729                             0.934775  ...   \n",
       "ENSG00000164458                            -0.576307  ...   \n",
       "ENSG00000166073                            -0.379622  ...   \n",
       "\n",
       "                 S_012-F_LeTo-L____wt-__4-____-REP_3  \\\n",
       "ENSG00000008311                            -0.356800   \n",
       "ENSG00000111186                            -0.685101   \n",
       "ENSG00000116729                             0.790728   \n",
       "ENSG00000164458                            -0.579099   \n",
       "ENSG00000166073                            -0.386294   \n",
       "\n",
       "                 S_013-F_LeTo-L____wt-__6-____-REP_1  \\\n",
       "ENSG00000008311                            -0.366501   \n",
       "ENSG00000111186                            -0.447971   \n",
       "ENSG00000116729                             1.005215   \n",
       "ENSG00000164458                            -0.578595   \n",
       "ENSG00000166073                            -0.457621   \n",
       "\n",
       "                 S_014-F_LeTo-L____wt-__6-____-REP_2  \\\n",
       "ENSG00000008311                            -0.361325   \n",
       "ENSG00000111186                            -0.534959   \n",
       "ENSG00000116729                             1.306998   \n",
       "ENSG00000164458                            -0.580796   \n",
       "ENSG00000166073                            -0.452994   \n",
       "\n",
       "                 S_015-F_LeTo-L____wt-__6-____-REP_3  \\\n",
       "ENSG00000008311                            -0.367208   \n",
       "ENSG00000111186                            -0.561267   \n",
       "ENSG00000116729                             0.871143   \n",
       "ENSG00000164458                            -0.580560   \n",
       "ENSG00000166073                            -0.465392   \n",
       "\n",
       "                 S_016-F_LeTo-L____wt-__8-____-REP_1  \\\n",
       "ENSG00000008311                            -0.402710   \n",
       "ENSG00000111186                            -0.180717   \n",
       "ENSG00000116729                             0.471837   \n",
       "ENSG00000164458                            -0.582004   \n",
       "ENSG00000166073                            -0.500117   \n",
       "\n",
       "                 S_017-F_LeTo-L____wt-__8-____-REP_2  \\\n",
       "ENSG00000008311                            -0.416306   \n",
       "ENSG00000111186                            -0.163492   \n",
       "ENSG00000116729                             0.520786   \n",
       "ENSG00000164458                            -0.581545   \n",
       "ENSG00000166073                            -0.494618   \n",
       "\n",
       "                 S_018-F_LeTo-L____wt-__8-____-REP_3  \\\n",
       "ENSG00000008311                            -0.454576   \n",
       "ENSG00000111186                            -0.173000   \n",
       "ENSG00000116729                             0.368152   \n",
       "ENSG00000164458                            -0.580930   \n",
       "ENSG00000166073                            -0.497167   \n",
       "\n",
       "                 S_019-F_LeTo-L____wt-_14-____-REP_1  \\\n",
       "ENSG00000008311                            -0.588198   \n",
       "ENSG00000111186                            -0.298241   \n",
       "ENSG00000116729                            -0.081355   \n",
       "ENSG00000164458                            -0.582004   \n",
       "ENSG00000166073                            -0.448411   \n",
       "\n",
       "                 S_020-F_LeTo-L____wt-_14-____-REP_2  \\\n",
       "ENSG00000008311                            -0.596516   \n",
       "ENSG00000111186                            -0.371116   \n",
       "ENSG00000116729                            -0.522946   \n",
       "ENSG00000164458                            -0.582004   \n",
       "ENSG00000166073                            -0.466134   \n",
       "\n",
       "                 S_021-F_LeTo-L____wt-_14-____-REP_3  \n",
       "ENSG00000008311                            -0.590121  \n",
       "ENSG00000111186                            -0.303292  \n",
       "ENSG00000116729                             0.053372  \n",
       "ENSG00000164458                            -0.582004  \n",
       "ENSG00000166073                            -0.456787  \n",
       "\n",
       "[5 rows x 21 columns]"
      ]
     },
     "execution_count": 25,
     "metadata": {},
     "output_type": "execute_result"
    }
   ],
   "source": [
    "tmp=df.copy()\n",
    "# 1 rows\n",
    "# 0 cols\n",
    "tmp=pd.DataFrame(stats.zscore(tmp, axis=1, ddof=1),columns=tmp.columns.tolist(), index=tmp.index.tolist())\n",
    "tmp.head()"
   ]
  },
  {
   "cell_type": "code",
   "execution_count": 26,
   "metadata": {},
   "outputs": [
    {
     "data": {
      "application/vnd.plotly.v1+json": {
       "config": {
        "plotlyServerURL": "https://plot.ly"
       },
       "data": [
        {
         "hoverinfo": "text",
         "marker": {
          "color": "rgb(0,116,217)"
         },
         "mode": "lines",
         "type": "scatter",
         "x": [
          15,
          15,
          25,
          25
         ],
         "xaxis": "x",
         "y": [
          0,
          1915.4866736960184,
          1915.4866736960184,
          0
         ],
         "yaxis": "y2"
        },
        {
         "hoverinfo": "text",
         "marker": {
          "color": "rgb(0,116,217)"
         },
         "mode": "lines",
         "type": "scatter",
         "x": [
          5,
          5,
          20,
          20
         ],
         "xaxis": "x",
         "y": [
          0,
          4893.261926107737,
          4893.261926107737,
          1915.4866736960184
         ],
         "yaxis": "y2"
        },
        {
         "hoverinfo": "text",
         "marker": {
          "color": "rgb(0,116,217)"
         },
         "mode": "lines",
         "type": "scatter",
         "x": [
          45,
          45,
          55,
          55
         ],
         "xaxis": "x",
         "y": [
          0,
          1697.6190455589276,
          1697.6190455589276,
          0
         ],
         "yaxis": "y2"
        },
        {
         "hoverinfo": "text",
         "marker": {
          "color": "rgb(0,116,217)"
         },
         "mode": "lines",
         "type": "scatter",
         "x": [
          35,
          35,
          50,
          50
         ],
         "xaxis": "x",
         "y": [
          0,
          4965.164842024964,
          4965.164842024964,
          1697.6190455589276
         ],
         "yaxis": "y2"
        },
        {
         "hoverinfo": "text",
         "marker": {
          "color": "rgb(0,116,217)"
         },
         "mode": "lines",
         "type": "scatter",
         "x": [
          75,
          75,
          85,
          85
         ],
         "xaxis": "x",
         "y": [
          0,
          7892.480586159239,
          7892.480586159239,
          0
         ],
         "yaxis": "y2"
        },
        {
         "hoverinfo": "text",
         "marker": {
          "color": "rgb(0,116,217)"
         },
         "mode": "lines",
         "type": "scatter",
         "x": [
          65,
          65,
          80,
          80
         ],
         "xaxis": "x",
         "y": [
          0,
          17524.23776675779,
          17524.23776675779,
          7892.480586159239
         ],
         "yaxis": "y2"
        },
        {
         "hoverinfo": "text",
         "marker": {
          "color": "rgb(0,116,217)"
         },
         "mode": "lines",
         "type": "scatter",
         "x": [
          42.5,
          42.5,
          72.5,
          72.5
         ],
         "xaxis": "x",
         "y": [
          4965.164842024964,
          44311.86452060469,
          44311.86452060469,
          17524.23776675779
         ],
         "yaxis": "y2"
        },
        {
         "hoverinfo": "text",
         "marker": {
          "color": "rgb(0,116,217)"
         },
         "mode": "lines",
         "type": "scatter",
         "x": [
          105,
          105,
          115,
          115
         ],
         "xaxis": "x",
         "y": [
          0,
          2850.9737576426473,
          2850.9737576426473,
          0
         ],
         "yaxis": "y2"
        },
        {
         "hoverinfo": "text",
         "marker": {
          "color": "rgb(0,116,217)"
         },
         "mode": "lines",
         "type": "scatter",
         "x": [
          95,
          95,
          110,
          110
         ],
         "xaxis": "x",
         "y": [
          0,
          9134.287477149646,
          9134.287477149646,
          2850.9737576426473
         ],
         "yaxis": "y2"
        },
        {
         "hoverinfo": "text",
         "marker": {
          "color": "rgb(0,116,217)"
         },
         "mode": "lines",
         "type": "scatter",
         "x": [
          135,
          135,
          145,
          145
         ],
         "xaxis": "x",
         "y": [
          0,
          1904.5651863825792,
          1904.5651863825792,
          0
         ],
         "yaxis": "y2"
        },
        {
         "hoverinfo": "text",
         "marker": {
          "color": "rgb(0,116,217)"
         },
         "mode": "lines",
         "type": "scatter",
         "x": [
          125,
          125,
          140,
          140
         ],
         "xaxis": "x",
         "y": [
          0,
          2742.1663861455163,
          2742.1663861455163,
          1904.5651863825792
         ],
         "yaxis": "y2"
        },
        {
         "hoverinfo": "text",
         "marker": {
          "color": "rgb(0,116,217)"
         },
         "mode": "lines",
         "type": "scatter",
         "x": [
          165,
          165,
          175,
          175
         ],
         "xaxis": "x",
         "y": [
          0,
          1710.2778077502921,
          1710.2778077502921,
          0
         ],
         "yaxis": "y2"
        },
        {
         "hoverinfo": "text",
         "marker": {
          "color": "rgb(0,116,217)"
         },
         "mode": "lines",
         "type": "scatter",
         "x": [
          155,
          155,
          170,
          170
         ],
         "xaxis": "x",
         "y": [
          0,
          4963.100749309979,
          4963.100749309979,
          1710.2778077502921
         ],
         "yaxis": "y2"
        },
        {
         "hoverinfo": "text",
         "marker": {
          "color": "rgb(0,116,217)"
         },
         "mode": "lines",
         "type": "scatter",
         "x": [
          195,
          195,
          205,
          205
         ],
         "xaxis": "x",
         "y": [
          0,
          5052.0835641509175,
          5052.0835641509175,
          0
         ],
         "yaxis": "y2"
        },
        {
         "hoverinfo": "text",
         "marker": {
          "color": "rgb(0,116,217)"
         },
         "mode": "lines",
         "type": "scatter",
         "x": [
          185,
          185,
          200,
          200
         ],
         "xaxis": "x",
         "y": [
          0,
          12706.060071744201,
          12706.060071744201,
          5052.0835641509175
         ],
         "yaxis": "y2"
        },
        {
         "hoverinfo": "text",
         "marker": {
          "color": "rgb(0,116,217)"
         },
         "mode": "lines",
         "type": "scatter",
         "x": [
          162.5,
          162.5,
          192.5,
          192.5
         ],
         "xaxis": "x",
         "y": [
          4963.100749309979,
          34244.91972732123,
          34244.91972732123,
          12706.060071744201
         ],
         "yaxis": "y2"
        },
        {
         "hoverinfo": "text",
         "marker": {
          "color": "rgb(0,116,217)"
         },
         "mode": "lines",
         "type": "scatter",
         "x": [
          132.5,
          132.5,
          177.5,
          177.5
         ],
         "xaxis": "x",
         "y": [
          2742.1663861455163,
          45406.78056503115,
          45406.78056503115,
          34244.91972732123
         ],
         "yaxis": "y2"
        },
        {
         "hoverinfo": "text",
         "marker": {
          "color": "rgb(0,116,217)"
         },
         "mode": "lines",
         "type": "scatter",
         "x": [
          102.5,
          102.5,
          155,
          155
         ],
         "xaxis": "x",
         "y": [
          9134.287477149646,
          66153.77060758279,
          66153.77060758279,
          45406.78056503115
         ],
         "yaxis": "y2"
        },
        {
         "hoverinfo": "text",
         "marker": {
          "color": "rgb(0,116,217)"
         },
         "mode": "lines",
         "type": "scatter",
         "x": [
          57.5,
          57.5,
          128.75,
          128.75
         ],
         "xaxis": "x",
         "y": [
          44311.86452060469,
          100492.95438040655,
          100492.95438040655,
          66153.77060758279
         ],
         "yaxis": "y2"
        },
        {
         "hoverinfo": "text",
         "marker": {
          "color": "rgb(0,116,217)"
         },
         "mode": "lines",
         "type": "scatter",
         "x": [
          12.5,
          12.5,
          93.125,
          93.125
         ],
         "xaxis": "x",
         "y": [
          4893.261926107737,
          129395.37750528583,
          129395.37750528583,
          100492.95438040655
         ],
         "yaxis": "y2"
        },
        {
         "hoverinfo": "text",
         "marker": {
          "color": "rgb(0,116,217)"
         },
         "mode": "lines",
         "type": "scatter",
         "x": [
          0,
          -11816.600285912948,
          -11816.600285912948,
          0
         ],
         "xaxis": "x2",
         "y": [
          45,
          45,
          55,
          55
         ],
         "yaxis": "y"
        },
        {
         "hoverinfo": "text",
         "marker": {
          "color": "rgb(0,116,217)"
         },
         "mode": "lines",
         "type": "scatter",
         "x": [
          0,
          -12158.192471351747,
          -12158.192471351747,
          -11816.600285912948
         ],
         "xaxis": "x2",
         "y": [
          35,
          35,
          50,
          50
         ],
         "yaxis": "y"
        },
        {
         "hoverinfo": "text",
         "marker": {
          "color": "rgb(0,116,217)"
         },
         "mode": "lines",
         "type": "scatter",
         "x": [
          0,
          -3374.452787221135,
          -3374.452787221135,
          0
         ],
         "xaxis": "x2",
         "y": [
          75,
          75,
          85,
          85
         ],
         "yaxis": "y"
        },
        {
         "hoverinfo": "text",
         "marker": {
          "color": "rgb(0,116,217)"
         },
         "mode": "lines",
         "type": "scatter",
         "x": [
          0,
          -26458.889689195184,
          -26458.889689195184,
          -3374.452787221135
         ],
         "xaxis": "x2",
         "y": [
          65,
          65,
          80,
          80
         ],
         "yaxis": "y"
        },
        {
         "hoverinfo": "text",
         "marker": {
          "color": "rgb(0,116,217)"
         },
         "mode": "lines",
         "type": "scatter",
         "x": [
          -12158.192471351747,
          -39608.93278612939,
          -39608.93278612939,
          -26458.889689195184
         ],
         "xaxis": "x2",
         "y": [
          42.5,
          42.5,
          72.5,
          72.5
         ],
         "yaxis": "y"
        },
        {
         "hoverinfo": "text",
         "marker": {
          "color": "rgb(0,116,217)"
         },
         "mode": "lines",
         "type": "scatter",
         "x": [
          0,
          -5672.889601792711,
          -5672.889601792711,
          0
         ],
         "xaxis": "x2",
         "y": [
          105,
          105,
          115,
          115
         ],
         "yaxis": "y"
        },
        {
         "hoverinfo": "text",
         "marker": {
          "color": "rgb(0,116,217)"
         },
         "mode": "lines",
         "type": "scatter",
         "x": [
          0,
          -9821.103820420898,
          -9821.103820420898,
          0
         ],
         "xaxis": "x2",
         "y": [
          125,
          125,
          135,
          135
         ],
         "yaxis": "y"
        },
        {
         "hoverinfo": "text",
         "marker": {
          "color": "rgb(0,116,217)"
         },
         "mode": "lines",
         "type": "scatter",
         "x": [
          -5672.889601792711,
          -15068.592916253598,
          -15068.592916253598,
          -9821.103820420898
         ],
         "xaxis": "x2",
         "y": [
          110,
          110,
          130,
          130
         ],
         "yaxis": "y"
        },
        {
         "hoverinfo": "text",
         "marker": {
          "color": "rgb(0,116,217)"
         },
         "mode": "lines",
         "type": "scatter",
         "x": [
          0,
          -19021.33952304916,
          -19021.33952304916,
          -15068.592916253598
         ],
         "xaxis": "x2",
         "y": [
          95,
          95,
          120,
          120
         ],
         "yaxis": "y"
        },
        {
         "hoverinfo": "text",
         "marker": {
          "color": "rgb(0,116,217)"
         },
         "mode": "lines",
         "type": "scatter",
         "x": [
          0,
          -2151.147517131936,
          -2151.147517131936,
          0
         ],
         "xaxis": "x2",
         "y": [
          155,
          155,
          165,
          165
         ],
         "yaxis": "y"
        },
        {
         "hoverinfo": "text",
         "marker": {
          "color": "rgb(0,116,217)"
         },
         "mode": "lines",
         "type": "scatter",
         "x": [
          0,
          -8302.209710441053,
          -8302.209710441053,
          -2151.147517131936
         ],
         "xaxis": "x2",
         "y": [
          145,
          145,
          160,
          160
         ],
         "yaxis": "y"
        },
        {
         "hoverinfo": "text",
         "marker": {
          "color": "rgb(0,116,217)"
         },
         "mode": "lines",
         "type": "scatter",
         "x": [
          0,
          -7538.842875664843,
          -7538.842875664843,
          0
         ],
         "xaxis": "x2",
         "y": [
          185,
          185,
          195,
          195
         ],
         "yaxis": "y"
        },
        {
         "hoverinfo": "text",
         "marker": {
          "color": "rgb(0,116,217)"
         },
         "mode": "lines",
         "type": "scatter",
         "x": [
          0,
          -13159.771876768938,
          -13159.771876768938,
          -7538.842875664843
         ],
         "xaxis": "x2",
         "y": [
          175,
          175,
          190,
          190
         ],
         "yaxis": "y"
        },
        {
         "hoverinfo": "text",
         "marker": {
          "color": "rgb(0,116,217)"
         },
         "mode": "lines",
         "type": "scatter",
         "x": [
          0,
          -2528.3722877476494,
          -2528.3722877476494,
          0
         ],
         "xaxis": "x2",
         "y": [
          205,
          205,
          215,
          215
         ],
         "yaxis": "y"
        },
        {
         "hoverinfo": "text",
         "marker": {
          "color": "rgb(0,116,217)"
         },
         "mode": "lines",
         "type": "scatter",
         "x": [
          0,
          -767.4541630209435,
          -767.4541630209435,
          0
         ],
         "xaxis": "x2",
         "y": [
          245,
          245,
          255,
          255
         ],
         "yaxis": "y"
        },
        {
         "hoverinfo": "text",
         "marker": {
          "color": "rgb(0,116,217)"
         },
         "mode": "lines",
         "type": "scatter",
         "x": [
          0,
          -1836.17656353133,
          -1836.17656353133,
          -767.4541630209435
         ],
         "xaxis": "x2",
         "y": [
          235,
          235,
          250,
          250
         ],
         "yaxis": "y"
        },
        {
         "hoverinfo": "text",
         "marker": {
          "color": "rgb(0,116,217)"
         },
         "mode": "lines",
         "type": "scatter",
         "x": [
          0,
          -3326.677608508474,
          -3326.677608508474,
          -1836.17656353133
         ],
         "xaxis": "x2",
         "y": [
          225,
          225,
          242.5,
          242.5
         ],
         "yaxis": "y"
        },
        {
         "hoverinfo": "text",
         "marker": {
          "color": "rgb(0,116,217)"
         },
         "mode": "lines",
         "type": "scatter",
         "x": [
          -2528.3722877476494,
          -5244.359899838047,
          -5244.359899838047,
          -3326.677608508474
         ],
         "xaxis": "x2",
         "y": [
          210,
          210,
          233.75,
          233.75
         ],
         "yaxis": "y"
        },
        {
         "hoverinfo": "text",
         "marker": {
          "color": "rgb(0,116,217)"
         },
         "mode": "lines",
         "type": "scatter",
         "x": [
          0,
          -5927.211087130818,
          -5927.211087130818,
          0
         ],
         "xaxis": "x2",
         "y": [
          265,
          265,
          275,
          275
         ],
         "yaxis": "y"
        },
        {
         "hoverinfo": "text",
         "marker": {
          "color": "rgb(0,116,217)"
         },
         "mode": "lines",
         "type": "scatter",
         "x": [
          -5244.359899838047,
          -9144.886295896495,
          -9144.886295896495,
          -5927.211087130818
         ],
         "xaxis": "x2",
         "y": [
          221.875,
          221.875,
          270,
          270
         ],
         "yaxis": "y"
        },
        {
         "hoverinfo": "text",
         "marker": {
          "color": "rgb(0,116,217)"
         },
         "mode": "lines",
         "type": "scatter",
         "x": [
          0,
          -3572.0758722313053,
          -3572.0758722313053,
          0
         ],
         "xaxis": "x2",
         "y": [
          295,
          295,
          305,
          305
         ],
         "yaxis": "y"
        },
        {
         "hoverinfo": "text",
         "marker": {
          "color": "rgb(0,116,217)"
         },
         "mode": "lines",
         "type": "scatter",
         "x": [
          0,
          -2260.1167823154456,
          -2260.1167823154456,
          0
         ],
         "xaxis": "x2",
         "y": [
          315,
          315,
          325,
          325
         ],
         "yaxis": "y"
        },
        {
         "hoverinfo": "text",
         "marker": {
          "color": "rgb(0,116,217)"
         },
         "mode": "lines",
         "type": "scatter",
         "x": [
          0,
          -2504.9101996500112,
          -2504.9101996500112,
          0
         ],
         "xaxis": "x2",
         "y": [
          335,
          335,
          345,
          345
         ],
         "yaxis": "y"
        },
        {
         "hoverinfo": "text",
         "marker": {
          "color": "rgb(0,116,217)"
         },
         "mode": "lines",
         "type": "scatter",
         "x": [
          -2260.1167823154456,
          -4691.301438091211,
          -4691.301438091211,
          -2504.9101996500112
         ],
         "xaxis": "x2",
         "y": [
          320,
          320,
          340,
          340
         ],
         "yaxis": "y"
        },
        {
         "hoverinfo": "text",
         "marker": {
          "color": "rgb(0,116,217)"
         },
         "mode": "lines",
         "type": "scatter",
         "x": [
          -3572.0758722313053,
          -5963.785503146202,
          -5963.785503146202,
          -4691.301438091211
         ],
         "xaxis": "x2",
         "y": [
          300,
          300,
          330,
          330
         ],
         "yaxis": "y"
        },
        {
         "hoverinfo": "text",
         "marker": {
          "color": "rgb(0,116,217)"
         },
         "mode": "lines",
         "type": "scatter",
         "x": [
          0,
          -7199.364842950916,
          -7199.364842950916,
          -5963.785503146202
         ],
         "xaxis": "x2",
         "y": [
          285,
          285,
          315,
          315
         ],
         "yaxis": "y"
        },
        {
         "hoverinfo": "text",
         "marker": {
          "color": "rgb(0,116,217)"
         },
         "mode": "lines",
         "type": "scatter",
         "x": [
          0,
          -685.4944673229013,
          -685.4944673229013,
          0
         ],
         "xaxis": "x2",
         "y": [
          395,
          395,
          405,
          405
         ],
         "yaxis": "y"
        },
        {
         "hoverinfo": "text",
         "marker": {
          "color": "rgb(0,116,217)"
         },
         "mode": "lines",
         "type": "scatter",
         "x": [
          0,
          -1209.0390756701938,
          -1209.0390756701938,
          -685.4944673229013
         ],
         "xaxis": "x2",
         "y": [
          385,
          385,
          400,
          400
         ],
         "yaxis": "y"
        },
        {
         "hoverinfo": "text",
         "marker": {
          "color": "rgb(0,116,217)"
         },
         "mode": "lines",
         "type": "scatter",
         "x": [
          0,
          -1543.369652592443,
          -1543.369652592443,
          -1209.0390756701938
         ],
         "xaxis": "x2",
         "y": [
          375,
          375,
          392.5,
          392.5
         ],
         "yaxis": "y"
        },
        {
         "hoverinfo": "text",
         "marker": {
          "color": "rgb(0,116,217)"
         },
         "mode": "lines",
         "type": "scatter",
         "x": [
          0,
          -3052.9325303951787,
          -3052.9325303951787,
          -1543.369652592443
         ],
         "xaxis": "x2",
         "y": [
          365,
          365,
          383.75,
          383.75
         ],
         "yaxis": "y"
        },
        {
         "hoverinfo": "text",
         "marker": {
          "color": "rgb(0,116,217)"
         },
         "mode": "lines",
         "type": "scatter",
         "x": [
          0,
          -720.7415147755104,
          -720.7415147755104,
          0
         ],
         "xaxis": "x2",
         "y": [
          425,
          425,
          435,
          435
         ],
         "yaxis": "y"
        },
        {
         "hoverinfo": "text",
         "marker": {
          "color": "rgb(0,116,217)"
         },
         "mode": "lines",
         "type": "scatter",
         "x": [
          0,
          -2437.333999669712,
          -2437.333999669712,
          -720.7415147755104
         ],
         "xaxis": "x2",
         "y": [
          415,
          415,
          430,
          430
         ],
         "yaxis": "y"
        },
        {
         "hoverinfo": "text",
         "marker": {
          "color": "rgb(0,116,217)"
         },
         "mode": "lines",
         "type": "scatter",
         "x": [
          0,
          -1906.5149027914247,
          -1906.5149027914247,
          0
         ],
         "xaxis": "x2",
         "y": [
          455,
          455,
          465,
          465
         ],
         "yaxis": "y"
        },
        {
         "hoverinfo": "text",
         "marker": {
          "color": "rgb(0,116,217)"
         },
         "mode": "lines",
         "type": "scatter",
         "x": [
          0,
          -3793.34082435485,
          -3793.34082435485,
          -1906.5149027914247
         ],
         "xaxis": "x2",
         "y": [
          445,
          445,
          460,
          460
         ],
         "yaxis": "y"
        },
        {
         "hoverinfo": "text",
         "marker": {
          "color": "rgb(0,116,217)"
         },
         "mode": "lines",
         "type": "scatter",
         "x": [
          -2437.333999669712,
          -5142.221294892301,
          -5142.221294892301,
          -3793.34082435485
         ],
         "xaxis": "x2",
         "y": [
          422.5,
          422.5,
          452.5,
          452.5
         ],
         "yaxis": "y"
        },
        {
         "hoverinfo": "text",
         "marker": {
          "color": "rgb(0,116,217)"
         },
         "mode": "lines",
         "type": "scatter",
         "x": [
          -3052.9325303951787,
          -6563.967858926945,
          -6563.967858926945,
          -5142.221294892301
         ],
         "xaxis": "x2",
         "y": [
          374.375,
          374.375,
          437.5,
          437.5
         ],
         "yaxis": "y"
        },
        {
         "hoverinfo": "text",
         "marker": {
          "color": "rgb(0,116,217)"
         },
         "mode": "lines",
         "type": "scatter",
         "x": [
          0,
          -7777.548059235768,
          -7777.548059235768,
          -6563.967858926945
         ],
         "xaxis": "x2",
         "y": [
          355,
          355,
          405.9375,
          405.9375
         ],
         "yaxis": "y"
        },
        {
         "hoverinfo": "text",
         "marker": {
          "color": "rgb(0,116,217)"
         },
         "mode": "lines",
         "type": "scatter",
         "x": [
          -7199.364842950916,
          -11225.85886030486,
          -11225.85886030486,
          -7777.548059235768
         ],
         "xaxis": "x2",
         "y": [
          300,
          300,
          380.46875,
          380.46875
         ],
         "yaxis": "y"
        },
        {
         "hoverinfo": "text",
         "marker": {
          "color": "rgb(0,116,217)"
         },
         "mode": "lines",
         "type": "scatter",
         "x": [
          -9144.886295896495,
          -14393.15890814963,
          -14393.15890814963,
          -11225.85886030486
         ],
         "xaxis": "x2",
         "y": [
          245.9375,
          245.9375,
          340.234375,
          340.234375
         ],
         "yaxis": "y"
        },
        {
         "hoverinfo": "text",
         "marker": {
          "color": "rgb(0,116,217)"
         },
         "mode": "lines",
         "type": "scatter",
         "x": [
          -13159.771876768938,
          -19108.10176008391,
          -19108.10176008391,
          -14393.15890814963
         ],
         "xaxis": "x2",
         "y": [
          182.5,
          182.5,
          293.0859375,
          293.0859375
         ],
         "yaxis": "y"
        },
        {
         "hoverinfo": "text",
         "marker": {
          "color": "rgb(0,116,217)"
         },
         "mode": "lines",
         "type": "scatter",
         "x": [
          -8302.209710441053,
          -23536.02942367536,
          -23536.02942367536,
          -19108.10176008391
         ],
         "xaxis": "x2",
         "y": [
          152.5,
          152.5,
          237.79296875,
          237.79296875
         ],
         "yaxis": "y"
        },
        {
         "hoverinfo": "text",
         "marker": {
          "color": "rgb(0,116,217)"
         },
         "mode": "lines",
         "type": "scatter",
         "x": [
          -19021.33952304916,
          -28795.066988412014,
          -28795.066988412014,
          -23536.02942367536
         ],
         "xaxis": "x2",
         "y": [
          107.5,
          107.5,
          195.146484375,
          195.146484375
         ],
         "yaxis": "y"
        },
        {
         "hoverinfo": "text",
         "marker": {
          "color": "rgb(0,116,217)"
         },
         "mode": "lines",
         "type": "scatter",
         "x": [
          0,
          -19060.92638667431,
          -19060.92638667431,
          0
         ],
         "xaxis": "x2",
         "y": [
          485,
          485,
          495,
          495
         ],
         "yaxis": "y"
        },
        {
         "hoverinfo": "text",
         "marker": {
          "color": "rgb(0,116,217)"
         },
         "mode": "lines",
         "type": "scatter",
         "x": [
          0,
          -40635.37645570365,
          -40635.37645570365,
          -19060.92638667431
         ],
         "xaxis": "x2",
         "y": [
          475,
          475,
          490,
          490
         ],
         "yaxis": "y"
        },
        {
         "hoverinfo": "text",
         "marker": {
          "color": "rgb(0,116,217)"
         },
         "mode": "lines",
         "type": "scatter",
         "x": [
          -28795.066988412014,
          -58496.85626667344,
          -58496.85626667344,
          -40635.37645570365
         ],
         "xaxis": "x2",
         "y": [
          151.3232421875,
          151.3232421875,
          482.5,
          482.5
         ],
         "yaxis": "y"
        },
        {
         "hoverinfo": "text",
         "marker": {
          "color": "rgb(0,116,217)"
         },
         "mode": "lines",
         "type": "scatter",
         "x": [
          -39608.93278612939,
          -76053.48142309925,
          -76053.48142309925,
          -58496.85626667344
         ],
         "xaxis": "x2",
         "y": [
          57.5,
          57.5,
          316.91162109375,
          316.91162109375
         ],
         "yaxis": "y"
        },
        {
         "hoverinfo": "text",
         "marker": {
          "color": "rgb(0,116,217)"
         },
         "mode": "lines",
         "type": "scatter",
         "x": [
          0,
          -90103.74998249755,
          -90103.74998249755,
          -76053.48142309925
         ],
         "xaxis": "x2",
         "y": [
          25,
          25,
          187.205810546875,
          187.205810546875
         ],
         "yaxis": "y"
        },
        {
         "hoverinfo": "text",
         "marker": {
          "color": "rgb(0,116,217)"
         },
         "mode": "lines",
         "type": "scatter",
         "x": [
          0,
          -149530.47345896592,
          -149530.47345896592,
          -90103.74998249755
         ],
         "xaxis": "x2",
         "y": [
          15,
          15,
          106.1029052734375,
          106.1029052734375
         ],
         "yaxis": "y"
        },
        {
         "hoverinfo": "text",
         "marker": {
          "color": "rgb(0,116,217)"
         },
         "mode": "lines",
         "type": "scatter",
         "x": [
          0,
          -230739.93804550226,
          -230739.93804550226,
          -149530.47345896592
         ],
         "xaxis": "x2",
         "y": [
          5,
          5,
          60.55145263671875,
          60.55145263671875
         ],
         "yaxis": "y"
        },
        {
         "colorbar": {
          "len": 200,
          "lenmode": "pixels",
          "tickfont": {
           "size": 10
          },
          "title": {
           "font": {
            "size": 10
           },
           "text": "Number of Bills per Cell"
          },
          "xpad": 100
         },
         "colorscale": [
          [
           0,
           "rgb(247,251,255)"
          ],
          [
           0.125,
           "rgb(222,235,247)"
          ],
          [
           0.25,
           "rgb(198,219,239)"
          ],
          [
           0.375,
           "rgb(158,202,225)"
          ],
          [
           0.5,
           "rgb(107,174,214)"
          ],
          [
           0.625,
           "rgb(66,146,198)"
          ],
          [
           0.75,
           "rgb(33,113,181)"
          ],
          [
           0.875,
           "rgb(8,81,156)"
          ],
          [
           1,
           "rgb(8,48,107)"
          ]
         ],
         "type": "heatmap",
         "x": [
          5,
          15,
          25,
          35,
          45,
          55,
          65,
          75,
          85,
          95,
          105,
          115,
          125,
          135,
          145,
          155,
          165,
          175,
          185,
          195,
          205
         ],
         "y": [
          5,
          15,
          25,
          35,
          45,
          55,
          65,
          75,
          85,
          95,
          105,
          115,
          125,
          135,
          145,
          155,
          165,
          175,
          185,
          195,
          205,
          215,
          225,
          235,
          245,
          255,
          265,
          275,
          285,
          295,
          305,
          315,
          325,
          335,
          345,
          355,
          365,
          375,
          385,
          395,
          405,
          415,
          425,
          435,
          445,
          455,
          465,
          475,
          485,
          495
         ],
         "z": [
          [
           979.63723593816,
           816.267762501689,
           896.020696300553,
           86742.0834649575,
           91228.4475164639,
           91174.6426167218,
           67482.0177312657,
           59078.3828261747,
           51556.628417965,
           5289.98987876342,
           5496.84207765274,
           5322.03250515052,
           16578.5764159344,
           18161.5582945244,
           17710.542349828,
           26462.0192501992,
           26327.4734172893,
           26739.9306849836,
           10023.8692933838,
           7789.68427471354,
           8483.259630755709
          ],
          [
           73964.2797975539,
           78280.6897085563,
           76852.0417914521,
           2880.2837805780896,
           3023.90542444734,
           2748.4001605882,
           1790.73309615682,
           1846.23175872245,
           1948.1014685796697,
           28807.412299018302,
           25394.1546531502,
           24945.6650581404,
           14898.8849958046,
           14119.0851412676,
           14621.0120732053,
           1360.607139721,
           1304.19308606852,
           1437.0961372003399,
           661.811562263535,
           609.471562095325,
           625.499644844088
          ],
          [
           624.645670906736,
           708.554357027642,
           672.5753195789711,
           3848.11080418437,
           4881.41287880234,
           3969.71310449817,
           5054.1685934565,
           3678.25864564312,
           3128.6801511021504,
           37743.1083240423,
           43301.3027277635,
           45413.2136322522,
           2662.20228890135,
           3606.03682152353,
           3480.21381038653,
           799.8050752825591,
           879.9982791042039,
           972.183309377055,
           439.659486110115,
           463.624129526875,
           414.343486057671
          ],
          [
           27308.991349775697,
           26399.321314380697,
           27126.171935525297,
           3356.6084208492603,
           4029.9461753835203,
           3431.64807271659,
           3392.77213901826,
           3348.3056199998305,
           3342.22900483877,
           3980.01555642541,
           4104.7880666875,
           3601.0835139464702,
           3473.51216872198,
           3386.08925743564,
           3364.7649875861102,
           2591.62190239077,
           3037.21869719785,
           2920.4118556690505,
           1372.15285906637,
           1443.6152015321697,
           1427.09234634582
          ],
          [
           31877.975866637797,
           32692.418184174,
           32832.882865091204,
           2123.1602511975,
           2342.77735698583,
           2186.26658550893,
           1220.44375720977,
           1280.74648752098,
           1242.44258612252,
           7089.843706121421,
           6408.933339012459,
           6985.472014854029,
           3363.2516761090696,
           3096.25941352319,
           3103.8614738646697,
           1245.24730710929,
           1231.84631535522,
           1209.90817380863,
           881.7018443082491,
           814.8249757365539,
           955.587560659166
          ],
          [
           28344.6393197738,
           26942.3372108831,
           26941.1970249282,
           2957.20832616216,
           2842.6277595057204,
           3005.82945666058,
           2023.0483123007998,
           2115.3397649675103,
           2090.03125377758,
           10088.0822618349,
           10056.624024761999,
           10689.642172689,
           5368.97383520197,
           5373.6430268691,
           5143.74803305531,
           2067.73605034582,
           2024.2711485635898,
           2097.14140217632,
           1855.5927802781302,
           2167.15876704987,
           2155.8019372559397
          ],
          [
           15600.385131533601,
           15544.046850311599,
           15388.6032379602,
           3952.7717492007796,
           5045.69731375598,
           4239.03631273068,
           7050.62517852771,
           9526.19743563882,
           9940.650519894409,
           944.925582844741,
           914.642815834421,
           775.6744284708079,
           1682.69921119073,
           2047.5541245689499,
           1686.67232097266,
           9022.481782596109,
           10628.507328105401,
           11259.8659700479,
           1902.7427469632398,
           1918.3623590563102,
           2207.3629718707602
          ],
          [
           12304.585374428601,
           12006.3175714801,
           12348.721738496,
           635.811371267891,
           657.474050498994,
           629.527095644713,
           350.16142149044,
           330.784539819132,
           298.235209883642,
           713.5927621141451,
           693.580228124449,
           705.6624002355201,
           1405.79045243969,
           1290.47476199557,
           1333.71030897851,
           165.14764580051002,
           152.795534345135,
           175.82537354097,
           295.127022278529,
           369.35811143890504,
           334.275718043856
          ],
          [
           10741.019392681701,
           10806.5443439111,
           11199.1893763556,
           76.5097199137969,
           86.5331797391353,
           55.1805526496841,
           36.326892804731294,
           19.664631471129,
           16.240747748340198,
           484.739848688883,
           500.191105233872,
           385.393780063167,
           140.625757365594,
           151.498716164771,
           127.21281210519399,
           8.044956442699009,
           10.297172745664,
           25.218009328097896,
           4.156954498639109,
           7.29872931760373,
           4.8387840782136795
          ],
          [
           995.812107798633,
           1148.51542160498,
           1201.20526118898,
           1417.95792481698,
           1564.53194207629,
           1543.9124306885699,
           12445.9595725743,
           11781.7434419503,
           11510.6293866006,
           4352.4873590548295,
           4787.31044268771,
           5251.66021983019,
           5911.6960809814,
           5687.874973868361,
           5296.064301147299,
           7780.523720250509,
           7400.735334422459,
           7027.81006417952,
           2585.40092841775,
           2795.8114616755897,
           2936.38363920409
          ],
          [
           100.37704565746701,
           118.940563581579,
           138.447800471908,
           5956.192690558941,
           6702.2784895675095,
           6391.7211470049,
           7504.769013802191,
           6854.142214427769,
           6565.090651885551,
           4206.690532478739,
           4287.09202509247,
           4187.55620557518,
           5144.6447253958395,
           5130.63910849281,
           5269.77551206823,
           5480.67151328878,
           5704.21049585876,
           5809.740510383921,
           3559.5139686765206,
           4511.5597411748495,
           4802.02297002732
          ],
          [
           1100.43906646358,
           1303.21910206974,
           1246.23604745927,
           6645.95875986436,
           6848.84202782436,
           6662.4058753177505,
           4215.37396424859,
           5233.37463817409,
           4620.88781469876,
           4398.41908372997,
           4560.88026710395,
           4250.93510055546,
           4494.61839493521,
           4267.607331524539,
           4468.73963676177,
           6351.04114603554,
           6444.71680711834,
           6781.7475660282,
           2822.4883147115397,
           2767.0926195600605,
           3072.1196868165803
          ],
          [
           1308.69922489804,
           1607.3353691022,
           1535.8951143331699,
           1173.20445233417,
           1156.49592887949,
           1152.11571343263,
           3479.63658305514,
           4087.1122902165794,
           3752.6778795158098,
           145.86153928176398,
           167.722331763801,
           196.351455049028,
           986.997897554754,
           975.366672007554,
           928.216474296232,
           5887.0891467089405,
           6217.31607765256,
           5968.59359342141,
           4329.27968135036,
           6299.561472213629,
           6045.57966188334
          ],
          [
           40.0098228194818,
           55.832603327214095,
           45.236903044831,
           2418.32878775127,
           2554.69443600746,
           2611.5582729560897,
           6578.485570423579,
           6432.702898401601,
           8074.52281515221,
           851.588563779017,
           676.597652075117,
           779.5225161058521,
           1880.01363752918,
           1828.8539576860198,
           1821.28937239672,
           5895.89076171152,
           8138.33172761866,
           8128.77698379785,
           1783.33410870684,
           2213.21691836334,
           2065.67980851913
          ],
          [
           60.1415717609265,
           102.149055681064,
           78.4139442696596,
           55.302751992069304,
           63.8566343493236,
           51.3563483124833,
           112.92089305372801,
           113.147919896825,
           107.0836320925,
           10543.7276891269,
           7505.516101325391,
           8000.2313873371495,
           9071.35067020228,
           8496.00176292848,
           9745.937605545501,
           68.8320401424221,
           75.2406869532814,
           71.9556133399172,
           49.3791480008848,
           46.808686949156105,
           63.446363330838395
          ],
          [
           27.970410095841604,
           18.839171124432198,
           26.014704220848497,
           15.904100160358901,
           19.595619444310998,
           9.99138902673573,
           4.15373976000627,
           11.727799827751902,
           4.96622170733738,
           5236.14162865085,
           4570.20454391193,
           4748.93397607444,
           9708.42907170549,
           8481.73911235407,
           9153.49977498994,
           3.6926608168634902,
           0,
           1.57786505204616,
           0,
           0,
           0
          ],
          [
           65.22772242586571,
           105.88874495516899,
           73.7652736902144,
           149.557705954309,
           209.05826719141498,
           108.353263596768,
           33.1563744024196,
           36.2876860758884,
           25.080566250810598,
           4598.33802292699,
           3474.61037873015,
           4143.11495871097,
           8323.128225844559,
           8049.052622830791,
           8469.73815125215,
           20.875531924275602,
           35.380479934391296,
           38.9402195057615,
           2.6394850782232497,
           0,
           3.71388257336754
          ],
          [
           52.1423498064091,
           77.3648097103108,
           53.536418098547294,
           8233.94177444348,
           8342.22420869978,
           7780.146641240401,
           686.0059792332551,
           582.9761323647721,
           560.683027509632,
           3315.2046669943397,
           3324.8694401443,
           3515.57599048594,
           2381.60929949746,
           2292.36418169047,
           2317.8860492101003,
           195.00542986258202,
           181.80353870996998,
           153.426933816338,
           114.097646783664,
           63.889981778548005,
           59.08488821388929
          ],
          [
           330.686054537076,
           296.295010267447,
           289.475934950679,
           2655.87945228971,
           2762.50549586976,
           2627.7157322983803,
           4549.5183925580895,
           3690.67242722123,
           4268.58143598448,
           3441.1519487984497,
           3920.4976329511796,
           4024.2626331021,
           5293.45413913778,
           5054.734319529671,
           5466.3779598561205,
           2761.75496285503,
           2615.08010059786,
           2688.5765815637196,
           359.899462270415,
           429.86590220148804,
           354.897354925674
          ],
          [
           26.396839401964804,
           58.4982692818491,
           45.594352648282005,
           4407.36339350224,
           4359.54230579919,
           4549.4000789947495,
           2197.89480984871,
           2474.75274312466,
           2743.53604081183,
           1472.8109102304502,
           1416.57982647356,
           1395.21530481742,
           2479.62056314151,
           2857.57721320938,
           2811.0541910377196,
           2959.9394819829804,
           3056.1693727635497,
           2518.6685918406,
           1010.48886919276,
           849.088503828995,
           871.230651161163
          ],
          [
           7175.473120395559,
           7665.169557351421,
           7736.39602700673,
           405.09362529183403,
           355.53345181785204,
           398.940598772993,
           107.061746275246,
           117.193860833736,
           123.52680610818001,
           1524.9836028034,
           1462.7037978438098,
           1494.73507952876,
           841.240828756953,
           812.095901432455,
           876.012926738,
           78.0471556699742,
           66.4183580242513,
           58.6090572391602,
           170.361127153517,
           208.83659542957,
           175.843037055102
          ],
          [
           6704.0007631127,
           6275.2995704574405,
           6771.78195524942,
           101.23896348895501,
           148.01865942996798,
           123.36932210816099,
           77.42668559687809,
           96.29740803667231,
           82.90097823870249,
           600.723192775748,
           553.311877487242,
           505.10309761000394,
           586.855478155666,
           431.60737954634595,
           453.70855819771,
           132.520616433252,
           186.76338033835097,
           160.733258789177,
           223.23406044546502,
           217.547772203708,
           296.9567283825
          ],
          [
           4724.27463090342,
           5202.136508662929,
           5074.17962743412,
           718.717738888367,
           747.6762966062131,
           771.9877706026849,
           891.9466006328439,
           778.851509232864,
           840.6694648154629,
           1037.48331336503,
           1062.0025547094901,
           1054.47032394961,
           777.078995030058,
           792.509027061471,
           787.456380973411,
           1032.2823852228698,
           1062.85426158106,
           970.5004316641879,
           762.1464771357299,
           831.615079384649,
           926.357507308412
          ],
          [
           5227.49452880058,
           4815.58251406847,
           5133.71237763089,
           9.92723230080238,
           11.0093679460319,
           8.7476939240788,
           3.1786895515560603,
           8.115497080272888,
           3.4006692929612203,
           1385.5033728558099,
           1335.87186525406,
           1244.58558305798,
           575.344706057846,
           551.346706873388,
           521.821836274454,
           2.25343729237192,
           0,
           1.2357237845553501,
           0,
           0,
           0
          ],
          [
           4853.55901142217,
           5205.22330620366,
           4867.623306976389,
           27.4317272659733,
           31.255446265686498,
           23.122036502555105,
           10.9096582566642,
           10.1737485469828,
           11.972566923309698,
           398.34904804360804,
           355.726418107492,
           366.51975628743696,
           208.32531012035702,
           235.629880018259,
           264.183753656418,
           12.850738170287899,
           13.1617125445749,
           19.4028261456664,
           12.2574698920371,
           16.140269446097697,
           9.509333321389331
          ],
          [
           4506.98520225706,
           4836.882900533,
           4749.56836462255,
           81.0164018596875,
           82.136105791283,
           60.6130450399098,
           81.7255318076994,
           134.545798648003,
           80.18317811150071,
           666.841507909498,
           709.799126467146,
           590.1044610595,
           255.991299798447,
           251.211196893722,
           283.982042591086,
           100.561137067182,
           94.7517389120648,
           107.46205982329799,
           86.2482320094493,
           84.83543090599049,
           77.3946258887105
          ],
          [
           3254.93593889085,
           3417.04166441299,
           3429.35508628725,
           1559.5112784944502,
           1784.2635765685,
           1559.22806663112,
           1678.21261176915,
           1549.3738000498802,
           1453.9315369801002,
           523.296298861243,
           539.44867870734,
           529.1482898141439,
           583.453782647348,
           584.024273437235,
           588.463349319149,
           987.646551045293,
           1101.0875026059698,
           1027.63255468001,
           2601.2371329016,
           2387.5386001725,
           2217.70099612506
          ],
          [
           6493.88030549135,
           6248.39144668328,
           6353.46189593385,
           1572.40849934196,
           1398.5573163108,
           1478.8430610426599,
           1448.9862431678698,
           1493.8058750186701,
           1272.53371056379,
           1607.49084206091,
           1673.62487575164,
           1585.2320576173001,
           1204.85816764915,
           1319.95943521394,
           1173.91062557527,
           2175.34874648099,
           1998.88359945495,
           1868.80644149744,
           2391.7806433466103,
           2268.96485340314,
           2237.06268600322
          ],
          [
           753.240430786408,
           806.2880804081669,
           830.818613257394,
           664.907266158276,
           549.6086477912249,
           678.276663875489,
           574.689993523205,
           566.0230169020571,
           688.5372684715311,
           3930.7512527178706,
           3455.7483444554,
           3990.3268115934898,
           5270.12274944351,
           4871.014589944621,
           5098.279510539211,
           406.979020445643,
           393.131233411004,
           435.92485455617305,
           164.00554139204598,
           177.01235187298698,
           198.35855293430902
          ],
          [
           531.143550187192,
           573.326604407187,
           473.17273806322896,
           134.683251660911,
           129.739763056201,
           117.041255021509,
           1726.6990222443499,
           1773.5792976484802,
           2228.32117985454,
           5434.589189696961,
           5418.27973498089,
           4768.20567894345,
           2210.20096610195,
           2020.03268313708,
           1945.5729217157398,
           520.686484141537,
           579.799038778468,
           541.0004766522931,
           99.77300963257142,
           189.209443870756,
           107.834111018806
          ],
          [
           1026.2057166704699,
           1068.5580323306199,
           997.403306495862,
           970.466446247563,
           1109.98325170208,
           1011.62571965694,
           685.754473477189,
           895.3402434915449,
           770.1295363108779,
           4288.46688062184,
           4248.794778050949,
           4133.801563951551,
           2660.0630190048896,
           2638.59676883275,
           2614.00669080577,
           1023.7211830374699,
           1228.16293643231,
           1122.13912917949,
           453.130326748649,
           493.777317216527,
           565.3899036342599
          ],
          [
           159.473027777896,
           203.681146870882,
           188.623305664295,
           464.505568639554,
           465.63840052332296,
           429.962410476825,
           239.91215732470903,
           257.514807815123,
           261.546772825173,
           2457.9005105787696,
           2126.05803343524,
           2406.04015486842,
           2544.16767772453,
           2433.7081692730303,
           2718.23595808727,
           181.668244946709,
           208.259310041147,
           228.82034477179403,
           97.5984534493346,
           125.163210948883,
           136.835262155908
          ],
          [
           56.9560821448322,
           22.477660500055,
           40.5578937719783,
           132.490292335677,
           151.250562485638,
           122.05609000678001,
           85.9569117780912,
           65.6039616406437,
           67.8999780039826,
           3533.4864415399297,
           3413.54436869148,
           3028.2574741710305,
           2651.4179135617,
           3370.34919398841,
           3352.3526732409996,
           12.203652266835899,
           13.083335383899401,
           26.8022001514333,
           5.12178567619196,
           5.13781182784599,
           3.4036556348571496
          ],
          [
           84.91738016716191,
           84.2790625273724,
           113.059771853554,
           285.16684352664697,
           370.20177923114306,
           314.76675673203,
           509.361413561331,
           622.104319834773,
           475.26406255786,
           4034.3831620522205,
           4284.31523696589,
           3942.17104630993,
           1554.1665449219101,
           1726.6198798979901,
           1570.8281907667001,
           978.487851157101,
           968.485551757311,
           990.8115028642881,
           721.714485804731,
           816.1663145742219,
           809.619660093932
          ],
          [
           817.643370750175,
           768.936296093401,
           824.468552339077,
           200.812898575343,
           226.93970982904,
           211.503239463389,
           272.299129256334,
           379.11697588504205,
           309.13438191263197,
           4015.22505156272,
           4071.6329324418202,
           3662.9183402052795,
           1251.08477588095,
           1303.18196757043,
           1219.59577368716,
           219.49749842288398,
           207.74853072944302,
           182.854591936492,
           1665.2724978344102,
           1712.93470659243,
           1558.9555159287302
          ],
          [
           1630.5569354131699,
           1670.57159543807,
           1656.5607705801801,
           1993.7806175293301,
           2401.0390819621202,
           2106.26229392502,
           717.037368580795,
           753.853916139667,
           747.3206212287289,
           200.644785257205,
           196.209232622873,
           147.05443452417802,
           3714.1956565035707,
           3886.0816323582794,
           3720.4553856297707,
           276.335492860859,
           373.274009125095,
           396.48098262415,
           12.1671747866449,
           17.110685571494802,
           23.587993360293602
          ],
          [
           2612.33648052727,
           2088.82698367844,
           2412.61216750866,
           2.56127181520358,
           5.2890304152708705,
           0.5105238297012,
           6.591603489068019,
           1.17173240707926,
           0.5702400703585121,
           162.846974020101,
           109.762183479145,
           126.36812229711799,
           70.7669178022903,
           90.81628734390209,
           68.54969358323399,
           3.7337880087556203,
           1.18398859164577,
           1.25238730709594,
           0,
           0.5113516270046239,
           0
          ],
          [
           1347.4861722272801,
           1440.77075685962,
           1461.79553580101,
           48.5766692856229,
           69.6343269273345,
           49.72060795157721,
           35.3525007619019,
           26.9121780552537,
           27.4214088030972,
           165.12082805141898,
           167.912102389734,
           156.550801050684,
           53.3498710259548,
           46.9960726091681,
           49.2824730802965,
           26.147800483713198,
           22.61967938803,
           32.86495888102,
           7.28048644404164,
           8.22064939248987,
           13.342588688324199
          ],
          [
           891.7159772184309,
           848.016421100597,
           889.6669504765661,
           690.7509512084621,
           701.2893174061659,
           667.942756224291,
           332.40457765762903,
           327.09549617114,
           260.035641897596,
           81.6200722037842,
           65.5439862750423,
           71.01532333541559,
           46.7766352815217,
           45.081147987560705,
           38.53208682617971,
           148.843979335404,
           153.132526266972,
           144.57130675535,
           11.443315952903099,
           10.050731481711301,
           8.49714230808361
          ],
          [
           985.2056611950951,
           995.5116860477199,
           1023.3207014739698,
           49.541445610047205,
           73.510434563004,
           67.39867490364101,
           53.138609747954,
           36.287816918287604,
           47.483555550392396,
           58.6794068127018,
           54.1251563322195,
           55.23227088331021,
           36.6888248929408,
           39.2311395504976,
           42.634536857291,
           57.08242789899239,
           42.8785352344985,
           36.5604723879953,
           49.501365621929395,
           63.4478310223839,
           55.081961962915
          ],
          [
           646.533686150021,
           637.104972090591,
           649.948376930368,
           135.410114154226,
           129.56930037320402,
           134.11424909204598,
           114.86837697143801,
           115.599294690429,
           124.000366919809,
           52.724791080835196,
           43.484919405568895,
           48.616916041633,
           45.9473585268107,
           62.0858775036113,
           50.41429469497021,
           113.23874826075001,
           116.30373673819099,
           160.336990081798,
           149.38010624960398,
           169.91148759076,
           156.97549514255502
          ],
          [
           134.727292522464,
           112.72443613490299,
           129.081581138045,
           83.72257696994271,
           85.6854771066404,
           85.9500597340613,
           67.592774268168,
           53.8177194732043,
           42.6264175038537,
           1145.8187649558301,
           996.068883278907,
           977.1822295276351,
           1907.6241460025303,
           1777.60308803665,
           1818.5193898087198,
           53.29701497877439,
           56.654523960907405,
           74.57257029858259,
           29.0932104197149,
           26.4506408120177,
           41.103625874182896
          ],
          [
           24.605382011827196,
           31.875153759977398,
           31.9686170136162,
           15.298098367229999,
           13.234487380129199,
           15.374005938572399,
           10.095817974146199,
           12.420765922593699,
           11.16879059602,
           1261.68034641891,
           1381.2911449378798,
           1290.9702382719802,
           459.03879381181196,
           472.70642757038496,
           469.49328597924796,
           9.0511908289998,
           13.3774051137937,
           7.67227286109866,
           14.5552274411322,
           5.47722562886881,
           4.84502967161433
          ],
          [
           16.432748226826803,
           12.6511508240056,
           6.92588995966396,
           5.8350244455283296,
           6.69238014055005,
           5.86457252627923,
           3.26099690188685,
           4.46695055716189,
           5.4715121506336795,
           1006.6412085890499,
           969.709612430226,
           836.588031594957,
           655.612356109937,
           617.4668143421579,
           601.131572422983,
           5.425641067075701,
           5.57204495419734,
           2.37032605885719,
           4.479469404804781,
           4.912261030253309,
           6.49476514493207
          ],
          [
           94.313691545666,
           95.10066450306259,
           100.03284933749399,
           1782.2960585712601,
           1762.0751795678198,
           1749.3440212061998,
           1311.8555727446,
           1105.84774431198,
           1045.03491945339,
           709.0368823931759,
           792.055059982733,
           672.323434223098,
           1369.56894204676,
           1452.6864096482,
           1385.41096638639,
           1070.19601187733,
           1114.37239660571,
           1172.59209057574,
           1280.91885656428,
           1146.01736459915,
           1027.64157022188
          ],
          [
           1249.4535158973101,
           1249.7575073963699,
           1056.5259769474699,
           1054.43433266958,
           1129.0752479268901,
           1092.14206429465,
           456.93736799117005,
           496.885401469001,
           463.12918365939794,
           155.273635442165,
           202.31779446683998,
           187.93692250481098,
           88.1467243489739,
           67.7443687199789,
           73.40824506070909,
           467.26104301349295,
           478.533622066083,
           502.078443407485,
           646.232902072673,
           749.8871316514301,
           789.804589038866
          ],
          [
           1710.55613090721,
           1613.29530791526,
           1593.62359626627,
           1472.3696400807999,
           1940.87130605272,
           1550.23782732849,
           850.8580004951469,
           1107.45624303497,
           1029.39588120358,
           80.63932713207758,
           78.7803436997292,
           73.8077170638039,
           472.313204909191,
           866.8580672251061,
           506.18847265503194,
           658.691262479809,
           592.899720614544,
           543.718809586771,
           633.019454439694,
           541.171822817513,
           706.925827158526
          ],
          [
           1310.0636538864599,
           1223.37079695603,
           1339.7708740427001,
           360.366713154748,
           324.989554672013,
           394.545697316437,
           8925.230322147328,
           7650.667594569,
           7416.408542452729,
           73.7756330978901,
           41.5357495534245,
           46.480075248769595,
           16.3617758528071,
           38.945958104011,
           27.2740523448654,
           9955.320035272409,
           9645.01779672772,
           9676.70829675374,
           21368.4867118792,
           33488.2207051734,
           30035.5739044681
          ],
          [
           4794.97056650089,
           4546.3197758507595,
           4773.198370513929,
           10973.2663051566,
           11607.421905001002,
           11654.7055869751,
           12784.0765702879,
           11946.5204914121,
           11329.5452725498,
           1177.3871723758698,
           1061.71319787306,
           1014.9788573922301,
           1314.7942994450698,
           1551.16848941746,
           1412.59868702998,
           11601.9180597601,
           11387.086573018702,
           12068.0534150129,
           14485.0260401929,
           13421.5235724295,
           14285.674053621498
          ],
          [
           2738.3857610235896,
           2523.35071907009,
           2694.86153246507,
           7620.30395055802,
           7990.27808131356,
           7760.653984041841,
           23263.2019460656,
           18452.2333157166,
           17615.4919645558,
           343.752305725324,
           415.382303020031,
           415.503921109403,
           1862.65952720752,
           1838.88177091545,
           1746.2607508030999,
           15411.6480596979,
           17922.4297926168,
           19002.6323612994,
           12393.4237619878,
           10622.3656490649,
           14064.953369746201
          ]
         ]
        }
       ],
       "layout": {
        "autosize": false,
        "font": {
         "size": 2
        },
        "height": 800,
        "hovermode": "closest",
        "showlegend": false,
        "template": {
         "data": {
          "bar": [
           {
            "error_x": {
             "color": "#2a3f5f"
            },
            "error_y": {
             "color": "#2a3f5f"
            },
            "marker": {
             "line": {
              "color": "white",
              "width": 0.5
             }
            },
            "type": "bar"
           }
          ],
          "barpolar": [
           {
            "marker": {
             "line": {
              "color": "white",
              "width": 0.5
             }
            },
            "type": "barpolar"
           }
          ],
          "carpet": [
           {
            "aaxis": {
             "endlinecolor": "#2a3f5f",
             "gridcolor": "#C8D4E3",
             "linecolor": "#C8D4E3",
             "minorgridcolor": "#C8D4E3",
             "startlinecolor": "#2a3f5f"
            },
            "baxis": {
             "endlinecolor": "#2a3f5f",
             "gridcolor": "#C8D4E3",
             "linecolor": "#C8D4E3",
             "minorgridcolor": "#C8D4E3",
             "startlinecolor": "#2a3f5f"
            },
            "type": "carpet"
           }
          ],
          "choropleth": [
           {
            "colorbar": {
             "outlinewidth": 0,
             "ticks": ""
            },
            "type": "choropleth"
           }
          ],
          "contour": [
           {
            "colorbar": {
             "outlinewidth": 0,
             "ticks": ""
            },
            "colorscale": [
             [
              0,
              "#0d0887"
             ],
             [
              0.1111111111111111,
              "#46039f"
             ],
             [
              0.2222222222222222,
              "#7201a8"
             ],
             [
              0.3333333333333333,
              "#9c179e"
             ],
             [
              0.4444444444444444,
              "#bd3786"
             ],
             [
              0.5555555555555556,
              "#d8576b"
             ],
             [
              0.6666666666666666,
              "#ed7953"
             ],
             [
              0.7777777777777778,
              "#fb9f3a"
             ],
             [
              0.8888888888888888,
              "#fdca26"
             ],
             [
              1,
              "#f0f921"
             ]
            ],
            "type": "contour"
           }
          ],
          "contourcarpet": [
           {
            "colorbar": {
             "outlinewidth": 0,
             "ticks": ""
            },
            "type": "contourcarpet"
           }
          ],
          "heatmap": [
           {
            "colorbar": {
             "outlinewidth": 0,
             "ticks": ""
            },
            "colorscale": [
             [
              0,
              "#0d0887"
             ],
             [
              0.1111111111111111,
              "#46039f"
             ],
             [
              0.2222222222222222,
              "#7201a8"
             ],
             [
              0.3333333333333333,
              "#9c179e"
             ],
             [
              0.4444444444444444,
              "#bd3786"
             ],
             [
              0.5555555555555556,
              "#d8576b"
             ],
             [
              0.6666666666666666,
              "#ed7953"
             ],
             [
              0.7777777777777778,
              "#fb9f3a"
             ],
             [
              0.8888888888888888,
              "#fdca26"
             ],
             [
              1,
              "#f0f921"
             ]
            ],
            "type": "heatmap"
           }
          ],
          "heatmapgl": [
           {
            "colorbar": {
             "outlinewidth": 0,
             "ticks": ""
            },
            "colorscale": [
             [
              0,
              "#0d0887"
             ],
             [
              0.1111111111111111,
              "#46039f"
             ],
             [
              0.2222222222222222,
              "#7201a8"
             ],
             [
              0.3333333333333333,
              "#9c179e"
             ],
             [
              0.4444444444444444,
              "#bd3786"
             ],
             [
              0.5555555555555556,
              "#d8576b"
             ],
             [
              0.6666666666666666,
              "#ed7953"
             ],
             [
              0.7777777777777778,
              "#fb9f3a"
             ],
             [
              0.8888888888888888,
              "#fdca26"
             ],
             [
              1,
              "#f0f921"
             ]
            ],
            "type": "heatmapgl"
           }
          ],
          "histogram": [
           {
            "marker": {
             "colorbar": {
              "outlinewidth": 0,
              "ticks": ""
             }
            },
            "type": "histogram"
           }
          ],
          "histogram2d": [
           {
            "colorbar": {
             "outlinewidth": 0,
             "ticks": ""
            },
            "colorscale": [
             [
              0,
              "#0d0887"
             ],
             [
              0.1111111111111111,
              "#46039f"
             ],
             [
              0.2222222222222222,
              "#7201a8"
             ],
             [
              0.3333333333333333,
              "#9c179e"
             ],
             [
              0.4444444444444444,
              "#bd3786"
             ],
             [
              0.5555555555555556,
              "#d8576b"
             ],
             [
              0.6666666666666666,
              "#ed7953"
             ],
             [
              0.7777777777777778,
              "#fb9f3a"
             ],
             [
              0.8888888888888888,
              "#fdca26"
             ],
             [
              1,
              "#f0f921"
             ]
            ],
            "type": "histogram2d"
           }
          ],
          "histogram2dcontour": [
           {
            "colorbar": {
             "outlinewidth": 0,
             "ticks": ""
            },
            "colorscale": [
             [
              0,
              "#0d0887"
             ],
             [
              0.1111111111111111,
              "#46039f"
             ],
             [
              0.2222222222222222,
              "#7201a8"
             ],
             [
              0.3333333333333333,
              "#9c179e"
             ],
             [
              0.4444444444444444,
              "#bd3786"
             ],
             [
              0.5555555555555556,
              "#d8576b"
             ],
             [
              0.6666666666666666,
              "#ed7953"
             ],
             [
              0.7777777777777778,
              "#fb9f3a"
             ],
             [
              0.8888888888888888,
              "#fdca26"
             ],
             [
              1,
              "#f0f921"
             ]
            ],
            "type": "histogram2dcontour"
           }
          ],
          "mesh3d": [
           {
            "colorbar": {
             "outlinewidth": 0,
             "ticks": ""
            },
            "type": "mesh3d"
           }
          ],
          "parcoords": [
           {
            "line": {
             "colorbar": {
              "outlinewidth": 0,
              "ticks": ""
             }
            },
            "type": "parcoords"
           }
          ],
          "pie": [
           {
            "automargin": true,
            "type": "pie"
           }
          ],
          "scatter": [
           {
            "marker": {
             "colorbar": {
              "outlinewidth": 0,
              "ticks": ""
             }
            },
            "type": "scatter"
           }
          ],
          "scatter3d": [
           {
            "line": {
             "colorbar": {
              "outlinewidth": 0,
              "ticks": ""
             }
            },
            "marker": {
             "colorbar": {
              "outlinewidth": 0,
              "ticks": ""
             }
            },
            "type": "scatter3d"
           }
          ],
          "scattercarpet": [
           {
            "marker": {
             "colorbar": {
              "outlinewidth": 0,
              "ticks": ""
             }
            },
            "type": "scattercarpet"
           }
          ],
          "scattergeo": [
           {
            "marker": {
             "colorbar": {
              "outlinewidth": 0,
              "ticks": ""
             }
            },
            "type": "scattergeo"
           }
          ],
          "scattergl": [
           {
            "marker": {
             "colorbar": {
              "outlinewidth": 0,
              "ticks": ""
             }
            },
            "type": "scattergl"
           }
          ],
          "scattermapbox": [
           {
            "marker": {
             "colorbar": {
              "outlinewidth": 0,
              "ticks": ""
             }
            },
            "type": "scattermapbox"
           }
          ],
          "scatterpolar": [
           {
            "marker": {
             "colorbar": {
              "outlinewidth": 0,
              "ticks": ""
             }
            },
            "type": "scatterpolar"
           }
          ],
          "scatterpolargl": [
           {
            "marker": {
             "colorbar": {
              "outlinewidth": 0,
              "ticks": ""
             }
            },
            "type": "scatterpolargl"
           }
          ],
          "scatterternary": [
           {
            "marker": {
             "colorbar": {
              "outlinewidth": 0,
              "ticks": ""
             }
            },
            "type": "scatterternary"
           }
          ],
          "surface": [
           {
            "colorbar": {
             "outlinewidth": 0,
             "ticks": ""
            },
            "colorscale": [
             [
              0,
              "#0d0887"
             ],
             [
              0.1111111111111111,
              "#46039f"
             ],
             [
              0.2222222222222222,
              "#7201a8"
             ],
             [
              0.3333333333333333,
              "#9c179e"
             ],
             [
              0.4444444444444444,
              "#bd3786"
             ],
             [
              0.5555555555555556,
              "#d8576b"
             ],
             [
              0.6666666666666666,
              "#ed7953"
             ],
             [
              0.7777777777777778,
              "#fb9f3a"
             ],
             [
              0.8888888888888888,
              "#fdca26"
             ],
             [
              1,
              "#f0f921"
             ]
            ],
            "type": "surface"
           }
          ],
          "table": [
           {
            "cells": {
             "fill": {
              "color": "#EBF0F8"
             },
             "line": {
              "color": "white"
             }
            },
            "header": {
             "fill": {
              "color": "#C8D4E3"
             },
             "line": {
              "color": "white"
             }
            },
            "type": "table"
           }
          ]
         },
         "layout": {
          "annotationdefaults": {
           "arrowcolor": "#2a3f5f",
           "arrowhead": 0,
           "arrowwidth": 1
          },
          "coloraxis": {
           "colorbar": {
            "outlinewidth": 0,
            "ticks": ""
           }
          },
          "colorscale": {
           "diverging": [
            [
             0,
             "#8e0152"
            ],
            [
             0.1,
             "#c51b7d"
            ],
            [
             0.2,
             "#de77ae"
            ],
            [
             0.3,
             "#f1b6da"
            ],
            [
             0.4,
             "#fde0ef"
            ],
            [
             0.5,
             "#f7f7f7"
            ],
            [
             0.6,
             "#e6f5d0"
            ],
            [
             0.7,
             "#b8e186"
            ],
            [
             0.8,
             "#7fbc41"
            ],
            [
             0.9,
             "#4d9221"
            ],
            [
             1,
             "#276419"
            ]
           ],
           "sequential": [
            [
             0,
             "#0d0887"
            ],
            [
             0.1111111111111111,
             "#46039f"
            ],
            [
             0.2222222222222222,
             "#7201a8"
            ],
            [
             0.3333333333333333,
             "#9c179e"
            ],
            [
             0.4444444444444444,
             "#bd3786"
            ],
            [
             0.5555555555555556,
             "#d8576b"
            ],
            [
             0.6666666666666666,
             "#ed7953"
            ],
            [
             0.7777777777777778,
             "#fb9f3a"
            ],
            [
             0.8888888888888888,
             "#fdca26"
            ],
            [
             1,
             "#f0f921"
            ]
           ],
           "sequentialminus": [
            [
             0,
             "#0d0887"
            ],
            [
             0.1111111111111111,
             "#46039f"
            ],
            [
             0.2222222222222222,
             "#7201a8"
            ],
            [
             0.3333333333333333,
             "#9c179e"
            ],
            [
             0.4444444444444444,
             "#bd3786"
            ],
            [
             0.5555555555555556,
             "#d8576b"
            ],
            [
             0.6666666666666666,
             "#ed7953"
            ],
            [
             0.7777777777777778,
             "#fb9f3a"
            ],
            [
             0.8888888888888888,
             "#fdca26"
            ],
            [
             1,
             "#f0f921"
            ]
           ]
          },
          "colorway": [
           "#636efa",
           "#EF553B",
           "#00cc96",
           "#ab63fa",
           "#FFA15A",
           "#19d3f3",
           "#FF6692",
           "#B6E880",
           "#FF97FF",
           "#FECB52"
          ],
          "font": {
           "color": "#2a3f5f"
          },
          "geo": {
           "bgcolor": "white",
           "lakecolor": "white",
           "landcolor": "white",
           "showlakes": true,
           "showland": true,
           "subunitcolor": "#C8D4E3"
          },
          "hoverlabel": {
           "align": "left"
          },
          "hovermode": "closest",
          "mapbox": {
           "style": "light"
          },
          "paper_bgcolor": "white",
          "plot_bgcolor": "white",
          "polar": {
           "angularaxis": {
            "gridcolor": "#EBF0F8",
            "linecolor": "#EBF0F8",
            "ticks": ""
           },
           "bgcolor": "white",
           "radialaxis": {
            "gridcolor": "#EBF0F8",
            "linecolor": "#EBF0F8",
            "ticks": ""
           }
          },
          "scene": {
           "xaxis": {
            "backgroundcolor": "white",
            "gridcolor": "#DFE8F3",
            "gridwidth": 2,
            "linecolor": "#EBF0F8",
            "showbackground": true,
            "ticks": "",
            "zerolinecolor": "#EBF0F8"
           },
           "yaxis": {
            "backgroundcolor": "white",
            "gridcolor": "#DFE8F3",
            "gridwidth": 2,
            "linecolor": "#EBF0F8",
            "showbackground": true,
            "ticks": "",
            "zerolinecolor": "#EBF0F8"
           },
           "zaxis": {
            "backgroundcolor": "white",
            "gridcolor": "#DFE8F3",
            "gridwidth": 2,
            "linecolor": "#EBF0F8",
            "showbackground": true,
            "ticks": "",
            "zerolinecolor": "#EBF0F8"
           }
          },
          "shapedefaults": {
           "line": {
            "color": "#2a3f5f"
           }
          },
          "ternary": {
           "aaxis": {
            "gridcolor": "#DFE8F3",
            "linecolor": "#A2B1C6",
            "ticks": ""
           },
           "baxis": {
            "gridcolor": "#DFE8F3",
            "linecolor": "#A2B1C6",
            "ticks": ""
           },
           "bgcolor": "white",
           "caxis": {
            "gridcolor": "#DFE8F3",
            "linecolor": "#A2B1C6",
            "ticks": ""
           }
          },
          "title": {
           "x": 0.05
          },
          "xaxis": {
           "automargin": true,
           "gridcolor": "#EBF0F8",
           "linecolor": "#EBF0F8",
           "ticks": "",
           "title": {
            "standoff": 15
           },
           "zerolinecolor": "#EBF0F8",
           "zerolinewidth": 2
          },
          "yaxis": {
           "automargin": true,
           "gridcolor": "#EBF0F8",
           "linecolor": "#EBF0F8",
           "ticks": "",
           "title": {
            "standoff": 15
           },
           "zerolinecolor": "#EBF0F8",
           "zerolinewidth": 2
          }
         }
        },
        "title": {
         "font": {
          "size": 25
         },
         "text": "Heatmap title",
         "yanchor": "top"
        },
        "width": 800,
        "xaxis": {
         "domain": [
          0.15,
          1
         ],
         "mirror": false,
         "rangemode": "tozero",
         "showgrid": false,
         "showline": false,
         "showticklabels": true,
         "tickfont": {
          "size": 10
         },
         "tickmode": "array",
         "ticks": "",
         "ticktext": [
          "S_003-F_LeTo-L____wt-__0-____-REP_3",
          "S_001-F_LeTo-L____wt-__0-____-REP_1",
          "S_002-F_LeTo-L____wt-__0-____-REP_2",
          "S_011-F_LeTo-L____wt-__4-____-REP_2",
          "S_010-F_LeTo-L____wt-__4-____-REP_1",
          "S_012-F_LeTo-L____wt-__4-____-REP_3",
          "S_014-F_LeTo-L____wt-__6-____-REP_2",
          "S_013-F_LeTo-L____wt-__6-____-REP_1",
          "S_015-F_LeTo-L____wt-__6-____-REP_3",
          "S_005-F_LeTo-L____wt-__1-____-REP_2",
          "S_004-F_LeTo-L____wt-__1-____-REP_1",
          "S_006-F_LeTo-L____wt-__1-____-REP_3",
          "S_009-F_LeTo-L____wt-__2-____-REP_3",
          "S_007-F_LeTo-L____wt-__2-____-REP_1",
          "S_008-F_LeTo-L____wt-__2-____-REP_2",
          "S_018-F_LeTo-L____wt-__8-____-REP_3",
          "S_016-F_LeTo-L____wt-__8-____-REP_1",
          "S_017-F_LeTo-L____wt-__8-____-REP_2",
          "S_020-F_LeTo-L____wt-_14-____-REP_2",
          "S_019-F_LeTo-L____wt-_14-____-REP_1",
          "S_021-F_LeTo-L____wt-_14-____-REP_3"
         ],
         "tickvals": [
          5,
          15,
          25,
          35,
          45,
          55,
          65,
          75,
          85,
          95,
          105,
          115,
          125,
          135,
          145,
          155,
          165,
          175,
          185,
          195,
          205
         ],
         "type": "linear",
         "zeroline": false
        },
        "xaxis2": {
         "domain": [
          0,
          0.15
         ],
         "mirror": false,
         "showgrid": false,
         "showline": false,
         "showticklabels": false,
         "ticks": "",
         "zeroline": false
        },
        "yaxis": {
         "domain": [
          0,
          0.85
         ],
         "mirror": false,
         "rangemode": "tozero",
         "showgrid": false,
         "showline": false,
         "showticklabels": true,
         "tickfont": {
          "size": 8
         },
         "ticks": "",
         "ticktext": [
          "ENSG00000166450",
          "ENSG00000088305",
          "ENSG00000280623",
          "ENSG00000008311",
          "ENSG00000147601",
          "ENSG00000111752",
          "ENSG00000104332",
          "ENSG00000166073",
          "ENSG00000181449",
          "ENSG00000145147",
          "ENSG00000116729",
          "ENSG00000171444",
          "ENSG00000139174",
          "ENSG00000182580",
          "ENSG00000185155",
          "ENSG00000164458",
          "ENSG00000163508",
          "ENSG00000128683",
          "ENSG00000284606",
          "ENSG00000138795",
          "ENSG00000067840",
          "ENSG00000187193",
          "ENSG00000197024",
          "ENSG00000254339",
          "ENSG00000147596",
          "ENSG00000158246",
          "ENSG00000116285",
          "ENSG00000152061",
          "ENSG00000153363",
          "ENSG00000134363",
          "ENSG00000173218",
          "ENSG00000108379",
          "ENSG00000204335",
          "ENSG00000111186",
          "ENSG00000115380",
          "ENSG00000165588",
          "ENSG00000230798",
          "ENSG00000179023",
          "ENSG00000274588",
          "ENSG00000155886",
          "ENSG00000284691",
          "ENSG00000158473",
          "ENSG00000111432",
          "ENSG00000113722",
          "ENSG00000261326",
          "ENSG00000111913",
          "ENSG00000180730",
          "ENSG00000154556",
          "ENSG00000128849",
          "ENSG00000163492"
         ],
         "tickvals": [
          5,
          15,
          25,
          35,
          45,
          55,
          65,
          75,
          85,
          95,
          105,
          115,
          125,
          135,
          145,
          155,
          165,
          175,
          185,
          195,
          205,
          215,
          225,
          235,
          245,
          255,
          265,
          275,
          285,
          295,
          305,
          315,
          325,
          335,
          345,
          355,
          365,
          375,
          385,
          395,
          405,
          415,
          425,
          435,
          445,
          455,
          465,
          475,
          485,
          495
         ],
         "type": "linear",
         "zeroline": false
        },
        "yaxis2": {
         "domain": [
          0.825,
          0.975
         ],
         "mirror": false,
         "showgrid": false,
         "showline": false,
         "showticklabels": false,
         "ticks": "",
         "zeroline": false
        }
       }
      },
      "text/html": [
       "<div>\n",
       "        \n",
       "        \n",
       "            <div id=\"4c87f68a-8330-4884-883c-51b4f4788dee\" class=\"plotly-graph-div\" style=\"height:800px; width:800px;\"></div>\n",
       "            <script type=\"text/javascript\">\n",
       "                require([\"plotly\"], function(Plotly) {\n",
       "                    window.PLOTLYENV=window.PLOTLYENV || {};\n",
       "                    \n",
       "                if (document.getElementById(\"4c87f68a-8330-4884-883c-51b4f4788dee\")) {\n",
       "                    Plotly.newPlot(\n",
       "                        '4c87f68a-8330-4884-883c-51b4f4788dee',\n",
       "                        [{\"hoverinfo\": \"text\", \"marker\": {\"color\": \"rgb(0,116,217)\"}, \"mode\": \"lines\", \"type\": \"scatter\", \"x\": [15.0, 15.0, 25.0, 25.0], \"xaxis\": \"x\", \"y\": [0.0, 1915.4866736960184, 1915.4866736960184, 0.0], \"yaxis\": \"y2\"}, {\"hoverinfo\": \"text\", \"marker\": {\"color\": \"rgb(0,116,217)\"}, \"mode\": \"lines\", \"type\": \"scatter\", \"x\": [5.0, 5.0, 20.0, 20.0], \"xaxis\": \"x\", \"y\": [0.0, 4893.261926107737, 4893.261926107737, 1915.4866736960184], \"yaxis\": \"y2\"}, {\"hoverinfo\": \"text\", \"marker\": {\"color\": \"rgb(0,116,217)\"}, \"mode\": \"lines\", \"type\": \"scatter\", \"x\": [45.0, 45.0, 55.0, 55.0], \"xaxis\": \"x\", \"y\": [0.0, 1697.6190455589276, 1697.6190455589276, 0.0], \"yaxis\": \"y2\"}, {\"hoverinfo\": \"text\", \"marker\": {\"color\": \"rgb(0,116,217)\"}, \"mode\": \"lines\", \"type\": \"scatter\", \"x\": [35.0, 35.0, 50.0, 50.0], \"xaxis\": \"x\", \"y\": [0.0, 4965.164842024964, 4965.164842024964, 1697.6190455589276], \"yaxis\": \"y2\"}, {\"hoverinfo\": \"text\", \"marker\": {\"color\": \"rgb(0,116,217)\"}, \"mode\": \"lines\", \"type\": \"scatter\", \"x\": [75.0, 75.0, 85.0, 85.0], \"xaxis\": \"x\", \"y\": [0.0, 7892.480586159239, 7892.480586159239, 0.0], \"yaxis\": \"y2\"}, {\"hoverinfo\": \"text\", \"marker\": {\"color\": \"rgb(0,116,217)\"}, \"mode\": \"lines\", \"type\": \"scatter\", \"x\": [65.0, 65.0, 80.0, 80.0], \"xaxis\": \"x\", \"y\": [0.0, 17524.23776675779, 17524.23776675779, 7892.480586159239], \"yaxis\": \"y2\"}, {\"hoverinfo\": \"text\", \"marker\": {\"color\": \"rgb(0,116,217)\"}, \"mode\": \"lines\", \"type\": \"scatter\", \"x\": [42.5, 42.5, 72.5, 72.5], \"xaxis\": \"x\", \"y\": [4965.164842024964, 44311.86452060469, 44311.86452060469, 17524.23776675779], \"yaxis\": \"y2\"}, {\"hoverinfo\": \"text\", \"marker\": {\"color\": \"rgb(0,116,217)\"}, \"mode\": \"lines\", \"type\": \"scatter\", \"x\": [105.0, 105.0, 115.0, 115.0], \"xaxis\": \"x\", \"y\": [0.0, 2850.9737576426473, 2850.9737576426473, 0.0], \"yaxis\": \"y2\"}, {\"hoverinfo\": \"text\", \"marker\": {\"color\": \"rgb(0,116,217)\"}, \"mode\": \"lines\", \"type\": \"scatter\", \"x\": [95.0, 95.0, 110.0, 110.0], \"xaxis\": \"x\", \"y\": [0.0, 9134.287477149646, 9134.287477149646, 2850.9737576426473], \"yaxis\": \"y2\"}, {\"hoverinfo\": \"text\", \"marker\": {\"color\": \"rgb(0,116,217)\"}, \"mode\": \"lines\", \"type\": \"scatter\", \"x\": [135.0, 135.0, 145.0, 145.0], \"xaxis\": \"x\", \"y\": [0.0, 1904.5651863825792, 1904.5651863825792, 0.0], \"yaxis\": \"y2\"}, {\"hoverinfo\": \"text\", \"marker\": {\"color\": \"rgb(0,116,217)\"}, \"mode\": \"lines\", \"type\": \"scatter\", \"x\": [125.0, 125.0, 140.0, 140.0], \"xaxis\": \"x\", \"y\": [0.0, 2742.1663861455163, 2742.1663861455163, 1904.5651863825792], \"yaxis\": \"y2\"}, {\"hoverinfo\": \"text\", \"marker\": {\"color\": \"rgb(0,116,217)\"}, \"mode\": \"lines\", \"type\": \"scatter\", \"x\": [165.0, 165.0, 175.0, 175.0], \"xaxis\": \"x\", \"y\": [0.0, 1710.2778077502921, 1710.2778077502921, 0.0], \"yaxis\": \"y2\"}, {\"hoverinfo\": \"text\", \"marker\": {\"color\": \"rgb(0,116,217)\"}, \"mode\": \"lines\", \"type\": \"scatter\", \"x\": [155.0, 155.0, 170.0, 170.0], \"xaxis\": \"x\", \"y\": [0.0, 4963.100749309979, 4963.100749309979, 1710.2778077502921], \"yaxis\": \"y2\"}, {\"hoverinfo\": \"text\", \"marker\": {\"color\": \"rgb(0,116,217)\"}, \"mode\": \"lines\", \"type\": \"scatter\", \"x\": [195.0, 195.0, 205.0, 205.0], \"xaxis\": \"x\", \"y\": [0.0, 5052.0835641509175, 5052.0835641509175, 0.0], \"yaxis\": \"y2\"}, {\"hoverinfo\": \"text\", \"marker\": {\"color\": \"rgb(0,116,217)\"}, \"mode\": \"lines\", \"type\": \"scatter\", \"x\": [185.0, 185.0, 200.0, 200.0], \"xaxis\": \"x\", \"y\": [0.0, 12706.060071744201, 12706.060071744201, 5052.0835641509175], \"yaxis\": \"y2\"}, {\"hoverinfo\": \"text\", \"marker\": {\"color\": \"rgb(0,116,217)\"}, \"mode\": \"lines\", \"type\": \"scatter\", \"x\": [162.5, 162.5, 192.5, 192.5], \"xaxis\": \"x\", \"y\": [4963.100749309979, 34244.91972732123, 34244.91972732123, 12706.060071744201], \"yaxis\": \"y2\"}, {\"hoverinfo\": \"text\", \"marker\": {\"color\": \"rgb(0,116,217)\"}, \"mode\": \"lines\", \"type\": \"scatter\", \"x\": [132.5, 132.5, 177.5, 177.5], \"xaxis\": \"x\", \"y\": [2742.1663861455163, 45406.78056503115, 45406.78056503115, 34244.91972732123], \"yaxis\": \"y2\"}, {\"hoverinfo\": \"text\", \"marker\": {\"color\": \"rgb(0,116,217)\"}, \"mode\": \"lines\", \"type\": \"scatter\", \"x\": [102.5, 102.5, 155.0, 155.0], \"xaxis\": \"x\", \"y\": [9134.287477149646, 66153.77060758279, 66153.77060758279, 45406.78056503115], \"yaxis\": \"y2\"}, {\"hoverinfo\": \"text\", \"marker\": {\"color\": \"rgb(0,116,217)\"}, \"mode\": \"lines\", \"type\": \"scatter\", \"x\": [57.5, 57.5, 128.75, 128.75], \"xaxis\": \"x\", \"y\": [44311.86452060469, 100492.95438040655, 100492.95438040655, 66153.77060758279], \"yaxis\": \"y2\"}, {\"hoverinfo\": \"text\", \"marker\": {\"color\": \"rgb(0,116,217)\"}, \"mode\": \"lines\", \"type\": \"scatter\", \"x\": [12.5, 12.5, 93.125, 93.125], \"xaxis\": \"x\", \"y\": [4893.261926107737, 129395.37750528583, 129395.37750528583, 100492.95438040655], \"yaxis\": \"y2\"}, {\"hoverinfo\": \"text\", \"marker\": {\"color\": \"rgb(0,116,217)\"}, \"mode\": \"lines\", \"type\": \"scatter\", \"x\": [-0.0, -11816.600285912948, -11816.600285912948, -0.0], \"xaxis\": \"x2\", \"y\": [45.0, 45.0, 55.0, 55.0], \"yaxis\": \"y\"}, {\"hoverinfo\": \"text\", \"marker\": {\"color\": \"rgb(0,116,217)\"}, \"mode\": \"lines\", \"type\": \"scatter\", \"x\": [-0.0, -12158.192471351747, -12158.192471351747, -11816.600285912948], \"xaxis\": \"x2\", \"y\": [35.0, 35.0, 50.0, 50.0], \"yaxis\": \"y\"}, {\"hoverinfo\": \"text\", \"marker\": {\"color\": \"rgb(0,116,217)\"}, \"mode\": \"lines\", \"type\": \"scatter\", \"x\": [-0.0, -3374.452787221135, -3374.452787221135, -0.0], \"xaxis\": \"x2\", \"y\": [75.0, 75.0, 85.0, 85.0], \"yaxis\": \"y\"}, {\"hoverinfo\": \"text\", \"marker\": {\"color\": \"rgb(0,116,217)\"}, \"mode\": \"lines\", \"type\": \"scatter\", \"x\": [-0.0, -26458.889689195184, -26458.889689195184, -3374.452787221135], \"xaxis\": \"x2\", \"y\": [65.0, 65.0, 80.0, 80.0], \"yaxis\": \"y\"}, {\"hoverinfo\": \"text\", \"marker\": {\"color\": \"rgb(0,116,217)\"}, \"mode\": \"lines\", \"type\": \"scatter\", \"x\": [-12158.192471351747, -39608.93278612939, -39608.93278612939, -26458.889689195184], \"xaxis\": \"x2\", \"y\": [42.5, 42.5, 72.5, 72.5], \"yaxis\": \"y\"}, {\"hoverinfo\": \"text\", \"marker\": {\"color\": \"rgb(0,116,217)\"}, \"mode\": \"lines\", \"type\": \"scatter\", \"x\": [-0.0, -5672.889601792711, -5672.889601792711, -0.0], \"xaxis\": \"x2\", \"y\": [105.0, 105.0, 115.0, 115.0], \"yaxis\": \"y\"}, {\"hoverinfo\": \"text\", \"marker\": {\"color\": \"rgb(0,116,217)\"}, \"mode\": \"lines\", \"type\": \"scatter\", \"x\": [-0.0, -9821.103820420898, -9821.103820420898, -0.0], \"xaxis\": \"x2\", \"y\": [125.0, 125.0, 135.0, 135.0], \"yaxis\": \"y\"}, {\"hoverinfo\": \"text\", \"marker\": {\"color\": \"rgb(0,116,217)\"}, \"mode\": \"lines\", \"type\": \"scatter\", \"x\": [-5672.889601792711, -15068.592916253598, -15068.592916253598, -9821.103820420898], \"xaxis\": \"x2\", \"y\": [110.0, 110.0, 130.0, 130.0], \"yaxis\": \"y\"}, {\"hoverinfo\": \"text\", \"marker\": {\"color\": \"rgb(0,116,217)\"}, \"mode\": \"lines\", \"type\": \"scatter\", \"x\": [-0.0, -19021.33952304916, -19021.33952304916, -15068.592916253598], \"xaxis\": \"x2\", \"y\": [95.0, 95.0, 120.0, 120.0], \"yaxis\": \"y\"}, {\"hoverinfo\": \"text\", \"marker\": {\"color\": \"rgb(0,116,217)\"}, \"mode\": \"lines\", \"type\": \"scatter\", \"x\": [-0.0, -2151.147517131936, -2151.147517131936, -0.0], \"xaxis\": \"x2\", \"y\": [155.0, 155.0, 165.0, 165.0], \"yaxis\": \"y\"}, {\"hoverinfo\": \"text\", \"marker\": {\"color\": \"rgb(0,116,217)\"}, \"mode\": \"lines\", \"type\": \"scatter\", \"x\": [-0.0, -8302.209710441053, -8302.209710441053, -2151.147517131936], \"xaxis\": \"x2\", \"y\": [145.0, 145.0, 160.0, 160.0], \"yaxis\": \"y\"}, {\"hoverinfo\": \"text\", \"marker\": {\"color\": \"rgb(0,116,217)\"}, \"mode\": \"lines\", \"type\": \"scatter\", \"x\": [-0.0, -7538.842875664843, -7538.842875664843, -0.0], \"xaxis\": \"x2\", \"y\": [185.0, 185.0, 195.0, 195.0], \"yaxis\": \"y\"}, {\"hoverinfo\": \"text\", \"marker\": {\"color\": \"rgb(0,116,217)\"}, \"mode\": \"lines\", \"type\": \"scatter\", \"x\": [-0.0, -13159.771876768938, -13159.771876768938, -7538.842875664843], \"xaxis\": \"x2\", \"y\": [175.0, 175.0, 190.0, 190.0], \"yaxis\": \"y\"}, {\"hoverinfo\": \"text\", \"marker\": {\"color\": \"rgb(0,116,217)\"}, \"mode\": \"lines\", \"type\": \"scatter\", \"x\": [-0.0, -2528.3722877476494, -2528.3722877476494, -0.0], \"xaxis\": \"x2\", \"y\": [205.0, 205.0, 215.0, 215.0], \"yaxis\": \"y\"}, {\"hoverinfo\": \"text\", \"marker\": {\"color\": \"rgb(0,116,217)\"}, \"mode\": \"lines\", \"type\": \"scatter\", \"x\": [-0.0, -767.4541630209435, -767.4541630209435, -0.0], \"xaxis\": \"x2\", \"y\": [245.0, 245.0, 255.0, 255.0], \"yaxis\": \"y\"}, {\"hoverinfo\": \"text\", \"marker\": {\"color\": \"rgb(0,116,217)\"}, \"mode\": \"lines\", \"type\": \"scatter\", \"x\": [-0.0, -1836.17656353133, -1836.17656353133, -767.4541630209435], \"xaxis\": \"x2\", \"y\": [235.0, 235.0, 250.0, 250.0], \"yaxis\": \"y\"}, {\"hoverinfo\": \"text\", \"marker\": {\"color\": \"rgb(0,116,217)\"}, \"mode\": \"lines\", \"type\": \"scatter\", \"x\": [-0.0, -3326.677608508474, -3326.677608508474, -1836.17656353133], \"xaxis\": \"x2\", \"y\": [225.0, 225.0, 242.5, 242.5], \"yaxis\": \"y\"}, {\"hoverinfo\": \"text\", \"marker\": {\"color\": \"rgb(0,116,217)\"}, \"mode\": \"lines\", \"type\": \"scatter\", \"x\": [-2528.3722877476494, -5244.359899838047, -5244.359899838047, -3326.677608508474], \"xaxis\": \"x2\", \"y\": [210.0, 210.0, 233.75, 233.75], \"yaxis\": \"y\"}, {\"hoverinfo\": \"text\", \"marker\": {\"color\": \"rgb(0,116,217)\"}, \"mode\": \"lines\", \"type\": \"scatter\", \"x\": [-0.0, -5927.211087130818, -5927.211087130818, -0.0], \"xaxis\": \"x2\", \"y\": [265.0, 265.0, 275.0, 275.0], \"yaxis\": \"y\"}, {\"hoverinfo\": \"text\", \"marker\": {\"color\": \"rgb(0,116,217)\"}, \"mode\": \"lines\", \"type\": \"scatter\", \"x\": [-5244.359899838047, -9144.886295896495, -9144.886295896495, -5927.211087130818], \"xaxis\": \"x2\", \"y\": [221.875, 221.875, 270.0, 270.0], \"yaxis\": \"y\"}, {\"hoverinfo\": \"text\", \"marker\": {\"color\": \"rgb(0,116,217)\"}, \"mode\": \"lines\", \"type\": \"scatter\", \"x\": [-0.0, -3572.0758722313053, -3572.0758722313053, -0.0], \"xaxis\": \"x2\", \"y\": [295.0, 295.0, 305.0, 305.0], \"yaxis\": \"y\"}, {\"hoverinfo\": \"text\", \"marker\": {\"color\": \"rgb(0,116,217)\"}, \"mode\": \"lines\", \"type\": \"scatter\", \"x\": [-0.0, -2260.1167823154456, -2260.1167823154456, -0.0], \"xaxis\": \"x2\", \"y\": [315.0, 315.0, 325.0, 325.0], \"yaxis\": \"y\"}, {\"hoverinfo\": \"text\", \"marker\": {\"color\": \"rgb(0,116,217)\"}, \"mode\": \"lines\", \"type\": \"scatter\", \"x\": [-0.0, -2504.9101996500112, -2504.9101996500112, -0.0], \"xaxis\": \"x2\", \"y\": [335.0, 335.0, 345.0, 345.0], \"yaxis\": \"y\"}, {\"hoverinfo\": \"text\", \"marker\": {\"color\": \"rgb(0,116,217)\"}, \"mode\": \"lines\", \"type\": \"scatter\", \"x\": [-2260.1167823154456, -4691.301438091211, -4691.301438091211, -2504.9101996500112], \"xaxis\": \"x2\", \"y\": [320.0, 320.0, 340.0, 340.0], \"yaxis\": \"y\"}, {\"hoverinfo\": \"text\", \"marker\": {\"color\": \"rgb(0,116,217)\"}, \"mode\": \"lines\", \"type\": \"scatter\", \"x\": [-3572.0758722313053, -5963.785503146202, -5963.785503146202, -4691.301438091211], \"xaxis\": \"x2\", \"y\": [300.0, 300.0, 330.0, 330.0], \"yaxis\": \"y\"}, {\"hoverinfo\": \"text\", \"marker\": {\"color\": \"rgb(0,116,217)\"}, \"mode\": \"lines\", \"type\": \"scatter\", \"x\": [-0.0, -7199.364842950916, -7199.364842950916, -5963.785503146202], \"xaxis\": \"x2\", \"y\": [285.0, 285.0, 315.0, 315.0], \"yaxis\": \"y\"}, {\"hoverinfo\": \"text\", \"marker\": {\"color\": \"rgb(0,116,217)\"}, \"mode\": \"lines\", \"type\": \"scatter\", \"x\": [-0.0, -685.4944673229013, -685.4944673229013, -0.0], \"xaxis\": \"x2\", \"y\": [395.0, 395.0, 405.0, 405.0], \"yaxis\": \"y\"}, {\"hoverinfo\": \"text\", \"marker\": {\"color\": \"rgb(0,116,217)\"}, \"mode\": \"lines\", \"type\": \"scatter\", \"x\": [-0.0, -1209.0390756701938, -1209.0390756701938, -685.4944673229013], \"xaxis\": \"x2\", \"y\": [385.0, 385.0, 400.0, 400.0], \"yaxis\": \"y\"}, {\"hoverinfo\": \"text\", \"marker\": {\"color\": \"rgb(0,116,217)\"}, \"mode\": \"lines\", \"type\": \"scatter\", \"x\": [-0.0, -1543.369652592443, -1543.369652592443, -1209.0390756701938], \"xaxis\": \"x2\", \"y\": [375.0, 375.0, 392.5, 392.5], \"yaxis\": \"y\"}, {\"hoverinfo\": \"text\", \"marker\": {\"color\": \"rgb(0,116,217)\"}, \"mode\": \"lines\", \"type\": \"scatter\", \"x\": [-0.0, -3052.9325303951787, -3052.9325303951787, -1543.369652592443], \"xaxis\": \"x2\", \"y\": [365.0, 365.0, 383.75, 383.75], \"yaxis\": \"y\"}, {\"hoverinfo\": \"text\", \"marker\": {\"color\": \"rgb(0,116,217)\"}, \"mode\": \"lines\", \"type\": \"scatter\", \"x\": [-0.0, -720.7415147755104, -720.7415147755104, -0.0], \"xaxis\": \"x2\", \"y\": [425.0, 425.0, 435.0, 435.0], \"yaxis\": \"y\"}, {\"hoverinfo\": \"text\", \"marker\": {\"color\": \"rgb(0,116,217)\"}, \"mode\": \"lines\", \"type\": \"scatter\", \"x\": [-0.0, -2437.333999669712, -2437.333999669712, -720.7415147755104], \"xaxis\": \"x2\", \"y\": [415.0, 415.0, 430.0, 430.0], \"yaxis\": \"y\"}, {\"hoverinfo\": \"text\", \"marker\": {\"color\": \"rgb(0,116,217)\"}, \"mode\": \"lines\", \"type\": \"scatter\", \"x\": [-0.0, -1906.5149027914247, -1906.5149027914247, -0.0], \"xaxis\": \"x2\", \"y\": [455.0, 455.0, 465.0, 465.0], \"yaxis\": \"y\"}, {\"hoverinfo\": \"text\", \"marker\": {\"color\": \"rgb(0,116,217)\"}, \"mode\": \"lines\", \"type\": \"scatter\", \"x\": [-0.0, -3793.34082435485, -3793.34082435485, -1906.5149027914247], \"xaxis\": \"x2\", \"y\": [445.0, 445.0, 460.0, 460.0], \"yaxis\": \"y\"}, {\"hoverinfo\": \"text\", \"marker\": {\"color\": \"rgb(0,116,217)\"}, \"mode\": \"lines\", \"type\": \"scatter\", \"x\": [-2437.333999669712, -5142.221294892301, -5142.221294892301, -3793.34082435485], \"xaxis\": \"x2\", \"y\": [422.5, 422.5, 452.5, 452.5], \"yaxis\": \"y\"}, {\"hoverinfo\": \"text\", \"marker\": {\"color\": \"rgb(0,116,217)\"}, \"mode\": \"lines\", \"type\": \"scatter\", \"x\": [-3052.9325303951787, -6563.967858926945, -6563.967858926945, -5142.221294892301], \"xaxis\": \"x2\", \"y\": [374.375, 374.375, 437.5, 437.5], \"yaxis\": \"y\"}, {\"hoverinfo\": \"text\", \"marker\": {\"color\": \"rgb(0,116,217)\"}, \"mode\": \"lines\", \"type\": \"scatter\", \"x\": [-0.0, -7777.548059235768, -7777.548059235768, -6563.967858926945], \"xaxis\": \"x2\", \"y\": [355.0, 355.0, 405.9375, 405.9375], \"yaxis\": \"y\"}, {\"hoverinfo\": \"text\", \"marker\": {\"color\": \"rgb(0,116,217)\"}, \"mode\": \"lines\", \"type\": \"scatter\", \"x\": [-7199.364842950916, -11225.85886030486, -11225.85886030486, -7777.548059235768], \"xaxis\": \"x2\", \"y\": [300.0, 300.0, 380.46875, 380.46875], \"yaxis\": \"y\"}, {\"hoverinfo\": \"text\", \"marker\": {\"color\": \"rgb(0,116,217)\"}, \"mode\": \"lines\", \"type\": \"scatter\", \"x\": [-9144.886295896495, -14393.15890814963, -14393.15890814963, -11225.85886030486], \"xaxis\": \"x2\", \"y\": [245.9375, 245.9375, 340.234375, 340.234375], \"yaxis\": \"y\"}, {\"hoverinfo\": \"text\", \"marker\": {\"color\": \"rgb(0,116,217)\"}, \"mode\": \"lines\", \"type\": \"scatter\", \"x\": [-13159.771876768938, -19108.10176008391, -19108.10176008391, -14393.15890814963], \"xaxis\": \"x2\", \"y\": [182.5, 182.5, 293.0859375, 293.0859375], \"yaxis\": \"y\"}, {\"hoverinfo\": \"text\", \"marker\": {\"color\": \"rgb(0,116,217)\"}, \"mode\": \"lines\", \"type\": \"scatter\", \"x\": [-8302.209710441053, -23536.02942367536, -23536.02942367536, -19108.10176008391], \"xaxis\": \"x2\", \"y\": [152.5, 152.5, 237.79296875, 237.79296875], \"yaxis\": \"y\"}, {\"hoverinfo\": \"text\", \"marker\": {\"color\": \"rgb(0,116,217)\"}, \"mode\": \"lines\", \"type\": \"scatter\", \"x\": [-19021.33952304916, -28795.066988412014, -28795.066988412014, -23536.02942367536], \"xaxis\": \"x2\", \"y\": [107.5, 107.5, 195.146484375, 195.146484375], \"yaxis\": \"y\"}, {\"hoverinfo\": \"text\", \"marker\": {\"color\": \"rgb(0,116,217)\"}, \"mode\": \"lines\", \"type\": \"scatter\", \"x\": [-0.0, -19060.92638667431, -19060.92638667431, -0.0], \"xaxis\": \"x2\", \"y\": [485.0, 485.0, 495.0, 495.0], \"yaxis\": \"y\"}, {\"hoverinfo\": \"text\", \"marker\": {\"color\": \"rgb(0,116,217)\"}, \"mode\": \"lines\", \"type\": \"scatter\", \"x\": [-0.0, -40635.37645570365, -40635.37645570365, -19060.92638667431], \"xaxis\": \"x2\", \"y\": [475.0, 475.0, 490.0, 490.0], \"yaxis\": \"y\"}, {\"hoverinfo\": \"text\", \"marker\": {\"color\": \"rgb(0,116,217)\"}, \"mode\": \"lines\", \"type\": \"scatter\", \"x\": [-28795.066988412014, -58496.85626667344, -58496.85626667344, -40635.37645570365], \"xaxis\": \"x2\", \"y\": [151.3232421875, 151.3232421875, 482.5, 482.5], \"yaxis\": \"y\"}, {\"hoverinfo\": \"text\", \"marker\": {\"color\": \"rgb(0,116,217)\"}, \"mode\": \"lines\", \"type\": \"scatter\", \"x\": [-39608.93278612939, -76053.48142309925, -76053.48142309925, -58496.85626667344], \"xaxis\": \"x2\", \"y\": [57.5, 57.5, 316.91162109375, 316.91162109375], \"yaxis\": \"y\"}, {\"hoverinfo\": \"text\", \"marker\": {\"color\": \"rgb(0,116,217)\"}, \"mode\": \"lines\", \"type\": \"scatter\", \"x\": [-0.0, -90103.74998249755, -90103.74998249755, -76053.48142309925], \"xaxis\": \"x2\", \"y\": [25.0, 25.0, 187.205810546875, 187.205810546875], \"yaxis\": \"y\"}, {\"hoverinfo\": \"text\", \"marker\": {\"color\": \"rgb(0,116,217)\"}, \"mode\": \"lines\", \"type\": \"scatter\", \"x\": [-0.0, -149530.47345896592, -149530.47345896592, -90103.74998249755], \"xaxis\": \"x2\", \"y\": [15.0, 15.0, 106.1029052734375, 106.1029052734375], \"yaxis\": \"y\"}, {\"hoverinfo\": \"text\", \"marker\": {\"color\": \"rgb(0,116,217)\"}, \"mode\": \"lines\", \"type\": \"scatter\", \"x\": [-0.0, -230739.93804550226, -230739.93804550226, -149530.47345896592], \"xaxis\": \"x2\", \"y\": [5.0, 5.0, 60.55145263671875, 60.55145263671875], \"yaxis\": \"y\"}, {\"colorbar\": {\"len\": 200.0, \"lenmode\": \"pixels\", \"tickfont\": {\"size\": 10}, \"title\": {\"font\": {\"size\": 10}, \"text\": \"Number of Bills per Cell\"}, \"xpad\": 100}, \"colorscale\": [[0.0, \"rgb(247,251,255)\"], [0.125, \"rgb(222,235,247)\"], [0.25, \"rgb(198,219,239)\"], [0.375, \"rgb(158,202,225)\"], [0.5, \"rgb(107,174,214)\"], [0.625, \"rgb(66,146,198)\"], [0.75, \"rgb(33,113,181)\"], [0.875, \"rgb(8,81,156)\"], [1.0, \"rgb(8,48,107)\"]], \"type\": \"heatmap\", \"x\": [5.0, 15.0, 25.0, 35.0, 45.0, 55.0, 65.0, 75.0, 85.0, 95.0, 105.0, 115.0, 125.0, 135.0, 145.0, 155.0, 165.0, 175.0, 185.0, 195.0, 205.0], \"y\": [5.0, 15.0, 25.0, 35.0, 45.0, 55.0, 65.0, 75.0, 85.0, 95.0, 105.0, 115.0, 125.0, 135.0, 145.0, 155.0, 165.0, 175.0, 185.0, 195.0, 205.0, 215.0, 225.0, 235.0, 245.0, 255.0, 265.0, 275.0, 285.0, 295.0, 305.0, 315.0, 325.0, 335.0, 345.0, 355.0, 365.0, 375.0, 385.0, 395.0, 405.0, 415.0, 425.0, 435.0, 445.0, 455.0, 465.0, 475.0, 485.0, 495.0], \"z\": [[979.63723593816, 816.267762501689, 896.020696300553, 86742.0834649575, 91228.4475164639, 91174.6426167218, 67482.0177312657, 59078.3828261747, 51556.628417965, 5289.98987876342, 5496.84207765274, 5322.03250515052, 16578.5764159344, 18161.5582945244, 17710.542349828, 26462.0192501992, 26327.4734172893, 26739.9306849836, 10023.8692933838, 7789.68427471354, 8483.259630755709], [73964.2797975539, 78280.6897085563, 76852.0417914521, 2880.2837805780896, 3023.90542444734, 2748.4001605882, 1790.73309615682, 1846.23175872245, 1948.1014685796697, 28807.412299018302, 25394.1546531502, 24945.6650581404, 14898.8849958046, 14119.0851412676, 14621.0120732053, 1360.607139721, 1304.19308606852, 1437.0961372003399, 661.811562263535, 609.471562095325, 625.499644844088], [624.645670906736, 708.554357027642, 672.5753195789711, 3848.11080418437, 4881.41287880234, 3969.71310449817, 5054.1685934565, 3678.25864564312, 3128.6801511021504, 37743.1083240423, 43301.3027277635, 45413.2136322522, 2662.20228890135, 3606.03682152353, 3480.21381038653, 799.8050752825591, 879.9982791042039, 972.183309377055, 439.659486110115, 463.624129526875, 414.343486057671], [27308.991349775697, 26399.321314380697, 27126.171935525297, 3356.6084208492603, 4029.9461753835203, 3431.64807271659, 3392.77213901826, 3348.3056199998305, 3342.22900483877, 3980.01555642541, 4104.7880666875, 3601.0835139464702, 3473.51216872198, 3386.08925743564, 3364.7649875861102, 2591.62190239077, 3037.21869719785, 2920.4118556690505, 1372.15285906637, 1443.6152015321697, 1427.09234634582], [31877.975866637797, 32692.418184174, 32832.882865091204, 2123.1602511975, 2342.77735698583, 2186.26658550893, 1220.44375720977, 1280.74648752098, 1242.44258612252, 7089.843706121421, 6408.933339012459, 6985.472014854029, 3363.2516761090696, 3096.25941352319, 3103.8614738646697, 1245.24730710929, 1231.84631535522, 1209.90817380863, 881.7018443082491, 814.8249757365539, 955.587560659166], [28344.6393197738, 26942.3372108831, 26941.1970249282, 2957.20832616216, 2842.6277595057204, 3005.82945666058, 2023.0483123007998, 2115.3397649675103, 2090.03125377758, 10088.0822618349, 10056.624024761999, 10689.642172689, 5368.97383520197, 5373.6430268691, 5143.74803305531, 2067.73605034582, 2024.2711485635898, 2097.14140217632, 1855.5927802781302, 2167.15876704987, 2155.8019372559397], [15600.385131533601, 15544.046850311599, 15388.6032379602, 3952.7717492007796, 5045.69731375598, 4239.03631273068, 7050.62517852771, 9526.19743563882, 9940.650519894409, 944.925582844741, 914.642815834421, 775.6744284708079, 1682.69921119073, 2047.5541245689499, 1686.67232097266, 9022.481782596109, 10628.507328105401, 11259.8659700479, 1902.7427469632398, 1918.3623590563102, 2207.3629718707602], [12304.585374428601, 12006.3175714801, 12348.721738496, 635.811371267891, 657.474050498994, 629.527095644713, 350.16142149044, 330.784539819132, 298.235209883642, 713.5927621141451, 693.580228124449, 705.6624002355201, 1405.79045243969, 1290.47476199557, 1333.71030897851, 165.14764580051002, 152.795534345135, 175.82537354097, 295.127022278529, 369.35811143890504, 334.275718043856], [10741.019392681701, 10806.5443439111, 11199.1893763556, 76.5097199137969, 86.5331797391353, 55.1805526496841, 36.326892804731294, 19.664631471129, 16.240747748340198, 484.739848688883, 500.191105233872, 385.393780063167, 140.625757365594, 151.498716164771, 127.21281210519399, 8.044956442699009, 10.297172745664, 25.218009328097896, 4.156954498639109, 7.29872931760373, 4.8387840782136795], [995.812107798633, 1148.51542160498, 1201.20526118898, 1417.95792481698, 1564.53194207629, 1543.9124306885699, 12445.9595725743, 11781.7434419503, 11510.6293866006, 4352.4873590548295, 4787.31044268771, 5251.66021983019, 5911.6960809814, 5687.874973868361, 5296.064301147299, 7780.523720250509, 7400.735334422459, 7027.81006417952, 2585.40092841775, 2795.8114616755897, 2936.38363920409], [100.37704565746701, 118.940563581579, 138.447800471908, 5956.192690558941, 6702.2784895675095, 6391.7211470049, 7504.769013802191, 6854.142214427769, 6565.090651885551, 4206.690532478739, 4287.09202509247, 4187.55620557518, 5144.6447253958395, 5130.63910849281, 5269.77551206823, 5480.67151328878, 5704.21049585876, 5809.740510383921, 3559.5139686765206, 4511.5597411748495, 4802.02297002732], [1100.43906646358, 1303.21910206974, 1246.23604745927, 6645.95875986436, 6848.84202782436, 6662.4058753177505, 4215.37396424859, 5233.37463817409, 4620.88781469876, 4398.41908372997, 4560.88026710395, 4250.93510055546, 4494.61839493521, 4267.607331524539, 4468.73963676177, 6351.04114603554, 6444.71680711834, 6781.7475660282, 2822.4883147115397, 2767.0926195600605, 3072.1196868165803], [1308.69922489804, 1607.3353691022, 1535.8951143331699, 1173.20445233417, 1156.49592887949, 1152.11571343263, 3479.63658305514, 4087.1122902165794, 3752.6778795158098, 145.86153928176398, 167.722331763801, 196.351455049028, 986.997897554754, 975.366672007554, 928.216474296232, 5887.0891467089405, 6217.31607765256, 5968.59359342141, 4329.27968135036, 6299.561472213629, 6045.57966188334], [40.0098228194818, 55.832603327214095, 45.236903044831, 2418.32878775127, 2554.69443600746, 2611.5582729560897, 6578.485570423579, 6432.702898401601, 8074.52281515221, 851.588563779017, 676.597652075117, 779.5225161058521, 1880.01363752918, 1828.8539576860198, 1821.28937239672, 5895.89076171152, 8138.33172761866, 8128.77698379785, 1783.33410870684, 2213.21691836334, 2065.67980851913], [60.1415717609265, 102.149055681064, 78.4139442696596, 55.302751992069304, 63.8566343493236, 51.3563483124833, 112.92089305372801, 113.147919896825, 107.0836320925, 10543.7276891269, 7505.516101325391, 8000.2313873371495, 9071.35067020228, 8496.00176292848, 9745.937605545501, 68.8320401424221, 75.2406869532814, 71.9556133399172, 49.3791480008848, 46.808686949156105, 63.446363330838395], [27.970410095841604, 18.839171124432198, 26.014704220848497, 15.904100160358901, 19.595619444310998, 9.99138902673573, 4.15373976000627, 11.727799827751902, 4.96622170733738, 5236.14162865085, 4570.20454391193, 4748.93397607444, 9708.42907170549, 8481.73911235407, 9153.49977498994, 3.6926608168634902, 0.0, 1.57786505204616, 0.0, 0.0, 0.0], [65.22772242586571, 105.88874495516899, 73.7652736902144, 149.557705954309, 209.05826719141498, 108.353263596768, 33.1563744024196, 36.2876860758884, 25.080566250810598, 4598.33802292699, 3474.61037873015, 4143.11495871097, 8323.128225844559, 8049.052622830791, 8469.73815125215, 20.875531924275602, 35.380479934391296, 38.9402195057615, 2.6394850782232497, 0.0, 3.71388257336754], [52.1423498064091, 77.3648097103108, 53.536418098547294, 8233.94177444348, 8342.22420869978, 7780.146641240401, 686.0059792332551, 582.9761323647721, 560.683027509632, 3315.2046669943397, 3324.8694401443, 3515.57599048594, 2381.60929949746, 2292.36418169047, 2317.8860492101003, 195.00542986258202, 181.80353870996998, 153.426933816338, 114.097646783664, 63.889981778548005, 59.08488821388929], [330.686054537076, 296.295010267447, 289.475934950679, 2655.87945228971, 2762.50549586976, 2627.7157322983803, 4549.5183925580895, 3690.67242722123, 4268.58143598448, 3441.1519487984497, 3920.4976329511796, 4024.2626331021, 5293.45413913778, 5054.734319529671, 5466.3779598561205, 2761.75496285503, 2615.08010059786, 2688.5765815637196, 359.899462270415, 429.86590220148804, 354.897354925674], [26.396839401964804, 58.4982692818491, 45.594352648282005, 4407.36339350224, 4359.54230579919, 4549.4000789947495, 2197.89480984871, 2474.75274312466, 2743.53604081183, 1472.8109102304502, 1416.57982647356, 1395.21530481742, 2479.62056314151, 2857.57721320938, 2811.0541910377196, 2959.9394819829804, 3056.1693727635497, 2518.6685918406, 1010.48886919276, 849.088503828995, 871.230651161163], [7175.473120395559, 7665.169557351421, 7736.39602700673, 405.09362529183403, 355.53345181785204, 398.940598772993, 107.061746275246, 117.193860833736, 123.52680610818001, 1524.9836028034, 1462.7037978438098, 1494.73507952876, 841.240828756953, 812.095901432455, 876.012926738, 78.0471556699742, 66.4183580242513, 58.6090572391602, 170.361127153517, 208.83659542957, 175.843037055102], [6704.0007631127, 6275.2995704574405, 6771.78195524942, 101.23896348895501, 148.01865942996798, 123.36932210816099, 77.42668559687809, 96.29740803667231, 82.90097823870249, 600.723192775748, 553.311877487242, 505.10309761000394, 586.855478155666, 431.60737954634595, 453.70855819771, 132.520616433252, 186.76338033835097, 160.733258789177, 223.23406044546502, 217.547772203708, 296.9567283825], [4724.27463090342, 5202.136508662929, 5074.17962743412, 718.717738888367, 747.6762966062131, 771.9877706026849, 891.9466006328439, 778.851509232864, 840.6694648154629, 1037.48331336503, 1062.0025547094901, 1054.47032394961, 777.078995030058, 792.509027061471, 787.456380973411, 1032.2823852228698, 1062.85426158106, 970.5004316641879, 762.1464771357299, 831.615079384649, 926.357507308412], [5227.49452880058, 4815.58251406847, 5133.71237763089, 9.92723230080238, 11.0093679460319, 8.7476939240788, 3.1786895515560603, 8.115497080272888, 3.4006692929612203, 1385.5033728558099, 1335.87186525406, 1244.58558305798, 575.344706057846, 551.346706873388, 521.821836274454, 2.25343729237192, 0.0, 1.2357237845553501, 0.0, 0.0, 0.0], [4853.55901142217, 5205.22330620366, 4867.623306976389, 27.4317272659733, 31.255446265686498, 23.122036502555105, 10.9096582566642, 10.1737485469828, 11.972566923309698, 398.34904804360804, 355.726418107492, 366.51975628743696, 208.32531012035702, 235.629880018259, 264.183753656418, 12.850738170287899, 13.1617125445749, 19.4028261456664, 12.2574698920371, 16.140269446097697, 9.509333321389331], [4506.98520225706, 4836.882900533, 4749.56836462255, 81.0164018596875, 82.136105791283, 60.6130450399098, 81.7255318076994, 134.545798648003, 80.18317811150071, 666.841507909498, 709.799126467146, 590.1044610595, 255.991299798447, 251.211196893722, 283.982042591086, 100.561137067182, 94.7517389120648, 107.46205982329799, 86.2482320094493, 84.83543090599049, 77.3946258887105], [3254.93593889085, 3417.04166441299, 3429.35508628725, 1559.5112784944502, 1784.2635765685, 1559.22806663112, 1678.21261176915, 1549.3738000498802, 1453.9315369801002, 523.296298861243, 539.44867870734, 529.1482898141439, 583.453782647348, 584.024273437235, 588.463349319149, 987.646551045293, 1101.0875026059698, 1027.63255468001, 2601.2371329016, 2387.5386001725, 2217.70099612506], [6493.88030549135, 6248.39144668328, 6353.46189593385, 1572.40849934196, 1398.5573163108, 1478.8430610426599, 1448.9862431678698, 1493.8058750186701, 1272.53371056379, 1607.49084206091, 1673.62487575164, 1585.2320576173001, 1204.85816764915, 1319.95943521394, 1173.91062557527, 2175.34874648099, 1998.88359945495, 1868.80644149744, 2391.7806433466103, 2268.96485340314, 2237.06268600322], [753.240430786408, 806.2880804081669, 830.818613257394, 664.907266158276, 549.6086477912249, 678.276663875489, 574.689993523205, 566.0230169020571, 688.5372684715311, 3930.7512527178706, 3455.7483444554, 3990.3268115934898, 5270.12274944351, 4871.014589944621, 5098.279510539211, 406.979020445643, 393.131233411004, 435.92485455617305, 164.00554139204598, 177.01235187298698, 198.35855293430902], [531.143550187192, 573.326604407187, 473.17273806322896, 134.683251660911, 129.739763056201, 117.041255021509, 1726.6990222443499, 1773.5792976484802, 2228.32117985454, 5434.589189696961, 5418.27973498089, 4768.20567894345, 2210.20096610195, 2020.03268313708, 1945.5729217157398, 520.686484141537, 579.799038778468, 541.0004766522931, 99.77300963257142, 189.209443870756, 107.834111018806], [1026.2057166704699, 1068.5580323306199, 997.403306495862, 970.466446247563, 1109.98325170208, 1011.62571965694, 685.754473477189, 895.3402434915449, 770.1295363108779, 4288.46688062184, 4248.794778050949, 4133.801563951551, 2660.0630190048896, 2638.59676883275, 2614.00669080577, 1023.7211830374699, 1228.16293643231, 1122.13912917949, 453.130326748649, 493.777317216527, 565.3899036342599], [159.473027777896, 203.681146870882, 188.623305664295, 464.505568639554, 465.63840052332296, 429.962410476825, 239.91215732470903, 257.514807815123, 261.546772825173, 2457.9005105787696, 2126.05803343524, 2406.04015486842, 2544.16767772453, 2433.7081692730303, 2718.23595808727, 181.668244946709, 208.259310041147, 228.82034477179403, 97.5984534493346, 125.163210948883, 136.835262155908], [56.9560821448322, 22.477660500055, 40.5578937719783, 132.490292335677, 151.250562485638, 122.05609000678001, 85.9569117780912, 65.6039616406437, 67.8999780039826, 3533.4864415399297, 3413.54436869148, 3028.2574741710305, 2651.4179135617, 3370.34919398841, 3352.3526732409996, 12.203652266835899, 13.083335383899401, 26.8022001514333, 5.12178567619196, 5.13781182784599, 3.4036556348571496], [84.91738016716191, 84.2790625273724, 113.059771853554, 285.16684352664697, 370.20177923114306, 314.76675673203, 509.361413561331, 622.104319834773, 475.26406255786, 4034.3831620522205, 4284.31523696589, 3942.17104630993, 1554.1665449219101, 1726.6198798979901, 1570.8281907667001, 978.487851157101, 968.485551757311, 990.8115028642881, 721.714485804731, 816.1663145742219, 809.619660093932], [817.643370750175, 768.936296093401, 824.468552339077, 200.812898575343, 226.93970982904, 211.503239463389, 272.299129256334, 379.11697588504205, 309.13438191263197, 4015.22505156272, 4071.6329324418202, 3662.9183402052795, 1251.08477588095, 1303.18196757043, 1219.59577368716, 219.49749842288398, 207.74853072944302, 182.854591936492, 1665.2724978344102, 1712.93470659243, 1558.9555159287302], [1630.5569354131699, 1670.57159543807, 1656.5607705801801, 1993.7806175293301, 2401.0390819621202, 2106.26229392502, 717.037368580795, 753.853916139667, 747.3206212287289, 200.644785257205, 196.209232622873, 147.05443452417802, 3714.1956565035707, 3886.0816323582794, 3720.4553856297707, 276.335492860859, 373.274009125095, 396.48098262415, 12.1671747866449, 17.110685571494802, 23.587993360293602], [2612.33648052727, 2088.82698367844, 2412.61216750866, 2.56127181520358, 5.2890304152708705, 0.5105238297012, 6.591603489068019, 1.17173240707926, 0.5702400703585121, 162.846974020101, 109.762183479145, 126.36812229711799, 70.7669178022903, 90.81628734390209, 68.54969358323399, 3.7337880087556203, 1.18398859164577, 1.25238730709594, 0.0, 0.5113516270046239, 0.0], [1347.4861722272801, 1440.77075685962, 1461.79553580101, 48.5766692856229, 69.6343269273345, 49.72060795157721, 35.3525007619019, 26.9121780552537, 27.4214088030972, 165.12082805141898, 167.912102389734, 156.550801050684, 53.3498710259548, 46.9960726091681, 49.2824730802965, 26.147800483713198, 22.61967938803, 32.86495888102, 7.28048644404164, 8.22064939248987, 13.342588688324199], [891.7159772184309, 848.016421100597, 889.6669504765661, 690.7509512084621, 701.2893174061659, 667.942756224291, 332.40457765762903, 327.09549617114, 260.035641897596, 81.6200722037842, 65.5439862750423, 71.01532333541559, 46.7766352815217, 45.081147987560705, 38.53208682617971, 148.843979335404, 153.132526266972, 144.57130675535, 11.443315952903099, 10.050731481711301, 8.49714230808361], [985.2056611950951, 995.5116860477199, 1023.3207014739698, 49.541445610047205, 73.510434563004, 67.39867490364101, 53.138609747954, 36.287816918287604, 47.483555550392396, 58.6794068127018, 54.1251563322195, 55.23227088331021, 36.6888248929408, 39.2311395504976, 42.634536857291, 57.08242789899239, 42.8785352344985, 36.5604723879953, 49.501365621929395, 63.4478310223839, 55.081961962915], [646.533686150021, 637.104972090591, 649.948376930368, 135.410114154226, 129.56930037320402, 134.11424909204598, 114.86837697143801, 115.599294690429, 124.000366919809, 52.724791080835196, 43.484919405568895, 48.616916041633, 45.9473585268107, 62.0858775036113, 50.41429469497021, 113.23874826075001, 116.30373673819099, 160.336990081798, 149.38010624960398, 169.91148759076, 156.97549514255502], [134.727292522464, 112.72443613490299, 129.081581138045, 83.72257696994271, 85.6854771066404, 85.9500597340613, 67.592774268168, 53.8177194732043, 42.6264175038537, 1145.8187649558301, 996.068883278907, 977.1822295276351, 1907.6241460025303, 1777.60308803665, 1818.5193898087198, 53.29701497877439, 56.654523960907405, 74.57257029858259, 29.0932104197149, 26.4506408120177, 41.103625874182896], [24.605382011827196, 31.875153759977398, 31.9686170136162, 15.298098367229999, 13.234487380129199, 15.374005938572399, 10.095817974146199, 12.420765922593699, 11.16879059602, 1261.68034641891, 1381.2911449378798, 1290.9702382719802, 459.03879381181196, 472.70642757038496, 469.49328597924796, 9.0511908289998, 13.3774051137937, 7.67227286109866, 14.5552274411322, 5.47722562886881, 4.84502967161433], [16.432748226826803, 12.6511508240056, 6.92588995966396, 5.8350244455283296, 6.69238014055005, 5.86457252627923, 3.26099690188685, 4.46695055716189, 5.4715121506336795, 1006.6412085890499, 969.709612430226, 836.588031594957, 655.612356109937, 617.4668143421579, 601.131572422983, 5.425641067075701, 5.57204495419734, 2.37032605885719, 4.479469404804781, 4.912261030253309, 6.49476514493207], [94.313691545666, 95.10066450306259, 100.03284933749399, 1782.2960585712601, 1762.0751795678198, 1749.3440212061998, 1311.8555727446, 1105.84774431198, 1045.03491945339, 709.0368823931759, 792.055059982733, 672.323434223098, 1369.56894204676, 1452.6864096482, 1385.41096638639, 1070.19601187733, 1114.37239660571, 1172.59209057574, 1280.91885656428, 1146.01736459915, 1027.64157022188], [1249.4535158973101, 1249.7575073963699, 1056.5259769474699, 1054.43433266958, 1129.0752479268901, 1092.14206429465, 456.93736799117005, 496.885401469001, 463.12918365939794, 155.273635442165, 202.31779446683998, 187.93692250481098, 88.1467243489739, 67.7443687199789, 73.40824506070909, 467.26104301349295, 478.533622066083, 502.078443407485, 646.232902072673, 749.8871316514301, 789.804589038866], [1710.55613090721, 1613.29530791526, 1593.62359626627, 1472.3696400807999, 1940.87130605272, 1550.23782732849, 850.8580004951469, 1107.45624303497, 1029.39588120358, 80.63932713207758, 78.7803436997292, 73.8077170638039, 472.313204909191, 866.8580672251061, 506.18847265503194, 658.691262479809, 592.899720614544, 543.718809586771, 633.019454439694, 541.171822817513, 706.925827158526], [1310.0636538864599, 1223.37079695603, 1339.7708740427001, 360.366713154748, 324.989554672013, 394.545697316437, 8925.230322147328, 7650.667594569, 7416.408542452729, 73.7756330978901, 41.5357495534245, 46.480075248769595, 16.3617758528071, 38.945958104011, 27.2740523448654, 9955.320035272409, 9645.01779672772, 9676.70829675374, 21368.4867118792, 33488.2207051734, 30035.5739044681], [4794.97056650089, 4546.3197758507595, 4773.198370513929, 10973.2663051566, 11607.421905001002, 11654.7055869751, 12784.0765702879, 11946.5204914121, 11329.5452725498, 1177.3871723758698, 1061.71319787306, 1014.9788573922301, 1314.7942994450698, 1551.16848941746, 1412.59868702998, 11601.9180597601, 11387.086573018702, 12068.0534150129, 14485.0260401929, 13421.5235724295, 14285.674053621498], [2738.3857610235896, 2523.35071907009, 2694.86153246507, 7620.30395055802, 7990.27808131356, 7760.653984041841, 23263.2019460656, 18452.2333157166, 17615.4919645558, 343.752305725324, 415.382303020031, 415.503921109403, 1862.65952720752, 1838.88177091545, 1746.2607508030999, 15411.6480596979, 17922.4297926168, 19002.6323612994, 12393.4237619878, 10622.3656490649, 14064.953369746201]]}],\n",
       "                        {\"autosize\": false, \"font\": {\"size\": 2}, \"height\": 800, \"hovermode\": \"closest\", \"showlegend\": false, \"template\": {\"data\": {\"bar\": [{\"error_x\": {\"color\": \"#2a3f5f\"}, \"error_y\": {\"color\": \"#2a3f5f\"}, \"marker\": {\"line\": {\"color\": \"white\", \"width\": 0.5}}, \"type\": \"bar\"}], \"barpolar\": [{\"marker\": {\"line\": {\"color\": \"white\", \"width\": 0.5}}, \"type\": \"barpolar\"}], \"carpet\": [{\"aaxis\": {\"endlinecolor\": \"#2a3f5f\", \"gridcolor\": \"#C8D4E3\", \"linecolor\": \"#C8D4E3\", \"minorgridcolor\": \"#C8D4E3\", \"startlinecolor\": \"#2a3f5f\"}, \"baxis\": {\"endlinecolor\": \"#2a3f5f\", \"gridcolor\": \"#C8D4E3\", \"linecolor\": \"#C8D4E3\", \"minorgridcolor\": \"#C8D4E3\", \"startlinecolor\": \"#2a3f5f\"}, \"type\": \"carpet\"}], \"choropleth\": [{\"colorbar\": {\"outlinewidth\": 0, \"ticks\": \"\"}, \"type\": \"choropleth\"}], \"contour\": [{\"colorbar\": {\"outlinewidth\": 0, \"ticks\": \"\"}, \"colorscale\": [[0.0, \"#0d0887\"], [0.1111111111111111, \"#46039f\"], [0.2222222222222222, \"#7201a8\"], [0.3333333333333333, \"#9c179e\"], [0.4444444444444444, \"#bd3786\"], [0.5555555555555556, \"#d8576b\"], [0.6666666666666666, \"#ed7953\"], [0.7777777777777778, \"#fb9f3a\"], [0.8888888888888888, \"#fdca26\"], [1.0, \"#f0f921\"]], \"type\": \"contour\"}], \"contourcarpet\": [{\"colorbar\": {\"outlinewidth\": 0, \"ticks\": \"\"}, \"type\": \"contourcarpet\"}], \"heatmap\": [{\"colorbar\": {\"outlinewidth\": 0, \"ticks\": \"\"}, \"colorscale\": [[0.0, \"#0d0887\"], [0.1111111111111111, \"#46039f\"], [0.2222222222222222, \"#7201a8\"], [0.3333333333333333, \"#9c179e\"], [0.4444444444444444, \"#bd3786\"], [0.5555555555555556, \"#d8576b\"], [0.6666666666666666, \"#ed7953\"], [0.7777777777777778, \"#fb9f3a\"], [0.8888888888888888, \"#fdca26\"], [1.0, \"#f0f921\"]], \"type\": \"heatmap\"}], \"heatmapgl\": [{\"colorbar\": {\"outlinewidth\": 0, \"ticks\": \"\"}, \"colorscale\": [[0.0, \"#0d0887\"], [0.1111111111111111, \"#46039f\"], [0.2222222222222222, \"#7201a8\"], [0.3333333333333333, \"#9c179e\"], [0.4444444444444444, \"#bd3786\"], [0.5555555555555556, \"#d8576b\"], [0.6666666666666666, \"#ed7953\"], [0.7777777777777778, \"#fb9f3a\"], [0.8888888888888888, \"#fdca26\"], [1.0, \"#f0f921\"]], \"type\": \"heatmapgl\"}], \"histogram\": [{\"marker\": {\"colorbar\": {\"outlinewidth\": 0, \"ticks\": \"\"}}, \"type\": \"histogram\"}], \"histogram2d\": [{\"colorbar\": {\"outlinewidth\": 0, \"ticks\": \"\"}, \"colorscale\": [[0.0, \"#0d0887\"], [0.1111111111111111, \"#46039f\"], [0.2222222222222222, \"#7201a8\"], [0.3333333333333333, \"#9c179e\"], [0.4444444444444444, \"#bd3786\"], [0.5555555555555556, \"#d8576b\"], [0.6666666666666666, \"#ed7953\"], [0.7777777777777778, \"#fb9f3a\"], [0.8888888888888888, \"#fdca26\"], [1.0, \"#f0f921\"]], \"type\": \"histogram2d\"}], \"histogram2dcontour\": [{\"colorbar\": {\"outlinewidth\": 0, \"ticks\": \"\"}, \"colorscale\": [[0.0, \"#0d0887\"], [0.1111111111111111, \"#46039f\"], [0.2222222222222222, \"#7201a8\"], [0.3333333333333333, \"#9c179e\"], [0.4444444444444444, \"#bd3786\"], [0.5555555555555556, \"#d8576b\"], [0.6666666666666666, \"#ed7953\"], [0.7777777777777778, \"#fb9f3a\"], [0.8888888888888888, \"#fdca26\"], [1.0, \"#f0f921\"]], \"type\": \"histogram2dcontour\"}], \"mesh3d\": [{\"colorbar\": {\"outlinewidth\": 0, \"ticks\": \"\"}, \"type\": \"mesh3d\"}], \"parcoords\": [{\"line\": {\"colorbar\": {\"outlinewidth\": 0, \"ticks\": \"\"}}, \"type\": \"parcoords\"}], \"pie\": [{\"automargin\": true, \"type\": \"pie\"}], \"scatter\": [{\"marker\": {\"colorbar\": {\"outlinewidth\": 0, \"ticks\": \"\"}}, \"type\": \"scatter\"}], \"scatter3d\": [{\"line\": {\"colorbar\": {\"outlinewidth\": 0, \"ticks\": \"\"}}, \"marker\": {\"colorbar\": {\"outlinewidth\": 0, \"ticks\": \"\"}}, \"type\": \"scatter3d\"}], \"scattercarpet\": [{\"marker\": {\"colorbar\": {\"outlinewidth\": 0, \"ticks\": \"\"}}, \"type\": \"scattercarpet\"}], \"scattergeo\": [{\"marker\": {\"colorbar\": {\"outlinewidth\": 0, \"ticks\": \"\"}}, \"type\": \"scattergeo\"}], \"scattergl\": [{\"marker\": {\"colorbar\": {\"outlinewidth\": 0, \"ticks\": \"\"}}, \"type\": \"scattergl\"}], \"scattermapbox\": [{\"marker\": {\"colorbar\": {\"outlinewidth\": 0, \"ticks\": \"\"}}, \"type\": \"scattermapbox\"}], \"scatterpolar\": [{\"marker\": {\"colorbar\": {\"outlinewidth\": 0, \"ticks\": \"\"}}, \"type\": \"scatterpolar\"}], \"scatterpolargl\": [{\"marker\": {\"colorbar\": {\"outlinewidth\": 0, \"ticks\": \"\"}}, \"type\": \"scatterpolargl\"}], \"scatterternary\": [{\"marker\": {\"colorbar\": {\"outlinewidth\": 0, \"ticks\": \"\"}}, \"type\": \"scatterternary\"}], \"surface\": [{\"colorbar\": {\"outlinewidth\": 0, \"ticks\": \"\"}, \"colorscale\": [[0.0, \"#0d0887\"], [0.1111111111111111, \"#46039f\"], [0.2222222222222222, \"#7201a8\"], [0.3333333333333333, \"#9c179e\"], [0.4444444444444444, \"#bd3786\"], [0.5555555555555556, \"#d8576b\"], [0.6666666666666666, \"#ed7953\"], [0.7777777777777778, \"#fb9f3a\"], [0.8888888888888888, \"#fdca26\"], [1.0, \"#f0f921\"]], \"type\": \"surface\"}], \"table\": [{\"cells\": {\"fill\": {\"color\": \"#EBF0F8\"}, \"line\": {\"color\": \"white\"}}, \"header\": {\"fill\": {\"color\": \"#C8D4E3\"}, \"line\": {\"color\": \"white\"}}, \"type\": \"table\"}]}, \"layout\": {\"annotationdefaults\": {\"arrowcolor\": \"#2a3f5f\", \"arrowhead\": 0, \"arrowwidth\": 1}, \"coloraxis\": {\"colorbar\": {\"outlinewidth\": 0, \"ticks\": \"\"}}, \"colorscale\": {\"diverging\": [[0, \"#8e0152\"], [0.1, \"#c51b7d\"], [0.2, \"#de77ae\"], [0.3, \"#f1b6da\"], [0.4, \"#fde0ef\"], [0.5, \"#f7f7f7\"], [0.6, \"#e6f5d0\"], [0.7, \"#b8e186\"], [0.8, \"#7fbc41\"], [0.9, \"#4d9221\"], [1, \"#276419\"]], \"sequential\": [[0.0, \"#0d0887\"], [0.1111111111111111, \"#46039f\"], [0.2222222222222222, \"#7201a8\"], [0.3333333333333333, \"#9c179e\"], [0.4444444444444444, \"#bd3786\"], [0.5555555555555556, \"#d8576b\"], [0.6666666666666666, \"#ed7953\"], [0.7777777777777778, \"#fb9f3a\"], [0.8888888888888888, \"#fdca26\"], [1.0, \"#f0f921\"]], \"sequentialminus\": [[0.0, \"#0d0887\"], [0.1111111111111111, \"#46039f\"], [0.2222222222222222, \"#7201a8\"], [0.3333333333333333, \"#9c179e\"], [0.4444444444444444, \"#bd3786\"], [0.5555555555555556, \"#d8576b\"], [0.6666666666666666, \"#ed7953\"], [0.7777777777777778, \"#fb9f3a\"], [0.8888888888888888, \"#fdca26\"], [1.0, \"#f0f921\"]]}, \"colorway\": [\"#636efa\", \"#EF553B\", \"#00cc96\", \"#ab63fa\", \"#FFA15A\", \"#19d3f3\", \"#FF6692\", \"#B6E880\", \"#FF97FF\", \"#FECB52\"], \"font\": {\"color\": \"#2a3f5f\"}, \"geo\": {\"bgcolor\": \"white\", \"lakecolor\": \"white\", \"landcolor\": \"white\", \"showlakes\": true, \"showland\": true, \"subunitcolor\": \"#C8D4E3\"}, \"hoverlabel\": {\"align\": \"left\"}, \"hovermode\": \"closest\", \"mapbox\": {\"style\": \"light\"}, \"paper_bgcolor\": \"white\", \"plot_bgcolor\": \"white\", \"polar\": {\"angularaxis\": {\"gridcolor\": \"#EBF0F8\", \"linecolor\": \"#EBF0F8\", \"ticks\": \"\"}, \"bgcolor\": \"white\", \"radialaxis\": {\"gridcolor\": \"#EBF0F8\", \"linecolor\": \"#EBF0F8\", \"ticks\": \"\"}}, \"scene\": {\"xaxis\": {\"backgroundcolor\": \"white\", \"gridcolor\": \"#DFE8F3\", \"gridwidth\": 2, \"linecolor\": \"#EBF0F8\", \"showbackground\": true, \"ticks\": \"\", \"zerolinecolor\": \"#EBF0F8\"}, \"yaxis\": {\"backgroundcolor\": \"white\", \"gridcolor\": \"#DFE8F3\", \"gridwidth\": 2, \"linecolor\": \"#EBF0F8\", \"showbackground\": true, \"ticks\": \"\", \"zerolinecolor\": \"#EBF0F8\"}, \"zaxis\": {\"backgroundcolor\": \"white\", \"gridcolor\": \"#DFE8F3\", \"gridwidth\": 2, \"linecolor\": \"#EBF0F8\", \"showbackground\": true, \"ticks\": \"\", \"zerolinecolor\": \"#EBF0F8\"}}, \"shapedefaults\": {\"line\": {\"color\": \"#2a3f5f\"}}, \"ternary\": {\"aaxis\": {\"gridcolor\": \"#DFE8F3\", \"linecolor\": \"#A2B1C6\", \"ticks\": \"\"}, \"baxis\": {\"gridcolor\": \"#DFE8F3\", \"linecolor\": \"#A2B1C6\", \"ticks\": \"\"}, \"bgcolor\": \"white\", \"caxis\": {\"gridcolor\": \"#DFE8F3\", \"linecolor\": \"#A2B1C6\", \"ticks\": \"\"}}, \"title\": {\"x\": 0.05}, \"xaxis\": {\"automargin\": true, \"gridcolor\": \"#EBF0F8\", \"linecolor\": \"#EBF0F8\", \"ticks\": \"\", \"title\": {\"standoff\": 15}, \"zerolinecolor\": \"#EBF0F8\", \"zerolinewidth\": 2}, \"yaxis\": {\"automargin\": true, \"gridcolor\": \"#EBF0F8\", \"linecolor\": \"#EBF0F8\", \"ticks\": \"\", \"title\": {\"standoff\": 15}, \"zerolinecolor\": \"#EBF0F8\", \"zerolinewidth\": 2}}}, \"title\": {\"font\": {\"size\": 25}, \"text\": \"Heatmap title\", \"yanchor\": \"top\"}, \"width\": 800, \"xaxis\": {\"domain\": [0.15, 1], \"mirror\": false, \"rangemode\": \"tozero\", \"showgrid\": false, \"showline\": false, \"showticklabels\": true, \"tickfont\": {\"size\": 10}, \"tickmode\": \"array\", \"ticks\": \"\", \"ticktext\": [\"S_003-F_LeTo-L____wt-__0-____-REP_3\", \"S_001-F_LeTo-L____wt-__0-____-REP_1\", \"S_002-F_LeTo-L____wt-__0-____-REP_2\", \"S_011-F_LeTo-L____wt-__4-____-REP_2\", \"S_010-F_LeTo-L____wt-__4-____-REP_1\", \"S_012-F_LeTo-L____wt-__4-____-REP_3\", \"S_014-F_LeTo-L____wt-__6-____-REP_2\", \"S_013-F_LeTo-L____wt-__6-____-REP_1\", \"S_015-F_LeTo-L____wt-__6-____-REP_3\", \"S_005-F_LeTo-L____wt-__1-____-REP_2\", \"S_004-F_LeTo-L____wt-__1-____-REP_1\", \"S_006-F_LeTo-L____wt-__1-____-REP_3\", \"S_009-F_LeTo-L____wt-__2-____-REP_3\", \"S_007-F_LeTo-L____wt-__2-____-REP_1\", \"S_008-F_LeTo-L____wt-__2-____-REP_2\", \"S_018-F_LeTo-L____wt-__8-____-REP_3\", \"S_016-F_LeTo-L____wt-__8-____-REP_1\", \"S_017-F_LeTo-L____wt-__8-____-REP_2\", \"S_020-F_LeTo-L____wt-_14-____-REP_2\", \"S_019-F_LeTo-L____wt-_14-____-REP_1\", \"S_021-F_LeTo-L____wt-_14-____-REP_3\"], \"tickvals\": [5.0, 15.0, 25.0, 35.0, 45.0, 55.0, 65.0, 75.0, 85.0, 95.0, 105.0, 115.0, 125.0, 135.0, 145.0, 155.0, 165.0, 175.0, 185.0, 195.0, 205.0], \"type\": \"linear\", \"zeroline\": false}, \"xaxis2\": {\"domain\": [0, 0.15], \"mirror\": false, \"showgrid\": false, \"showline\": false, \"showticklabels\": false, \"ticks\": \"\", \"zeroline\": false}, \"yaxis\": {\"domain\": [0, 0.85], \"mirror\": false, \"rangemode\": \"tozero\", \"showgrid\": false, \"showline\": false, \"showticklabels\": true, \"tickfont\": {\"size\": 8}, \"ticks\": \"\", \"ticktext\": [\"ENSG00000166450\", \"ENSG00000088305\", \"ENSG00000280623\", \"ENSG00000008311\", \"ENSG00000147601\", \"ENSG00000111752\", \"ENSG00000104332\", \"ENSG00000166073\", \"ENSG00000181449\", \"ENSG00000145147\", \"ENSG00000116729\", \"ENSG00000171444\", \"ENSG00000139174\", \"ENSG00000182580\", \"ENSG00000185155\", \"ENSG00000164458\", \"ENSG00000163508\", \"ENSG00000128683\", \"ENSG00000284606\", \"ENSG00000138795\", \"ENSG00000067840\", \"ENSG00000187193\", \"ENSG00000197024\", \"ENSG00000254339\", \"ENSG00000147596\", \"ENSG00000158246\", \"ENSG00000116285\", \"ENSG00000152061\", \"ENSG00000153363\", \"ENSG00000134363\", \"ENSG00000173218\", \"ENSG00000108379\", \"ENSG00000204335\", \"ENSG00000111186\", \"ENSG00000115380\", \"ENSG00000165588\", \"ENSG00000230798\", \"ENSG00000179023\", \"ENSG00000274588\", \"ENSG00000155886\", \"ENSG00000284691\", \"ENSG00000158473\", \"ENSG00000111432\", \"ENSG00000113722\", \"ENSG00000261326\", \"ENSG00000111913\", \"ENSG00000180730\", \"ENSG00000154556\", \"ENSG00000128849\", \"ENSG00000163492\"], \"tickvals\": [5.0, 15.0, 25.0, 35.0, 45.0, 55.0, 65.0, 75.0, 85.0, 95.0, 105.0, 115.0, 125.0, 135.0, 145.0, 155.0, 165.0, 175.0, 185.0, 195.0, 205.0, 215.0, 225.0, 235.0, 245.0, 255.0, 265.0, 275.0, 285.0, 295.0, 305.0, 315.0, 325.0, 335.0, 345.0, 355.0, 365.0, 375.0, 385.0, 395.0, 405.0, 415.0, 425.0, 435.0, 445.0, 455.0, 465.0, 475.0, 485.0, 495.0], \"type\": \"linear\", \"zeroline\": false}, \"yaxis2\": {\"domain\": [0.825, 0.975], \"mirror\": false, \"showgrid\": false, \"showline\": false, \"showticklabels\": false, \"ticks\": \"\", \"zeroline\": false}},\n",
       "                        {\"responsive\": true}\n",
       "                    ).then(function(){\n",
       "                            \n",
       "var gd = document.getElementById('4c87f68a-8330-4884-883c-51b4f4788dee');\n",
       "var x = new MutationObserver(function (mutations, observer) {{\n",
       "        var display = window.getComputedStyle(gd).display;\n",
       "        if (!display || display === 'none') {{\n",
       "            console.log([gd, 'removed!']);\n",
       "            Plotly.purge(gd);\n",
       "            observer.disconnect();\n",
       "        }}\n",
       "}});\n",
       "\n",
       "// Listen for the removal of the full notebook cells\n",
       "var notebookContainer = gd.closest('#notebook-container');\n",
       "if (notebookContainer) {{\n",
       "    x.observe(notebookContainer, {childList: true});\n",
       "}}\n",
       "\n",
       "// Listen for the clearing of the current output cell\n",
       "var outputEl = gd.closest('.output');\n",
       "if (outputEl) {{\n",
       "    x.observe(outputEl, {childList: true});\n",
       "}}\n",
       "\n",
       "                        })\n",
       "                };\n",
       "                });\n",
       "            </script>\n",
       "        </div>"
      ]
     },
     "metadata": {},
     "output_type": "display_data"
    }
   ],
   "source": [
    "import plotly.graph_objects as go\n",
    "import plotly.figure_factory as ff\n",
    "\n",
    "#import numpy as np\n",
    "#from scipy.spatial.distance import pdist, squareform\n",
    "\n",
    "\n",
    "# # get data\n",
    "# data = np.genfromtxt(\"http://files.figshare.com/2133304/ExpRawData_E_TABM_84_A_AFFY_44.tab\",\n",
    "#                      names=True,usecols=tuple(range(1,30)),dtype=float, delimiter=\"\\t\")\n",
    "# data_array = data.view((np.float, len(data.dtype.names)))\n",
    "# data_array = data_array.transpose()\n",
    "# labels = data.dtype.names\n",
    "\n",
    "# Initialize figure by creating upper dendrogram\n",
    "\n",
    "\n",
    "fig = ff.create_dendrogram(data_array_, orientation='bottom', labels=labels, color_threshold=1.5,\\\n",
    "                          distfun = scs.distance.pdist,\\\n",
    "                          linkagefun= lambda x: sch.linkage(x, \"complete\"))\n",
    "for i in range(len(fig['data'])):\n",
    "    fig['data'][i]['yaxis'] = 'y2'\n",
    "dendro_leaves_y_labels = fig['layout']['xaxis']['ticktext']\n",
    "dendro_leaves_y = [ labels.index(i) for i in dendro_leaves_y_labels ]\n",
    "\n",
    "#print(dendro_leaves_y)\n",
    "\n",
    "# Create Side Dendrogram\n",
    "dendro_side = ff.create_dendrogram(data_array, orientation='right', labels=rows, color_threshold=1.5,\\\n",
    "                                    distfun = scs.distance.pdist,\\\n",
    "                                    linkagefun= lambda x: sch.linkage(x, \"complete\"))\n",
    "for i in range(len(dendro_side['data'])):\n",
    "    dendro_side['data'][i]['xaxis'] = 'x2'\n",
    "dendro_leaves_x_labels = dendro_side['layout']['yaxis']['ticktext']\n",
    "dendro_leaves_x = [ rows.index(i) for i in dendro_leaves_x_labels ]\n",
    "\n",
    "# Add Side Dendrogram Data to Figure\n",
    "for data in dendro_side['data']:\n",
    "    fig.add_trace(data)\n",
    "\n",
    "# Create Heatmap\n",
    "#print(dendro_leaves_x)\n",
    "\n",
    "#dendro_leaves = list(map(int, dendro_leaves))\n",
    "#data_dist = pdist(data_array)\n",
    "#heat_data = squareform(data_dist)\n",
    "heat_data=data_array\n",
    "heat_data = heat_data[dendro_leaves_x,:]\n",
    "heat_data = heat_data[:,dendro_leaves_y]\n",
    "\n",
    "#print(len(dendro_leaves_x_labels),len(dendro_leaves_y_labels))\n",
    "\n",
    "heatmap = [\n",
    "    go.Heatmap(\n",
    "        x = dendro_leaves_x_labels,\n",
    "        y = dendro_leaves_y_labels,\n",
    "        z = heat_data,\n",
    "        colorscale = 'Blues',\n",
    "        colorbar={\"title\":{\"text\":\"Number of Bills per Cell\" ,\"font\":{\"size\":10}},\n",
    "                 \"lenmode\":\"pixels\", \"len\":800/4,\n",
    "                 \"xpad\":100,\"tickfont\":{\"size\":10}}\n",
    "    )\n",
    "]\n",
    "\n",
    "heatmap[0]['x'] = fig['layout']['xaxis']['tickvals']\n",
    "heatmap[0]['y'] = dendro_side['layout']['yaxis']['tickvals']\n",
    "\n",
    "# Add Heatmap Data to Figure\n",
    "for data in heatmap:\n",
    "    fig.add_trace(data)\n",
    "\n",
    "# Edit Layout\n",
    "fig.update_layout({'width':800, 'height':800,\n",
    "                         'showlegend':False, 'hovermode': 'closest',\n",
    "                         \"yaxis\":{\"mirror\" : \"allticks\", \n",
    "                                  'side': 'right',\n",
    "                                  'showticklabels':True,\n",
    "                                  'ticktext':dendro_leaves_x_labels}})\n",
    "\n",
    "# Edit xaxis\n",
    "fig.update_layout(xaxis={'domain': [.15, 1],\n",
    "                                  'mirror': False,\n",
    "                                  'showgrid': False,\n",
    "                                  'showline': False,\n",
    "                                  'zeroline': False,\n",
    "                                  'showticklabels': True,\n",
    "                                  \"tickfont\":{\"size\":10},\n",
    "                                  'ticks':\"\",\\\n",
    "                                  'ticktext':dendro_leaves_y_labels})\n",
    "# Edit xaxis2\n",
    "fig.update_layout(xaxis2={'domain': [0, .15],\n",
    "                                   'mirror': False,\n",
    "                                   'showgrid': False,\n",
    "                                   'showline': False,\n",
    "                                   'zeroline': False,\n",
    "                                   'showticklabels': False,\n",
    "                                   'ticks':\"\"})\n",
    "\n",
    "# Edit yaxis \n",
    "fig.update_layout(yaxis={'domain': [0, .85],\n",
    "                                  'mirror': False,\n",
    "                                  'showgrid': False,\n",
    "                                  'showline': False,\n",
    "                                  'zeroline': False,\n",
    "                                  'showticklabels': True,\n",
    "                                  \"tickfont\":{\"size\":8},\n",
    "                                  'ticks': \"\",\\\n",
    "                                  'tickvals':dendro_side['layout']['yaxis']['tickvals'],\\\n",
    "                                  'ticktext':dendro_leaves_x_labels})\n",
    "\n",
    "# Edit yaxis2 showticklabels\n",
    "fig.update_layout(yaxis2={'domain':[.825, .975],\n",
    "                                   'mirror': False,\n",
    "                                   'showgrid': False,\n",
    "                                   'showline': False,\n",
    "                                   'zeroline': False,\n",
    "                                   'showticklabels': False,\n",
    "                                   'ticks':\"\"})\n",
    "\n",
    "fig.update_layout(template='plotly_white')\n",
    "\n",
    "fig.update_layout(font={\"size\":2})\n",
    "\n",
    "fig.update_layout(title={\"text\":\"Heatmap title\",\"yanchor\":\"top\",\"font\":{\"size\":25}})\n",
    "\n",
    "# fig.update_layout(\n",
    "#     yaxis = dict(\n",
    "#         tickmode = 'array',\n",
    "#         ticktext = dendro_leaves_x_labels ) )\n",
    "\n",
    "# Plot!\n",
    "fig.show()"
   ]
  },
  {
   "cell_type": "code",
   "execution_count": null,
   "metadata": {},
   "outputs": [],
   "source": [
    "df.head()"
   ]
  },
  {
   "cell_type": "code",
   "execution_count": null,
   "metadata": {},
   "outputs": [],
   "source": [
    "import plotly.graph_objects as go\n",
    "import plotly.express as px"
   ]
  },
  {
   "cell_type": "code",
   "execution_count": null,
   "metadata": {
    "scrolled": true
   },
   "outputs": [],
   "source": [
    "fig = go.Figure(data=go.Heatmap(\n",
    "                   z=df.values,\n",
    "                   y=df.index.tolist(),\n",
    "                   x=df.columns.tolist(),\n",
    "                   hoverongaps = False))\n",
    "fig.show()"
   ]
  },
  {
   "cell_type": "code",
   "execution_count": null,
   "metadata": {},
   "outputs": [],
   "source": [
    "# get data\n",
    "data = np.genfromtxt(\"http://files.figshare.com/2133304/ExpRawData_E_TABM_84_A_AFFY_44.tab\",\n",
    "                     names=True,usecols=tuple(range(1,30)),dtype=float, delimiter=\"\\t\")\n",
    "data_array = data.view((np.float, len(data.dtype.names)))\n",
    "data_array = data_array.transpose()\n",
    "labels = data.dtype.names"
   ]
  },
  {
   "cell_type": "code",
   "execution_count": null,
   "metadata": {},
   "outputs": [],
   "source": [
    "labels"
   ]
  },
  {
   "cell_type": "code",
   "execution_count": null,
   "metadata": {},
   "outputs": [],
   "source": [
    "import plotly.graph_objects as go\n",
    "import plotly.figure_factory as ff\n",
    "\n",
    "import numpy as np\n",
    "from scipy.spatial.distance import pdist, squareform\n",
    "\n",
    "\n",
    "# get data\n",
    "data = np.genfromtxt(\"http://files.figshare.com/2133304/ExpRawData_E_TABM_84_A_AFFY_44.tab\",\n",
    "                     names=True,usecols=tuple(range(1,30)),dtype=float, delimiter=\"\\t\")\n",
    "data_array = data.view((np.float, len(data.dtype.names)))\n",
    "data_array = data_array.transpose()\n",
    "labels = data.dtype.names\n",
    "\n",
    "# Initialize figure by creating upper dendrogram\n",
    "fig = ff.create_dendrogram(data_array, orientation='bottom', labels=labels)\n",
    "for i in range(len(fig['data'])):\n",
    "    fig['data'][i]['yaxis'] = 'y2'\n",
    "\n",
    "# Create Side Dendrogram\n",
    "dendro_side = ff.create_dendrogram(data_array, orientation='right')\n",
    "for i in range(len(dendro_side['data'])):\n",
    "    dendro_side['data'][i]['xaxis'] = 'x2'\n",
    "\n",
    "# Add Side Dendrogram Data to Figure\n",
    "for data in dendro_side['data']:\n",
    "    fig.add_trace(data)\n",
    "\n",
    "# Create Heatmap\n",
    "dendro_leaves = dendro_side['layout']['yaxis']['ticktext']\n",
    "print(dendro_leaves)\n",
    "dendro_leaves = list(map(int, dendro_leaves))\n",
    "print(dendro_leaves)\n",
    "\n",
    "data_dist = pdist(data_array)\n",
    "heat_data = squareform(data_dist)\n",
    "heat_data = heat_data[dendro_leaves,:]\n",
    "heat_data = heat_data[:,dendro_leaves]\n",
    "\n",
    "heatmap = [\n",
    "    go.Heatmap(\n",
    "        x = dendro_leaves,\n",
    "        y = dendro_leaves,\n",
    "        z = heat_data,\n",
    "        colorscale = 'Blues',\n",
    "        colorbar={\"title\":{\"text\":\"Number of Bills per Cell\" ,\"font\":{\"size\":10}},\n",
    "                 \"lenmode\":\"pixels\", \"len\":800/4,\n",
    "                 \"xpad\":100,\"tickfont\":{\"size\":10}}\n",
    "    )\n",
    "]\n",
    "\n",
    "heatmap[0]['x'] = fig['layout']['xaxis']['tickvals']\n",
    "heatmap[0]['y'] = dendro_side['layout']['yaxis']['tickvals']\n",
    "\n",
    "# Add Heatmap Data to Figure\n",
    "for data in heatmap:\n",
    "    fig.add_trace(data)\n",
    "\n",
    "# Edit Layout\n",
    "fig.update_layout({'width':800, 'height':800,\n",
    "                         'showlegend':False, 'hovermode': 'closest',\n",
    "                         \"yaxis\":{\"mirror\" : \"allticks\", 'side': 'right'}})\n",
    "\n",
    "# Edit xaxis\n",
    "fig.update_layout(xaxis={'domain': [.15, 1],\n",
    "                                  'mirror': False,\n",
    "                                  'showgrid': False,\n",
    "                                  'showline': False,\n",
    "                                  'zeroline': False,\n",
    "                                  'showticklabels': True,\n",
    "                                  \"tickfont\":{\"size\":10},\n",
    "                                  'ticks':\"\"})\n",
    "# Edit xaxis2\n",
    "fig.update_layout(xaxis2={'domain': [0, .15],\n",
    "                                   'mirror': False,\n",
    "                                   'showgrid': False,\n",
    "                                   'showline': False,\n",
    "                                   'zeroline': False,\n",
    "                                   'showticklabels': False,\n",
    "                                   'ticks':\"\"})\n",
    "\n",
    "# Edit yaxis \n",
    "fig.update_layout(yaxis={'domain': [0, .85],\n",
    "                                  'mirror': False,\n",
    "                                  'showgrid': False,\n",
    "                                  'showline': False,\n",
    "                                  'zeroline': False,\n",
    "                                  'showticklabels': True,\n",
    "                                  \"tickfont\":{\"size\":10},\n",
    "                                  'ticks': \"\"})\n",
    "\n",
    "# Edit yaxis2 showticklabels\n",
    "fig.update_layout(yaxis2={'domain':[.825, .975],\n",
    "                                   'mirror': False,\n",
    "                                   'showgrid': False,\n",
    "                                   'showline': False,\n",
    "                                   'zeroline': False,\n",
    "                                   'showticklabels': False,\n",
    "                                   'ticks':\"\"})\n",
    "\n",
    "fig.update_layout(template='plotly_white')\n",
    "\n",
    "fig.update_layout(font={\"size\":2})\n",
    "\n",
    "fig.update_layout(title={\"text\":\"Heatmap title\",\"yanchor\":\"top\",\"font\":{\"size\":25}} )\n",
    "\n",
    "# Plot!\n",
    "fig.show()"
   ]
  },
  {
   "cell_type": "code",
   "execution_count": null,
   "metadata": {},
   "outputs": [],
   "source": [
    "fig['layout']['xaxis']['tickvals']"
   ]
  },
  {
   "cell_type": "code",
   "execution_count": null,
   "metadata": {},
   "outputs": [],
   "source": [
    "heatmap"
   ]
  },
  {
   "cell_type": "code",
   "execution_count": null,
   "metadata": {},
   "outputs": [],
   "source": []
  },
  {
   "cell_type": "code",
   "execution_count": null,
   "metadata": {},
   "outputs": [],
   "source": []
  },
  {
   "cell_type": "code",
   "execution_count": null,
   "metadata": {},
   "outputs": [],
   "source": [
    "list(df[df.index==\"ENSG00000008311\"].values[0])"
   ]
  },
  {
   "cell_type": "code",
   "execution_count": null,
   "metadata": {},
   "outputs": [],
   "source": [
    "def extract_rows_colors(heatmap, method='average', k=30): #2\n",
    "    g = sns.clustermap(heatmap,method=method,cmap=\"YlOrRd\",figsize=(10,15))\n",
    "    #plt.show()\n",
    "    reordered_index=g.dendrogram_row.reordered_ind\n",
    "    #print(len(reordered_index))\n",
    "    #reordered_cols=g.dendrogram_col.reordered_ind\n",
    "    index_linkage=g.dendrogram_row.linkage\n",
    "    #cols_linkage=g.dendrogram_col.linkage\n",
    "    \n",
    "    clusters = fcluster(index_linkage, k, criterion='maxclust')\n",
    "    original_order=pd.DataFrame({\"col\":heatmap.index.tolist(),\"cluster\":clusters})\n",
    "    \n",
    "    cols_cluster=original_order[\"cluster\"].tolist()\n",
    "    cols_cluster_=list(set(cols_cluster))\n",
    "    cols_cluster_dic={}\n",
    "    for c in cols_cluster_:\n",
    "        cols_cluster_dic[c]=np.random.rand(3,)\n",
    "    cols_cluster=[ cols_cluster_dic[s] for s in cols_cluster ]\n",
    "    plt.close()\n",
    "    return cols_cluster, original_order\n",
    "\n",
    "def extract_cols_colors(heatmap, method='average', k=7):#35\n",
    "    \n",
    "    g = sns.clustermap(heatmap,method=method)\n",
    "    #plt.show()\n",
    "    reordered_cols=g.dendrogram_col.reordered_ind\n",
    "    cols_linkage=g.dendrogram_col.linkage\n",
    "    \n",
    "    clusters = fcluster(cols_linkage, k, criterion='maxclust')\n",
    "    original_order=pd.DataFrame({\"col\":heatmap.columns.tolist(),\"cluster\":clusters})\n",
    "    \n",
    "    cols_cluster=original_order[\"cluster\"].tolist()\n",
    "    cols_cluster_=list(set(cols_cluster))\n",
    "    cols_cluster_dic={}\n",
    "    for c in cols_cluster_:\n",
    "        cols_cluster_dic[c]=np.random.rand(3,)\n",
    "    cols_cluster=[ cols_cluster_dic[s] for s in cols_cluster ]\n",
    "    plt.close()\n",
    "    return cols_cluster, original_order"
   ]
  },
  {
   "cell_type": "code",
   "execution_count": null,
   "metadata": {},
   "outputs": [],
   "source": [
    "df.head()"
   ]
  },
  {
   "cell_type": "code",
   "execution_count": null,
   "metadata": {},
   "outputs": [],
   "source": [
    "df=df[:100]\n",
    "#df = df.mask(df < 20)\n",
    "mask = df.isnull()\n",
    "\n",
    "cluster_index, index_cluster_numbers = extract_rows_colors(heatmap=df, method='average', k=30) # 2.5\n",
    "cols_cluster, cols_cluster_numbers=extract_cols_colors(df,k=9) # 4"
   ]
  },
  {
   "cell_type": "code",
   "execution_count": null,
   "metadata": {},
   "outputs": [],
   "source": [
    "STANDARD_COLORS=[\"blue\",\"green\",\"red\",\"cyan\",\"magenta\",\"yellow\",\"black\",\"white\"]\n",
    "STANDARD_SIZES=[ str(i) for i in list(range(101)) ]\n",
    "\n",
    "def figure_defaults():\n",
    "    plot_arguments={\n",
    "        \"fig_width\":\"6.0\",\\\n",
    "        \"fig_height\":\"6.0\",\\\n",
    "        \"title\":'Scatter plot',\\\n",
    "        \"title_size\":STANDARD_SIZES,\\\n",
    "        \"title_size_value\":\"10\",\\\n",
    "        \"xticklabels\":['auto','False'],\\\n",
    "        \"xtickslabels_value\":'auto',\\\n",
    "        \"yticklabels\":['auto','False'],\\\n",
    "        \"yticklabels_value\":'auto',\\\n",
    "        \"method\":['single','complete','average', 'weighted','centroid','median','ward'],\\\n",
    "        \"method_value\":\"ward\",\\\n",
    "        \"distance\":[\"euclidean\",\"minkowski\",\"cityblock\",\"seuclidean\",\"sqeuclidean\",\\\n",
    "                   \"cosine\",\"correlation\",\"hamming\",\"jaccard\",\"chebyshev\",\"canberra\",\\\n",
    "                   \"braycurtis\",\"mahalanobis\",\"yule\",\"matching\",\"dice\",\"kulsinski\",\"rogerstanimoto\",\\\n",
    "                   \"russellrao\",\"sokalmichener\",\"sokalsneath\",\"wminkowski\"],\\\n",
    "        \"distance_value\":\"euclidean\",\\\n",
    "        \"n_cols_cluster\":\"0\",\\\n",
    "        \"n_rows_cluster\":\"0\",\\\n",
    "        \"cmap\":[\"viridis\",\"plasma\",\"inferno\",\"magma\",\"cividis\",\"Greys\",\"Purples\",\\\n",
    "               \"Blues\",\"Greens\",\"Oranges\",\"Reds\",\"YlOrBr\",\"YlOrRd\",\"OrRd\",\"PuRd\",\\\n",
    "               \"RdPu\",\"BuPu\",\"GnBu\",\"PuBu\",\"YlGnBu\",\"PuBuGn\",\"BuGn\",\"YlGn\",\\\n",
    "               \"binary\",\"gist_yard\",\"gist_gray\",\"gray\",\"bone\",\"pink\",\"spring\",\\\n",
    "               \"summer\",\"autumn\",\"winter\",\"cool\",\"Wistia\",\"hot\",\"afmhot\",\"gist_heat\",\\\n",
    "               \"copper\",\"PiYg\",\"PRGn\",\"BrBG\",\"PuOr\",\"RdGy\",\"RdBu\",\"RdYlBu\",\"Spectral\",\\\n",
    "               \"coolwarm\",\"bwr\",\"seismic\",\"Pastel1\",\"Pastel2\",\"Paired\",\"Accent\",\"Dark2\",\\\n",
    "               \"Set1\",\"Set2\",\"Set3\",\"tab10\",\"tab20\",\"tab20b\",\"tab20c\",\"flag\",\"prism\",\"ocean\",\\\n",
    "               \"gist_earth\", \"gnuplot\",\"gnuplot2\",\"CMRmap\",\"cubehelix\",\"brg\",\"hsv\",\\\n",
    "               \"gist_rainbow\",\"rainbow\",\"jet\",\"nipy_spectral\",\"gist_ncar\"],\\\n",
    "        \"cmap_value\":\"YlOrRd\",\\\n",
    "        \"vmin\":\"\",\\\n",
    "        \"vmax\":\"\",\\\n",
    "        \"linewidths\":\"0\",\\\n",
    "        \"linecolor\":STANDARD_COLORS,\\\n",
    "        \"linecolor_value\":\"white\",\\\n",
    "        \"color_bar_label\":\"\",\\\n",
    "        \"center\":\"\",\\\n",
    "        \"row_cluster\":[\"True\",\"False\"],\\\n",
    "        \"row_cluster_value\":\"True\",\\\n",
    "        \"col_cluster\":[\"True\",\"False\"],\\\n",
    "        \"col_cluster_value\":\"True\",\\\n",
    "        \"robust\":[\"True\",\"False\"],\\\n",
    "        \"robust_value\":\"True\",\\\n",
    "        \"col_dendogram_ratio\":\"0.25\",\\\n",
    "        \"row_dendogram_ratio\":\"0.25\",\\\n",
    "        \"zscore\":[\"none\",\"row\",\"columns\"],\\\n",
    "        \"zscore_value\":\"none\",\\\n",
    "        \"xaxis_font_size\":\"10\",\\\n",
    "        \"yaxis_font_size\":\"10\"}\n",
    "        \n",
    "        \n",
    "        \n",
    "        \n",
    "        \n",
    "        \n",
    "        "
   ]
  },
  {
   "cell_type": "code",
   "execution_count": null,
   "metadata": {},
   "outputs": [],
   "source": [
    "sns.axes_style(\"white\")\n",
    "g = sns.clustermap(df, xticklabels=1, yticklabels=False, linewidths=0, method='average', \\\n",
    "                   col_colors=None, row_colors=cluster_index,cmap=\"YlOrRd\",\\\n",
    "                   vmin=None, vmax=None, linecolor='white',\\\n",
    "                   cbar_kws={'label': 'log10(normalized counts + 1)'},center=None, \\\n",
    "                   mask=mask, row_cluster=True, col_cluster=True,\\\n",
    "                   figsize=(10,15),robust=True, annot=None, dendrogram_ratio=(0.25,0.25),\\\n",
    "                   z_score=None)\n",
    "\n",
    "g.ax_heatmap.set_xticklabels(g.ax_heatmap.get_xmajorticklabels(), fontsize = 10)\n",
    "g.ax_heatmap.set_yticklabels(g.ax_heatmap.get_ymajorticklabels(), fontsize = 10)\n",
    "\n",
    "plt.suptitle(None, fontsize=40)\n",
    "#plt.tight_layout()\n",
    "plt.show()\n",
    "# center=0\n",
    "# linewidths=.5\n",
    "# xticklabels=2, yticklabels='auto',\n",
    "# vmin, vmax\n",
    "# robust\n",
    "# https://seaborn.pydata.org/generated/seaborn.heatmap.html"
   ]
  },
  {
   "cell_type": "code",
   "execution_count": null,
   "metadata": {},
   "outputs": [],
   "source": [
    "help(np.zeros_like)"
   ]
  },
  {
   "cell_type": "code",
   "execution_count": null,
   "metadata": {},
   "outputs": [],
   "source": [
    "type(pd.DataFrame())==None"
   ]
  },
  {
   "cell_type": "code",
   "execution_count": null,
   "metadata": {},
   "outputs": [],
   "source": [
    "type(None)==type(None)"
   ]
  },
  {
   "cell_type": "code",
   "execution_count": null,
   "metadata": {},
   "outputs": [],
   "source": []
  }
 ],
 "metadata": {
  "kernelspec": {
   "display_name": "Python 3",
   "language": "python",
   "name": "python3"
  },
  "language_info": {
   "codemirror_mode": {
    "name": "ipython",
    "version": 3
   },
   "file_extension": ".py",
   "mimetype": "text/x-python",
   "name": "python",
   "nbconvert_exporter": "python",
   "pygments_lexer": "ipython3",
   "version": "3.7.3"
  }
 },
 "nbformat": 4,
 "nbformat_minor": 4
}
