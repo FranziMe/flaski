{
 "cells": [
  {
   "cell_type": "code",
   "execution_count": 7,
   "metadata": {},
   "outputs": [],
   "source": [
    "import plotly.figure_factory as ff\n",
    "import pandas as pd\n",
    "\n",
    "import numpy as np\n",
    "\n",
    "X = np.random.rand(15, 10) # 15 samples, with 10 dimensions each"
   ]
  },
  {
   "cell_type": "code",
   "execution_count": 8,
   "metadata": {},
   "outputs": [],
   "source": [
    "np.savetxt(\"Datasets/dendrogram.csv\", X, delimiter=\",\",header=\"A,B,C,D,E,F,G,H,I,J\")"
   ]
  },
  {
   "cell_type": "code",
   "execution_count": 27,
   "metadata": {},
   "outputs": [],
   "source": [
    "genexp=pd.read_excel(\"Datasets/RNAseqLake.gene_expression.xlsx\")"
   ]
  },
  {
   "cell_type": "code",
   "execution_count": 28,
   "metadata": {},
   "outputs": [
    {
     "data": {
      "text/html": [
       "<div>\n",
       "<style scoped>\n",
       "    .dataframe tbody tr th:only-of-type {\n",
       "        vertical-align: middle;\n",
       "    }\n",
       "\n",
       "    .dataframe tbody tr th {\n",
       "        vertical-align: top;\n",
       "    }\n",
       "\n",
       "    .dataframe thead th {\n",
       "        text-align: right;\n",
       "    }\n",
       "</style>\n",
       "<table border=\"1\" class=\"dataframe\">\n",
       "  <thead>\n",
       "    <tr style=\"text-align: right;\">\n",
       "      <th></th>\n",
       "      <th>gene_id</th>\n",
       "      <th>gene_name</th>\n",
       "      <th>N2_0</th>\n",
       "      <th>N2_1</th>\n",
       "      <th>N2_2</th>\n",
       "      <th>daf2_0</th>\n",
       "      <th>daf2_1</th>\n",
       "      <th>daf2_2</th>\n",
       "      <th>go_id</th>\n",
       "      <th>go_name</th>\n",
       "      <th>go_definition</th>\n",
       "    </tr>\n",
       "  </thead>\n",
       "  <tbody>\n",
       "    <tr>\n",
       "      <th>0</th>\n",
       "      <td>WBGene00197333</td>\n",
       "      <td>cTel3X.2</td>\n",
       "      <td>0.000</td>\n",
       "      <td>0.000</td>\n",
       "      <td>0.000</td>\n",
       "      <td>7.330</td>\n",
       "      <td>4.849</td>\n",
       "      <td>0.000</td>\n",
       "      <td>NaN</td>\n",
       "      <td>NaN</td>\n",
       "      <td>NaN</td>\n",
       "    </tr>\n",
       "    <tr>\n",
       "      <th>1</th>\n",
       "      <td>WBGene00015153</td>\n",
       "      <td>B0348.5</td>\n",
       "      <td>9.956</td>\n",
       "      <td>2.426</td>\n",
       "      <td>20.351</td>\n",
       "      <td>5.509</td>\n",
       "      <td>8.747</td>\n",
       "      <td>8.367</td>\n",
       "      <td>NaN</td>\n",
       "      <td>NaN</td>\n",
       "      <td>NaN</td>\n",
       "    </tr>\n",
       "    <tr>\n",
       "      <th>2</th>\n",
       "      <td>WBGene00002061</td>\n",
       "      <td>ife-3</td>\n",
       "      <td>8755.953</td>\n",
       "      <td>6353.077</td>\n",
       "      <td>6112.907</td>\n",
       "      <td>1923.245</td>\n",
       "      <td>3888.583</td>\n",
       "      <td>4828.126</td>\n",
       "      <td>GO:0005515, GO:0003743, GO:0006412, GO:0005737...</td>\n",
       "      <td>regulation of translation, translation, RNA 7-...</td>\n",
       "      <td>\"Any process that modulates the frequency, rat...</td>\n",
       "    </tr>\n",
       "    <tr>\n",
       "      <th>3</th>\n",
       "      <td>WBGene00255704</td>\n",
       "      <td>B0348.10</td>\n",
       "      <td>0.000</td>\n",
       "      <td>3.221</td>\n",
       "      <td>0.000</td>\n",
       "      <td>1.463</td>\n",
       "      <td>0.000</td>\n",
       "      <td>0.000</td>\n",
       "      <td>NaN</td>\n",
       "      <td>NaN</td>\n",
       "      <td>NaN</td>\n",
       "    </tr>\n",
       "    <tr>\n",
       "      <th>4</th>\n",
       "      <td>WBGene00235314</td>\n",
       "      <td>B0348.9</td>\n",
       "      <td>15.957</td>\n",
       "      <td>2.916</td>\n",
       "      <td>0.000</td>\n",
       "      <td>5.298</td>\n",
       "      <td>5.257</td>\n",
       "      <td>8.047</td>\n",
       "      <td>NaN</td>\n",
       "      <td>NaN</td>\n",
       "      <td>NaN</td>\n",
       "    </tr>\n",
       "  </tbody>\n",
       "</table>\n",
       "</div>"
      ],
      "text/plain": [
       "          gene_id gene_name      N2_0      N2_1      N2_2    daf2_0    daf2_1  \\\n",
       "0  WBGene00197333  cTel3X.2     0.000     0.000     0.000     7.330     4.849   \n",
       "1  WBGene00015153   B0348.5     9.956     2.426    20.351     5.509     8.747   \n",
       "2  WBGene00002061     ife-3  8755.953  6353.077  6112.907  1923.245  3888.583   \n",
       "3  WBGene00255704  B0348.10     0.000     3.221     0.000     1.463     0.000   \n",
       "4  WBGene00235314   B0348.9    15.957     2.916     0.000     5.298     5.257   \n",
       "\n",
       "     daf2_2                                              go_id  \\\n",
       "0     0.000                                                NaN   \n",
       "1     8.367                                                NaN   \n",
       "2  4828.126  GO:0005515, GO:0003743, GO:0006412, GO:0005737...   \n",
       "3     0.000                                                NaN   \n",
       "4     8.047                                                NaN   \n",
       "\n",
       "                                             go_name  \\\n",
       "0                                                NaN   \n",
       "1                                                NaN   \n",
       "2  regulation of translation, translation, RNA 7-...   \n",
       "3                                                NaN   \n",
       "4                                                NaN   \n",
       "\n",
       "                                       go_definition  \n",
       "0                                                NaN  \n",
       "1                                                NaN  \n",
       "2  \"Any process that modulates the frequency, rat...  \n",
       "3                                                NaN  \n",
       "4                                                NaN  "
      ]
     },
     "execution_count": 28,
     "metadata": {},
     "output_type": "execute_result"
    }
   ],
   "source": [
    "genexp.head()"
   ]
  },
  {
   "cell_type": "code",
   "execution_count": 48,
   "metadata": {},
   "outputs": [],
   "source": [
    "genexp.iloc[0:30].to_excel(\"Datasets/SHORT_RNAseqLake.gene_expression.xlsx\")"
   ]
  },
  {
   "cell_type": "code",
   "execution_count": 50,
   "metadata": {},
   "outputs": [
    {
     "data": {
      "text/plain": [
       "['cTel3X.2',\n",
       " 'B0348.5',\n",
       " 'ife-3',\n",
       " 'B0348.10',\n",
       " 'B0348.9',\n",
       " 'egl-8',\n",
       " 'B0348.2',\n",
       " 'B0348.1',\n",
       " 'cyp-29A3',\n",
       " 'Y38C9B.3',\n",
       " 'daam-1',\n",
       " 'rps-27',\n",
       " 'F56E10.1',\n",
       " 'cgp-1',\n",
       " 'W03F9.1',\n",
       " 'W03F9.2',\n",
       " 'sftb-2',\n",
       " 'W03F9.3',\n",
       " 'W03F9.11',\n",
       " 'W03F9.9',\n",
       " 'srh-82',\n",
       " 'W03F9.4',\n",
       " 'ttb-1',\n",
       " 'cfap-36',\n",
       " 'Y108G3AL.2',\n",
       " 'Y108G3AL.10',\n",
       " 'cul-3',\n",
       " 'arid-1',\n",
       " 'trpp-1',\n",
       " 'lec-12']"
      ]
     },
     "execution_count": 50,
     "metadata": {},
     "output_type": "execute_result"
    }
   ],
   "source": [
    "short_genexp=pd.read_excel(\"Datasets/SHORT_RNAseqLake.gene_expression.xlsx\")\n",
    "list(short_genexp[\"gene_name\"])"
   ]
  },
  {
   "cell_type": "code",
   "execution_count": 34,
   "metadata": {},
   "outputs": [],
   "source": [
    "X=pd.read_csv(\"Datasets/dendrogram.csv\")"
   ]
  },
  {
   "cell_type": "code",
   "execution_count": 31,
   "metadata": {},
   "outputs": [
    {
     "data": {
      "text/html": [
       "<div>\n",
       "<style scoped>\n",
       "    .dataframe tbody tr th:only-of-type {\n",
       "        vertical-align: middle;\n",
       "    }\n",
       "\n",
       "    .dataframe tbody tr th {\n",
       "        vertical-align: top;\n",
       "    }\n",
       "\n",
       "    .dataframe thead th {\n",
       "        text-align: right;\n",
       "    }\n",
       "</style>\n",
       "<table border=\"1\" class=\"dataframe\">\n",
       "  <thead>\n",
       "    <tr style=\"text-align: right;\">\n",
       "      <th></th>\n",
       "      <th>0</th>\n",
       "      <th>1</th>\n",
       "      <th>2</th>\n",
       "      <th>3</th>\n",
       "      <th>4</th>\n",
       "      <th>5</th>\n",
       "      <th>6</th>\n",
       "      <th>7</th>\n",
       "      <th>8</th>\n",
       "      <th>9</th>\n",
       "      <th>10</th>\n",
       "      <th>11</th>\n",
       "      <th>12</th>\n",
       "      <th>13</th>\n",
       "      <th>14</th>\n",
       "    </tr>\n",
       "  </thead>\n",
       "  <tbody>\n",
       "    <tr>\n",
       "      <th>B</th>\n",
       "      <td>0.088560</td>\n",
       "      <td>0.110530</td>\n",
       "      <td>0.674655</td>\n",
       "      <td>0.081883</td>\n",
       "      <td>0.444507</td>\n",
       "      <td>0.000402</td>\n",
       "      <td>0.480180</td>\n",
       "      <td>0.622192</td>\n",
       "      <td>0.530806</td>\n",
       "      <td>0.009985</td>\n",
       "      <td>0.914935</td>\n",
       "      <td>0.395488</td>\n",
       "      <td>0.575718</td>\n",
       "      <td>0.082081</td>\n",
       "      <td>0.056996</td>\n",
       "    </tr>\n",
       "    <tr>\n",
       "      <th>C</th>\n",
       "      <td>0.245657</td>\n",
       "      <td>0.682529</td>\n",
       "      <td>0.596388</td>\n",
       "      <td>0.780090</td>\n",
       "      <td>0.877319</td>\n",
       "      <td>0.581541</td>\n",
       "      <td>0.716168</td>\n",
       "      <td>0.549333</td>\n",
       "      <td>0.538498</td>\n",
       "      <td>0.256829</td>\n",
       "      <td>0.558268</td>\n",
       "      <td>0.536643</td>\n",
       "      <td>0.612809</td>\n",
       "      <td>0.979658</td>\n",
       "      <td>0.030309</td>\n",
       "    </tr>\n",
       "    <tr>\n",
       "      <th>D</th>\n",
       "      <td>0.317308</td>\n",
       "      <td>0.722452</td>\n",
       "      <td>0.328285</td>\n",
       "      <td>0.103035</td>\n",
       "      <td>0.792399</td>\n",
       "      <td>0.840729</td>\n",
       "      <td>0.554305</td>\n",
       "      <td>0.000059</td>\n",
       "      <td>0.614652</td>\n",
       "      <td>0.274906</td>\n",
       "      <td>0.134674</td>\n",
       "      <td>0.504219</td>\n",
       "      <td>0.006786</td>\n",
       "      <td>0.531836</td>\n",
       "      <td>0.328783</td>\n",
       "    </tr>\n",
       "    <tr>\n",
       "      <th>E</th>\n",
       "      <td>0.843798</td>\n",
       "      <td>0.928493</td>\n",
       "      <td>0.201481</td>\n",
       "      <td>0.960088</td>\n",
       "      <td>0.882782</td>\n",
       "      <td>0.587152</td>\n",
       "      <td>0.818454</td>\n",
       "      <td>0.787384</td>\n",
       "      <td>0.598163</td>\n",
       "      <td>0.020852</td>\n",
       "      <td>0.752643</td>\n",
       "      <td>0.959156</td>\n",
       "      <td>0.190063</td>\n",
       "      <td>0.649937</td>\n",
       "      <td>0.318953</td>\n",
       "    </tr>\n",
       "    <tr>\n",
       "      <th>F</th>\n",
       "      <td>0.515702</td>\n",
       "      <td>0.308414</td>\n",
       "      <td>0.565793</td>\n",
       "      <td>0.953755</td>\n",
       "      <td>0.629670</td>\n",
       "      <td>0.386578</td>\n",
       "      <td>0.022875</td>\n",
       "      <td>0.802097</td>\n",
       "      <td>0.086206</td>\n",
       "      <td>0.312969</td>\n",
       "      <td>0.306820</td>\n",
       "      <td>0.960594</td>\n",
       "      <td>0.927912</td>\n",
       "      <td>0.197513</td>\n",
       "      <td>0.302426</td>\n",
       "    </tr>\n",
       "    <tr>\n",
       "      <th>G</th>\n",
       "      <td>0.342112</td>\n",
       "      <td>0.543936</td>\n",
       "      <td>0.964638</td>\n",
       "      <td>0.278143</td>\n",
       "      <td>0.392457</td>\n",
       "      <td>0.172554</td>\n",
       "      <td>0.094456</td>\n",
       "      <td>0.080032</td>\n",
       "      <td>0.635358</td>\n",
       "      <td>0.466624</td>\n",
       "      <td>0.784130</td>\n",
       "      <td>0.986794</td>\n",
       "      <td>0.988976</td>\n",
       "      <td>0.620817</td>\n",
       "      <td>0.996407</td>\n",
       "    </tr>\n",
       "  </tbody>\n",
       "</table>\n",
       "</div>"
      ],
      "text/plain": [
       "          0         1         2         3         4         5         6  \\\n",
       "B  0.088560  0.110530  0.674655  0.081883  0.444507  0.000402  0.480180   \n",
       "C  0.245657  0.682529  0.596388  0.780090  0.877319  0.581541  0.716168   \n",
       "D  0.317308  0.722452  0.328285  0.103035  0.792399  0.840729  0.554305   \n",
       "E  0.843798  0.928493  0.201481  0.960088  0.882782  0.587152  0.818454   \n",
       "F  0.515702  0.308414  0.565793  0.953755  0.629670  0.386578  0.022875   \n",
       "G  0.342112  0.543936  0.964638  0.278143  0.392457  0.172554  0.094456   \n",
       "\n",
       "          7         8         9        10        11        12        13  \\\n",
       "B  0.622192  0.530806  0.009985  0.914935  0.395488  0.575718  0.082081   \n",
       "C  0.549333  0.538498  0.256829  0.558268  0.536643  0.612809  0.979658   \n",
       "D  0.000059  0.614652  0.274906  0.134674  0.504219  0.006786  0.531836   \n",
       "E  0.787384  0.598163  0.020852  0.752643  0.959156  0.190063  0.649937   \n",
       "F  0.802097  0.086206  0.312969  0.306820  0.960594  0.927912  0.197513   \n",
       "G  0.080032  0.635358  0.466624  0.784130  0.986794  0.988976  0.620817   \n",
       "\n",
       "         14  \n",
       "B  0.056996  \n",
       "C  0.030309  \n",
       "D  0.328783  \n",
       "E  0.318953  \n",
       "F  0.302426  \n",
       "G  0.996407  "
      ]
     },
     "execution_count": 31,
     "metadata": {},
     "output_type": "execute_result"
    }
   ],
   "source": [
    "X[[\"B\",\"C\",\"D\",\"E\",\"F\",\"G\"]].transpose()"
   ]
  },
  {
   "cell_type": "code",
   "execution_count": 40,
   "metadata": {},
   "outputs": [
    {
     "data": {
      "text/plain": [
       "(15, 10)"
      ]
     },
     "execution_count": 40,
     "metadata": {},
     "output_type": "execute_result"
    }
   ],
   "source": [
    "X.shape[1]"
   ]
  },
  {
   "cell_type": "code",
   "execution_count": 12,
   "metadata": {},
   "outputs": [
    {
     "name": "stdout",
     "output_type": "stream",
     "text": [
      "Help on function create_dendrogram in module plotly.figure_factory._dendrogram:\n",
      "\n",
      "create_dendrogram(X, orientation='bottom', labels=None, colorscale=None, distfun=None, linkagefun=<function <lambda> at 0x7f0797f44048>, hovertext=None, color_threshold=None)\n",
      "    Function that returns a dendrogram Plotly figure object.\n",
      "    \n",
      "    See also https://dash.plot.ly/dash-bio/clustergram.\n",
      "    \n",
      "    :param (ndarray) X: Matrix of observations as array of arrays\n",
      "    :param (str) orientation: 'top', 'right', 'bottom', or 'left'\n",
      "    :param (list) labels: List of axis category labels(observation labels)\n",
      "    :param (list) colorscale: Optional colorscale for dendrogram tree\n",
      "    :param (function) distfun: Function to compute the pairwise distance from\n",
      "                               the observations\n",
      "    :param (function) linkagefun: Function to compute the linkage matrix from\n",
      "                               the pairwise distances\n",
      "    :param (list[list]) hovertext: List of hovertext for constituent traces of dendrogram\n",
      "                               clusters\n",
      "    :param (double) color_threshold: Value at which the separation of clusters will be made\n",
      "    \n",
      "    Example 1: Simple bottom oriented dendrogram\n",
      "    \n",
      "    >>> from plotly.figure_factory import create_dendrogram\n",
      "    \n",
      "    >>> import numpy as np\n",
      "    \n",
      "    >>> X = np.random.rand(10,10)\n",
      "    >>> fig = create_dendrogram(X)\n",
      "    >>> fig.show()\n",
      "    \n",
      "    Example 2: Dendrogram to put on the left of the heatmap\n",
      "    \n",
      "    >>> from plotly.figure_factory import create_dendrogram\n",
      "    \n",
      "    >>> import numpy as np\n",
      "    \n",
      "    >>> X = np.random.rand(5,5)\n",
      "    >>> names = ['Jack', 'Oxana', 'John', 'Chelsea', 'Mark']\n",
      "    >>> dendro = create_dendrogram(X, orientation='right', labels=names)\n",
      "    >>> dendro.update_layout({'width':700, 'height':500}) # doctest: +SKIP\n",
      "    >>> dendro.show()\n",
      "    \n",
      "    Example 3: Dendrogram with Pandas\n",
      "    \n",
      "    >>> from plotly.figure_factory import create_dendrogram\n",
      "    \n",
      "    >>> import numpy as np\n",
      "    >>> import pandas as pd\n",
      "    \n",
      "    >>> Index= ['A','B','C','D','E','F','G','H','I','J']\n",
      "    >>> df = pd.DataFrame(abs(np.random.randn(10, 10)), index=Index)\n",
      "    >>> fig = create_dendrogram(df, labels=Index)\n",
      "    >>> fig.show()\n",
      "\n"
     ]
    }
   ],
   "source": [
    "help(ff.create_dendrogram)"
   ]
  },
  {
   "cell_type": "code",
   "execution_count": 18,
   "metadata": {},
   "outputs": [
    {
     "data": {
      "text/plain": [
       "pandas.core.series.Series"
      ]
     },
     "execution_count": 18,
     "metadata": {},
     "output_type": "execute_result"
    }
   ],
   "source": [
    "type(X[\"B\"])\n"
   ]
  },
  {
   "cell_type": "code",
   "execution_count": 24,
   "metadata": {},
   "outputs": [],
   "source": [
    "from scipy.spatial.distance import pdist\n",
    "import scipy.cluster.hierarchy as sch\n"
   ]
  },
  {
   "cell_type": "code",
   "execution_count": 25,
   "metadata": {},
   "outputs": [
    {
     "data": {
      "application/vnd.plotly.v1+json": {
       "config": {
        "plotlyServerURL": "https://plot.ly"
       },
       "data": [
        {
         "hoverinfo": "text",
         "marker": {
          "color": "rgb(0,116,217)"
         },
         "mode": "lines",
         "type": "scatter",
         "x": [
          5,
          5,
          15,
          15
         ],
         "xaxis": "x",
         "y": [
          0,
          0.6527399807742331,
          0.6527399807742331,
          0
         ],
         "yaxis": "y"
        },
        {
         "hoverinfo": "text",
         "marker": {
          "color": "rgb(0,116,217)"
         },
         "mode": "lines",
         "type": "scatter",
         "x": [
          35,
          35,
          45,
          45
         ],
         "xaxis": "x",
         "y": [
          0,
          0.6692241834440866,
          0.6692241834440866,
          0
         ],
         "yaxis": "y"
        },
        {
         "hoverinfo": "text",
         "marker": {
          "color": "rgb(61,153,112)"
         },
         "mode": "lines",
         "type": "scatter",
         "x": [
          55,
          55,
          65,
          65
         ],
         "xaxis": "x",
         "y": [
          0,
          0.49525046145770346,
          0.49525046145770346,
          0
         ],
         "yaxis": "y"
        },
        {
         "hoverinfo": "text",
         "marker": {
          "color": "rgb(255,65,54)"
         },
         "mode": "lines",
         "type": "scatter",
         "x": [
          135,
          135,
          145,
          145
         ],
         "xaxis": "x",
         "y": [
          0,
          0.4703536697751699,
          0.4703536697751699,
          0
         ],
         "yaxis": "y"
        },
        {
         "hoverinfo": "text",
         "marker": {
          "color": "rgb(255,65,54)"
         },
         "mode": "lines",
         "type": "scatter",
         "x": [
          125,
          125,
          140,
          140
         ],
         "xaxis": "x",
         "y": [
          0,
          0.5316179414119749,
          0.5316179414119749,
          0.4703536697751699
         ],
         "yaxis": "y"
        },
        {
         "hoverinfo": "text",
         "marker": {
          "color": "rgb(255,65,54)"
         },
         "mode": "lines",
         "type": "scatter",
         "x": [
          115,
          115,
          132.5,
          132.5
         ],
         "xaxis": "x",
         "y": [
          0,
          0.5448527452443523,
          0.5448527452443523,
          0.5316179414119749
         ],
         "yaxis": "y"
        },
        {
         "hoverinfo": "text",
         "marker": {
          "color": "rgb(0,116,217)"
         },
         "mode": "lines",
         "type": "scatter",
         "x": [
          105,
          105,
          123.75,
          123.75
         ],
         "xaxis": "x",
         "y": [
          0,
          0.6130662560941357,
          0.6130662560941357,
          0.5448527452443523
         ],
         "yaxis": "y"
        },
        {
         "hoverinfo": "text",
         "marker": {
          "color": "rgb(0,116,217)"
         },
         "mode": "lines",
         "type": "scatter",
         "x": [
          95,
          95,
          114.375,
          114.375
         ],
         "xaxis": "x",
         "y": [
          0,
          0.61877679062187,
          0.61877679062187,
          0.6130662560941357
         ],
         "yaxis": "y"
        },
        {
         "hoverinfo": "text",
         "marker": {
          "color": "rgb(0,116,217)"
         },
         "mode": "lines",
         "type": "scatter",
         "x": [
          85,
          85,
          104.6875,
          104.6875
         ],
         "xaxis": "x",
         "y": [
          0,
          0.6680985869847251,
          0.6680985869847251,
          0.61877679062187
         ],
         "yaxis": "y"
        },
        {
         "hoverinfo": "text",
         "marker": {
          "color": "rgb(0,116,217)"
         },
         "mode": "lines",
         "type": "scatter",
         "x": [
          75,
          75,
          94.84375,
          94.84375
         ],
         "xaxis": "x",
         "y": [
          0,
          0.6877447819491036,
          0.6877447819491036,
          0.6680985869847251
         ],
         "yaxis": "y"
        },
        {
         "hoverinfo": "text",
         "marker": {
          "color": "rgb(0,116,217)"
         },
         "mode": "lines",
         "type": "scatter",
         "x": [
          60,
          60,
          84.921875,
          84.921875
         ],
         "xaxis": "x",
         "y": [
          0.49525046145770346,
          0.7071794511743592,
          0.7071794511743592,
          0.6877447819491036
         ],
         "yaxis": "y"
        },
        {
         "hoverinfo": "text",
         "marker": {
          "color": "rgb(0,116,217)"
         },
         "mode": "lines",
         "type": "scatter",
         "x": [
          40,
          40,
          72.4609375,
          72.4609375
         ],
         "xaxis": "x",
         "y": [
          0.6692241834440866,
          0.7355831556880053,
          0.7355831556880053,
          0.7071794511743592
         ],
         "yaxis": "y"
        },
        {
         "hoverinfo": "text",
         "marker": {
          "color": "rgb(0,116,217)"
         },
         "mode": "lines",
         "type": "scatter",
         "x": [
          25,
          25,
          56.23046875,
          56.23046875
         ],
         "xaxis": "x",
         "y": [
          0,
          0.8185901522044298,
          0.8185901522044298,
          0.7355831556880053
         ],
         "yaxis": "y"
        },
        {
         "hoverinfo": "text",
         "marker": {
          "color": "rgb(0,116,217)"
         },
         "mode": "lines",
         "type": "scatter",
         "x": [
          10,
          10,
          40.615234375,
          40.615234375
         ],
         "xaxis": "x",
         "y": [
          0.6527399807742331,
          0.8613601106302823,
          0.8613601106302823,
          0.8185901522044298
         ],
         "yaxis": "y"
        }
       ],
       "layout": {
        "autosize": false,
        "height": 500,
        "hovermode": "closest",
        "showlegend": false,
        "template": {
         "data": {
          "bar": [
           {
            "error_x": {
             "color": "#2a3f5f"
            },
            "error_y": {
             "color": "#2a3f5f"
            },
            "marker": {
             "line": {
              "color": "#E5ECF6",
              "width": 0.5
             }
            },
            "type": "bar"
           }
          ],
          "barpolar": [
           {
            "marker": {
             "line": {
              "color": "#E5ECF6",
              "width": 0.5
             }
            },
            "type": "barpolar"
           }
          ],
          "carpet": [
           {
            "aaxis": {
             "endlinecolor": "#2a3f5f",
             "gridcolor": "white",
             "linecolor": "white",
             "minorgridcolor": "white",
             "startlinecolor": "#2a3f5f"
            },
            "baxis": {
             "endlinecolor": "#2a3f5f",
             "gridcolor": "white",
             "linecolor": "white",
             "minorgridcolor": "white",
             "startlinecolor": "#2a3f5f"
            },
            "type": "carpet"
           }
          ],
          "choropleth": [
           {
            "colorbar": {
             "outlinewidth": 0,
             "ticks": ""
            },
            "type": "choropleth"
           }
          ],
          "contour": [
           {
            "colorbar": {
             "outlinewidth": 0,
             "ticks": ""
            },
            "colorscale": [
             [
              0,
              "#0d0887"
             ],
             [
              0.1111111111111111,
              "#46039f"
             ],
             [
              0.2222222222222222,
              "#7201a8"
             ],
             [
              0.3333333333333333,
              "#9c179e"
             ],
             [
              0.4444444444444444,
              "#bd3786"
             ],
             [
              0.5555555555555556,
              "#d8576b"
             ],
             [
              0.6666666666666666,
              "#ed7953"
             ],
             [
              0.7777777777777778,
              "#fb9f3a"
             ],
             [
              0.8888888888888888,
              "#fdca26"
             ],
             [
              1,
              "#f0f921"
             ]
            ],
            "type": "contour"
           }
          ],
          "contourcarpet": [
           {
            "colorbar": {
             "outlinewidth": 0,
             "ticks": ""
            },
            "type": "contourcarpet"
           }
          ],
          "heatmap": [
           {
            "colorbar": {
             "outlinewidth": 0,
             "ticks": ""
            },
            "colorscale": [
             [
              0,
              "#0d0887"
             ],
             [
              0.1111111111111111,
              "#46039f"
             ],
             [
              0.2222222222222222,
              "#7201a8"
             ],
             [
              0.3333333333333333,
              "#9c179e"
             ],
             [
              0.4444444444444444,
              "#bd3786"
             ],
             [
              0.5555555555555556,
              "#d8576b"
             ],
             [
              0.6666666666666666,
              "#ed7953"
             ],
             [
              0.7777777777777778,
              "#fb9f3a"
             ],
             [
              0.8888888888888888,
              "#fdca26"
             ],
             [
              1,
              "#f0f921"
             ]
            ],
            "type": "heatmap"
           }
          ],
          "heatmapgl": [
           {
            "colorbar": {
             "outlinewidth": 0,
             "ticks": ""
            },
            "colorscale": [
             [
              0,
              "#0d0887"
             ],
             [
              0.1111111111111111,
              "#46039f"
             ],
             [
              0.2222222222222222,
              "#7201a8"
             ],
             [
              0.3333333333333333,
              "#9c179e"
             ],
             [
              0.4444444444444444,
              "#bd3786"
             ],
             [
              0.5555555555555556,
              "#d8576b"
             ],
             [
              0.6666666666666666,
              "#ed7953"
             ],
             [
              0.7777777777777778,
              "#fb9f3a"
             ],
             [
              0.8888888888888888,
              "#fdca26"
             ],
             [
              1,
              "#f0f921"
             ]
            ],
            "type": "heatmapgl"
           }
          ],
          "histogram": [
           {
            "marker": {
             "colorbar": {
              "outlinewidth": 0,
              "ticks": ""
             }
            },
            "type": "histogram"
           }
          ],
          "histogram2d": [
           {
            "colorbar": {
             "outlinewidth": 0,
             "ticks": ""
            },
            "colorscale": [
             [
              0,
              "#0d0887"
             ],
             [
              0.1111111111111111,
              "#46039f"
             ],
             [
              0.2222222222222222,
              "#7201a8"
             ],
             [
              0.3333333333333333,
              "#9c179e"
             ],
             [
              0.4444444444444444,
              "#bd3786"
             ],
             [
              0.5555555555555556,
              "#d8576b"
             ],
             [
              0.6666666666666666,
              "#ed7953"
             ],
             [
              0.7777777777777778,
              "#fb9f3a"
             ],
             [
              0.8888888888888888,
              "#fdca26"
             ],
             [
              1,
              "#f0f921"
             ]
            ],
            "type": "histogram2d"
           }
          ],
          "histogram2dcontour": [
           {
            "colorbar": {
             "outlinewidth": 0,
             "ticks": ""
            },
            "colorscale": [
             [
              0,
              "#0d0887"
             ],
             [
              0.1111111111111111,
              "#46039f"
             ],
             [
              0.2222222222222222,
              "#7201a8"
             ],
             [
              0.3333333333333333,
              "#9c179e"
             ],
             [
              0.4444444444444444,
              "#bd3786"
             ],
             [
              0.5555555555555556,
              "#d8576b"
             ],
             [
              0.6666666666666666,
              "#ed7953"
             ],
             [
              0.7777777777777778,
              "#fb9f3a"
             ],
             [
              0.8888888888888888,
              "#fdca26"
             ],
             [
              1,
              "#f0f921"
             ]
            ],
            "type": "histogram2dcontour"
           }
          ],
          "mesh3d": [
           {
            "colorbar": {
             "outlinewidth": 0,
             "ticks": ""
            },
            "type": "mesh3d"
           }
          ],
          "parcoords": [
           {
            "line": {
             "colorbar": {
              "outlinewidth": 0,
              "ticks": ""
             }
            },
            "type": "parcoords"
           }
          ],
          "pie": [
           {
            "automargin": true,
            "type": "pie"
           }
          ],
          "scatter": [
           {
            "marker": {
             "colorbar": {
              "outlinewidth": 0,
              "ticks": ""
             }
            },
            "type": "scatter"
           }
          ],
          "scatter3d": [
           {
            "line": {
             "colorbar": {
              "outlinewidth": 0,
              "ticks": ""
             }
            },
            "marker": {
             "colorbar": {
              "outlinewidth": 0,
              "ticks": ""
             }
            },
            "type": "scatter3d"
           }
          ],
          "scattercarpet": [
           {
            "marker": {
             "colorbar": {
              "outlinewidth": 0,
              "ticks": ""
             }
            },
            "type": "scattercarpet"
           }
          ],
          "scattergeo": [
           {
            "marker": {
             "colorbar": {
              "outlinewidth": 0,
              "ticks": ""
             }
            },
            "type": "scattergeo"
           }
          ],
          "scattergl": [
           {
            "marker": {
             "colorbar": {
              "outlinewidth": 0,
              "ticks": ""
             }
            },
            "type": "scattergl"
           }
          ],
          "scattermapbox": [
           {
            "marker": {
             "colorbar": {
              "outlinewidth": 0,
              "ticks": ""
             }
            },
            "type": "scattermapbox"
           }
          ],
          "scatterpolar": [
           {
            "marker": {
             "colorbar": {
              "outlinewidth": 0,
              "ticks": ""
             }
            },
            "type": "scatterpolar"
           }
          ],
          "scatterpolargl": [
           {
            "marker": {
             "colorbar": {
              "outlinewidth": 0,
              "ticks": ""
             }
            },
            "type": "scatterpolargl"
           }
          ],
          "scatterternary": [
           {
            "marker": {
             "colorbar": {
              "outlinewidth": 0,
              "ticks": ""
             }
            },
            "type": "scatterternary"
           }
          ],
          "surface": [
           {
            "colorbar": {
             "outlinewidth": 0,
             "ticks": ""
            },
            "colorscale": [
             [
              0,
              "#0d0887"
             ],
             [
              0.1111111111111111,
              "#46039f"
             ],
             [
              0.2222222222222222,
              "#7201a8"
             ],
             [
              0.3333333333333333,
              "#9c179e"
             ],
             [
              0.4444444444444444,
              "#bd3786"
             ],
             [
              0.5555555555555556,
              "#d8576b"
             ],
             [
              0.6666666666666666,
              "#ed7953"
             ],
             [
              0.7777777777777778,
              "#fb9f3a"
             ],
             [
              0.8888888888888888,
              "#fdca26"
             ],
             [
              1,
              "#f0f921"
             ]
            ],
            "type": "surface"
           }
          ],
          "table": [
           {
            "cells": {
             "fill": {
              "color": "#EBF0F8"
             },
             "line": {
              "color": "white"
             }
            },
            "header": {
             "fill": {
              "color": "#C8D4E3"
             },
             "line": {
              "color": "white"
             }
            },
            "type": "table"
           }
          ]
         },
         "layout": {
          "annotationdefaults": {
           "arrowcolor": "#2a3f5f",
           "arrowhead": 0,
           "arrowwidth": 1
          },
          "coloraxis": {
           "colorbar": {
            "outlinewidth": 0,
            "ticks": ""
           }
          },
          "colorscale": {
           "diverging": [
            [
             0,
             "#8e0152"
            ],
            [
             0.1,
             "#c51b7d"
            ],
            [
             0.2,
             "#de77ae"
            ],
            [
             0.3,
             "#f1b6da"
            ],
            [
             0.4,
             "#fde0ef"
            ],
            [
             0.5,
             "#f7f7f7"
            ],
            [
             0.6,
             "#e6f5d0"
            ],
            [
             0.7,
             "#b8e186"
            ],
            [
             0.8,
             "#7fbc41"
            ],
            [
             0.9,
             "#4d9221"
            ],
            [
             1,
             "#276419"
            ]
           ],
           "sequential": [
            [
             0,
             "#0d0887"
            ],
            [
             0.1111111111111111,
             "#46039f"
            ],
            [
             0.2222222222222222,
             "#7201a8"
            ],
            [
             0.3333333333333333,
             "#9c179e"
            ],
            [
             0.4444444444444444,
             "#bd3786"
            ],
            [
             0.5555555555555556,
             "#d8576b"
            ],
            [
             0.6666666666666666,
             "#ed7953"
            ],
            [
             0.7777777777777778,
             "#fb9f3a"
            ],
            [
             0.8888888888888888,
             "#fdca26"
            ],
            [
             1,
             "#f0f921"
            ]
           ],
           "sequentialminus": [
            [
             0,
             "#0d0887"
            ],
            [
             0.1111111111111111,
             "#46039f"
            ],
            [
             0.2222222222222222,
             "#7201a8"
            ],
            [
             0.3333333333333333,
             "#9c179e"
            ],
            [
             0.4444444444444444,
             "#bd3786"
            ],
            [
             0.5555555555555556,
             "#d8576b"
            ],
            [
             0.6666666666666666,
             "#ed7953"
            ],
            [
             0.7777777777777778,
             "#fb9f3a"
            ],
            [
             0.8888888888888888,
             "#fdca26"
            ],
            [
             1,
             "#f0f921"
            ]
           ]
          },
          "colorway": [
           "#636efa",
           "#EF553B",
           "#00cc96",
           "#ab63fa",
           "#FFA15A",
           "#19d3f3",
           "#FF6692",
           "#B6E880",
           "#FF97FF",
           "#FECB52"
          ],
          "font": {
           "color": "#2a3f5f"
          },
          "geo": {
           "bgcolor": "white",
           "lakecolor": "white",
           "landcolor": "#E5ECF6",
           "showlakes": true,
           "showland": true,
           "subunitcolor": "white"
          },
          "hoverlabel": {
           "align": "left"
          },
          "hovermode": "closest",
          "mapbox": {
           "style": "light"
          },
          "paper_bgcolor": "white",
          "plot_bgcolor": "#E5ECF6",
          "polar": {
           "angularaxis": {
            "gridcolor": "white",
            "linecolor": "white",
            "ticks": ""
           },
           "bgcolor": "#E5ECF6",
           "radialaxis": {
            "gridcolor": "white",
            "linecolor": "white",
            "ticks": ""
           }
          },
          "scene": {
           "xaxis": {
            "backgroundcolor": "#E5ECF6",
            "gridcolor": "white",
            "gridwidth": 2,
            "linecolor": "white",
            "showbackground": true,
            "ticks": "",
            "zerolinecolor": "white"
           },
           "yaxis": {
            "backgroundcolor": "#E5ECF6",
            "gridcolor": "white",
            "gridwidth": 2,
            "linecolor": "white",
            "showbackground": true,
            "ticks": "",
            "zerolinecolor": "white"
           },
           "zaxis": {
            "backgroundcolor": "#E5ECF6",
            "gridcolor": "white",
            "gridwidth": 2,
            "linecolor": "white",
            "showbackground": true,
            "ticks": "",
            "zerolinecolor": "white"
           }
          },
          "shapedefaults": {
           "line": {
            "color": "#2a3f5f"
           }
          },
          "ternary": {
           "aaxis": {
            "gridcolor": "white",
            "linecolor": "white",
            "ticks": ""
           },
           "baxis": {
            "gridcolor": "white",
            "linecolor": "white",
            "ticks": ""
           },
           "bgcolor": "#E5ECF6",
           "caxis": {
            "gridcolor": "white",
            "linecolor": "white",
            "ticks": ""
           }
          },
          "title": {
           "x": 0.05
          },
          "xaxis": {
           "automargin": true,
           "gridcolor": "white",
           "linecolor": "white",
           "ticks": "",
           "title": {
            "standoff": 15
           },
           "zerolinecolor": "white",
           "zerolinewidth": 2
          },
          "yaxis": {
           "automargin": true,
           "gridcolor": "white",
           "linecolor": "white",
           "ticks": "",
           "title": {
            "standoff": 15
           },
           "zerolinecolor": "white",
           "zerolinewidth": 2
          }
         }
        },
        "width": 800,
        "xaxis": {
         "mirror": "allticks",
         "rangemode": "tozero",
         "showgrid": false,
         "showline": true,
         "showticklabels": true,
         "tickmode": "array",
         "ticks": "outside",
         "ticktext": [
          "9",
          "14",
          "11",
          "3",
          "7",
          "2",
          "12",
          "10",
          "0",
          "6",
          "8",
          "5",
          "4",
          "1",
          "13"
         ],
         "tickvals": [
          5,
          15,
          25,
          35,
          45,
          55,
          65,
          75,
          85,
          95,
          105,
          115,
          125,
          135,
          145
         ],
         "type": "linear",
         "zeroline": false
        },
        "yaxis": {
         "mirror": "allticks",
         "rangemode": "tozero",
         "showgrid": false,
         "showline": true,
         "showticklabels": true,
         "ticks": "outside",
         "type": "linear",
         "zeroline": false
        }
       }
      },
      "text/html": [
       "<div>\n",
       "        \n",
       "        \n",
       "            <div id=\"75543f29-b810-4cf9-9dac-10c985ada86f\" class=\"plotly-graph-div\" style=\"height:500px; width:800px;\"></div>\n",
       "            <script type=\"text/javascript\">\n",
       "                require([\"plotly\"], function(Plotly) {\n",
       "                    window.PLOTLYENV=window.PLOTLYENV || {};\n",
       "                    \n",
       "                if (document.getElementById(\"75543f29-b810-4cf9-9dac-10c985ada86f\")) {\n",
       "                    Plotly.newPlot(\n",
       "                        '75543f29-b810-4cf9-9dac-10c985ada86f',\n",
       "                        [{\"hoverinfo\": \"text\", \"marker\": {\"color\": \"rgb(0,116,217)\"}, \"mode\": \"lines\", \"type\": \"scatter\", \"x\": [5.0, 5.0, 15.0, 15.0], \"xaxis\": \"x\", \"y\": [0.0, 0.6527399807742331, 0.6527399807742331, 0.0], \"yaxis\": \"y\"}, {\"hoverinfo\": \"text\", \"marker\": {\"color\": \"rgb(0,116,217)\"}, \"mode\": \"lines\", \"type\": \"scatter\", \"x\": [35.0, 35.0, 45.0, 45.0], \"xaxis\": \"x\", \"y\": [0.0, 0.6692241834440866, 0.6692241834440866, 0.0], \"yaxis\": \"y\"}, {\"hoverinfo\": \"text\", \"marker\": {\"color\": \"rgb(61,153,112)\"}, \"mode\": \"lines\", \"type\": \"scatter\", \"x\": [55.0, 55.0, 65.0, 65.0], \"xaxis\": \"x\", \"y\": [0.0, 0.49525046145770346, 0.49525046145770346, 0.0], \"yaxis\": \"y\"}, {\"hoverinfo\": \"text\", \"marker\": {\"color\": \"rgb(255,65,54)\"}, \"mode\": \"lines\", \"type\": \"scatter\", \"x\": [135.0, 135.0, 145.0, 145.0], \"xaxis\": \"x\", \"y\": [0.0, 0.4703536697751699, 0.4703536697751699, 0.0], \"yaxis\": \"y\"}, {\"hoverinfo\": \"text\", \"marker\": {\"color\": \"rgb(255,65,54)\"}, \"mode\": \"lines\", \"type\": \"scatter\", \"x\": [125.0, 125.0, 140.0, 140.0], \"xaxis\": \"x\", \"y\": [0.0, 0.5316179414119749, 0.5316179414119749, 0.4703536697751699], \"yaxis\": \"y\"}, {\"hoverinfo\": \"text\", \"marker\": {\"color\": \"rgb(255,65,54)\"}, \"mode\": \"lines\", \"type\": \"scatter\", \"x\": [115.0, 115.0, 132.5, 132.5], \"xaxis\": \"x\", \"y\": [0.0, 0.5448527452443523, 0.5448527452443523, 0.5316179414119749], \"yaxis\": \"y\"}, {\"hoverinfo\": \"text\", \"marker\": {\"color\": \"rgb(0,116,217)\"}, \"mode\": \"lines\", \"type\": \"scatter\", \"x\": [105.0, 105.0, 123.75, 123.75], \"xaxis\": \"x\", \"y\": [0.0, 0.6130662560941357, 0.6130662560941357, 0.5448527452443523], \"yaxis\": \"y\"}, {\"hoverinfo\": \"text\", \"marker\": {\"color\": \"rgb(0,116,217)\"}, \"mode\": \"lines\", \"type\": \"scatter\", \"x\": [95.0, 95.0, 114.375, 114.375], \"xaxis\": \"x\", \"y\": [0.0, 0.61877679062187, 0.61877679062187, 0.6130662560941357], \"yaxis\": \"y\"}, {\"hoverinfo\": \"text\", \"marker\": {\"color\": \"rgb(0,116,217)\"}, \"mode\": \"lines\", \"type\": \"scatter\", \"x\": [85.0, 85.0, 104.6875, 104.6875], \"xaxis\": \"x\", \"y\": [0.0, 0.6680985869847251, 0.6680985869847251, 0.61877679062187], \"yaxis\": \"y\"}, {\"hoverinfo\": \"text\", \"marker\": {\"color\": \"rgb(0,116,217)\"}, \"mode\": \"lines\", \"type\": \"scatter\", \"x\": [75.0, 75.0, 94.84375, 94.84375], \"xaxis\": \"x\", \"y\": [0.0, 0.6877447819491036, 0.6877447819491036, 0.6680985869847251], \"yaxis\": \"y\"}, {\"hoverinfo\": \"text\", \"marker\": {\"color\": \"rgb(0,116,217)\"}, \"mode\": \"lines\", \"type\": \"scatter\", \"x\": [60.0, 60.0, 84.921875, 84.921875], \"xaxis\": \"x\", \"y\": [0.49525046145770346, 0.7071794511743592, 0.7071794511743592, 0.6877447819491036], \"yaxis\": \"y\"}, {\"hoverinfo\": \"text\", \"marker\": {\"color\": \"rgb(0,116,217)\"}, \"mode\": \"lines\", \"type\": \"scatter\", \"x\": [40.0, 40.0, 72.4609375, 72.4609375], \"xaxis\": \"x\", \"y\": [0.6692241834440866, 0.7355831556880053, 0.7355831556880053, 0.7071794511743592], \"yaxis\": \"y\"}, {\"hoverinfo\": \"text\", \"marker\": {\"color\": \"rgb(0,116,217)\"}, \"mode\": \"lines\", \"type\": \"scatter\", \"x\": [25.0, 25.0, 56.23046875, 56.23046875], \"xaxis\": \"x\", \"y\": [0.0, 0.8185901522044298, 0.8185901522044298, 0.7355831556880053], \"yaxis\": \"y\"}, {\"hoverinfo\": \"text\", \"marker\": {\"color\": \"rgb(0,116,217)\"}, \"mode\": \"lines\", \"type\": \"scatter\", \"x\": [10.0, 10.0, 40.615234375, 40.615234375], \"xaxis\": \"x\", \"y\": [0.6527399807742331, 0.8613601106302823, 0.8613601106302823, 0.8185901522044298], \"yaxis\": \"y\"}],\n",
       "                        {\"autosize\": false, \"height\": 500, \"hovermode\": \"closest\", \"showlegend\": false, \"template\": {\"data\": {\"bar\": [{\"error_x\": {\"color\": \"#2a3f5f\"}, \"error_y\": {\"color\": \"#2a3f5f\"}, \"marker\": {\"line\": {\"color\": \"#E5ECF6\", \"width\": 0.5}}, \"type\": \"bar\"}], \"barpolar\": [{\"marker\": {\"line\": {\"color\": \"#E5ECF6\", \"width\": 0.5}}, \"type\": \"barpolar\"}], \"carpet\": [{\"aaxis\": {\"endlinecolor\": \"#2a3f5f\", \"gridcolor\": \"white\", \"linecolor\": \"white\", \"minorgridcolor\": \"white\", \"startlinecolor\": \"#2a3f5f\"}, \"baxis\": {\"endlinecolor\": \"#2a3f5f\", \"gridcolor\": \"white\", \"linecolor\": \"white\", \"minorgridcolor\": \"white\", \"startlinecolor\": \"#2a3f5f\"}, \"type\": \"carpet\"}], \"choropleth\": [{\"colorbar\": {\"outlinewidth\": 0, \"ticks\": \"\"}, \"type\": \"choropleth\"}], \"contour\": [{\"colorbar\": {\"outlinewidth\": 0, \"ticks\": \"\"}, \"colorscale\": [[0.0, \"#0d0887\"], [0.1111111111111111, \"#46039f\"], [0.2222222222222222, \"#7201a8\"], [0.3333333333333333, \"#9c179e\"], [0.4444444444444444, \"#bd3786\"], [0.5555555555555556, \"#d8576b\"], [0.6666666666666666, \"#ed7953\"], [0.7777777777777778, \"#fb9f3a\"], [0.8888888888888888, \"#fdca26\"], [1.0, \"#f0f921\"]], \"type\": \"contour\"}], \"contourcarpet\": [{\"colorbar\": {\"outlinewidth\": 0, \"ticks\": \"\"}, \"type\": \"contourcarpet\"}], \"heatmap\": [{\"colorbar\": {\"outlinewidth\": 0, \"ticks\": \"\"}, \"colorscale\": [[0.0, \"#0d0887\"], [0.1111111111111111, \"#46039f\"], [0.2222222222222222, \"#7201a8\"], [0.3333333333333333, \"#9c179e\"], [0.4444444444444444, \"#bd3786\"], [0.5555555555555556, \"#d8576b\"], [0.6666666666666666, \"#ed7953\"], [0.7777777777777778, \"#fb9f3a\"], [0.8888888888888888, \"#fdca26\"], [1.0, \"#f0f921\"]], \"type\": \"heatmap\"}], \"heatmapgl\": [{\"colorbar\": {\"outlinewidth\": 0, \"ticks\": \"\"}, \"colorscale\": [[0.0, \"#0d0887\"], [0.1111111111111111, \"#46039f\"], [0.2222222222222222, \"#7201a8\"], [0.3333333333333333, \"#9c179e\"], [0.4444444444444444, \"#bd3786\"], [0.5555555555555556, \"#d8576b\"], [0.6666666666666666, \"#ed7953\"], [0.7777777777777778, \"#fb9f3a\"], [0.8888888888888888, \"#fdca26\"], [1.0, \"#f0f921\"]], \"type\": \"heatmapgl\"}], \"histogram\": [{\"marker\": {\"colorbar\": {\"outlinewidth\": 0, \"ticks\": \"\"}}, \"type\": \"histogram\"}], \"histogram2d\": [{\"colorbar\": {\"outlinewidth\": 0, \"ticks\": \"\"}, \"colorscale\": [[0.0, \"#0d0887\"], [0.1111111111111111, \"#46039f\"], [0.2222222222222222, \"#7201a8\"], [0.3333333333333333, \"#9c179e\"], [0.4444444444444444, \"#bd3786\"], [0.5555555555555556, \"#d8576b\"], [0.6666666666666666, \"#ed7953\"], [0.7777777777777778, \"#fb9f3a\"], [0.8888888888888888, \"#fdca26\"], [1.0, \"#f0f921\"]], \"type\": \"histogram2d\"}], \"histogram2dcontour\": [{\"colorbar\": {\"outlinewidth\": 0, \"ticks\": \"\"}, \"colorscale\": [[0.0, \"#0d0887\"], [0.1111111111111111, \"#46039f\"], [0.2222222222222222, \"#7201a8\"], [0.3333333333333333, \"#9c179e\"], [0.4444444444444444, \"#bd3786\"], [0.5555555555555556, \"#d8576b\"], [0.6666666666666666, \"#ed7953\"], [0.7777777777777778, \"#fb9f3a\"], [0.8888888888888888, \"#fdca26\"], [1.0, \"#f0f921\"]], \"type\": \"histogram2dcontour\"}], \"mesh3d\": [{\"colorbar\": {\"outlinewidth\": 0, \"ticks\": \"\"}, \"type\": \"mesh3d\"}], \"parcoords\": [{\"line\": {\"colorbar\": {\"outlinewidth\": 0, \"ticks\": \"\"}}, \"type\": \"parcoords\"}], \"pie\": [{\"automargin\": true, \"type\": \"pie\"}], \"scatter\": [{\"marker\": {\"colorbar\": {\"outlinewidth\": 0, \"ticks\": \"\"}}, \"type\": \"scatter\"}], \"scatter3d\": [{\"line\": {\"colorbar\": {\"outlinewidth\": 0, \"ticks\": \"\"}}, \"marker\": {\"colorbar\": {\"outlinewidth\": 0, \"ticks\": \"\"}}, \"type\": \"scatter3d\"}], \"scattercarpet\": [{\"marker\": {\"colorbar\": {\"outlinewidth\": 0, \"ticks\": \"\"}}, \"type\": \"scattercarpet\"}], \"scattergeo\": [{\"marker\": {\"colorbar\": {\"outlinewidth\": 0, \"ticks\": \"\"}}, \"type\": \"scattergeo\"}], \"scattergl\": [{\"marker\": {\"colorbar\": {\"outlinewidth\": 0, \"ticks\": \"\"}}, \"type\": \"scattergl\"}], \"scattermapbox\": [{\"marker\": {\"colorbar\": {\"outlinewidth\": 0, \"ticks\": \"\"}}, \"type\": \"scattermapbox\"}], \"scatterpolar\": [{\"marker\": {\"colorbar\": {\"outlinewidth\": 0, \"ticks\": \"\"}}, \"type\": \"scatterpolar\"}], \"scatterpolargl\": [{\"marker\": {\"colorbar\": {\"outlinewidth\": 0, \"ticks\": \"\"}}, \"type\": \"scatterpolargl\"}], \"scatterternary\": [{\"marker\": {\"colorbar\": {\"outlinewidth\": 0, \"ticks\": \"\"}}, \"type\": \"scatterternary\"}], \"surface\": [{\"colorbar\": {\"outlinewidth\": 0, \"ticks\": \"\"}, \"colorscale\": [[0.0, \"#0d0887\"], [0.1111111111111111, \"#46039f\"], [0.2222222222222222, \"#7201a8\"], [0.3333333333333333, \"#9c179e\"], [0.4444444444444444, \"#bd3786\"], [0.5555555555555556, \"#d8576b\"], [0.6666666666666666, \"#ed7953\"], [0.7777777777777778, \"#fb9f3a\"], [0.8888888888888888, \"#fdca26\"], [1.0, \"#f0f921\"]], \"type\": \"surface\"}], \"table\": [{\"cells\": {\"fill\": {\"color\": \"#EBF0F8\"}, \"line\": {\"color\": \"white\"}}, \"header\": {\"fill\": {\"color\": \"#C8D4E3\"}, \"line\": {\"color\": \"white\"}}, \"type\": \"table\"}]}, \"layout\": {\"annotationdefaults\": {\"arrowcolor\": \"#2a3f5f\", \"arrowhead\": 0, \"arrowwidth\": 1}, \"coloraxis\": {\"colorbar\": {\"outlinewidth\": 0, \"ticks\": \"\"}}, \"colorscale\": {\"diverging\": [[0, \"#8e0152\"], [0.1, \"#c51b7d\"], [0.2, \"#de77ae\"], [0.3, \"#f1b6da\"], [0.4, \"#fde0ef\"], [0.5, \"#f7f7f7\"], [0.6, \"#e6f5d0\"], [0.7, \"#b8e186\"], [0.8, \"#7fbc41\"], [0.9, \"#4d9221\"], [1, \"#276419\"]], \"sequential\": [[0.0, \"#0d0887\"], [0.1111111111111111, \"#46039f\"], [0.2222222222222222, \"#7201a8\"], [0.3333333333333333, \"#9c179e\"], [0.4444444444444444, \"#bd3786\"], [0.5555555555555556, \"#d8576b\"], [0.6666666666666666, \"#ed7953\"], [0.7777777777777778, \"#fb9f3a\"], [0.8888888888888888, \"#fdca26\"], [1.0, \"#f0f921\"]], \"sequentialminus\": [[0.0, \"#0d0887\"], [0.1111111111111111, \"#46039f\"], [0.2222222222222222, \"#7201a8\"], [0.3333333333333333, \"#9c179e\"], [0.4444444444444444, \"#bd3786\"], [0.5555555555555556, \"#d8576b\"], [0.6666666666666666, \"#ed7953\"], [0.7777777777777778, \"#fb9f3a\"], [0.8888888888888888, \"#fdca26\"], [1.0, \"#f0f921\"]]}, \"colorway\": [\"#636efa\", \"#EF553B\", \"#00cc96\", \"#ab63fa\", \"#FFA15A\", \"#19d3f3\", \"#FF6692\", \"#B6E880\", \"#FF97FF\", \"#FECB52\"], \"font\": {\"color\": \"#2a3f5f\"}, \"geo\": {\"bgcolor\": \"white\", \"lakecolor\": \"white\", \"landcolor\": \"#E5ECF6\", \"showlakes\": true, \"showland\": true, \"subunitcolor\": \"white\"}, \"hoverlabel\": {\"align\": \"left\"}, \"hovermode\": \"closest\", \"mapbox\": {\"style\": \"light\"}, \"paper_bgcolor\": \"white\", \"plot_bgcolor\": \"#E5ECF6\", \"polar\": {\"angularaxis\": {\"gridcolor\": \"white\", \"linecolor\": \"white\", \"ticks\": \"\"}, \"bgcolor\": \"#E5ECF6\", \"radialaxis\": {\"gridcolor\": \"white\", \"linecolor\": \"white\", \"ticks\": \"\"}}, \"scene\": {\"xaxis\": {\"backgroundcolor\": \"#E5ECF6\", \"gridcolor\": \"white\", \"gridwidth\": 2, \"linecolor\": \"white\", \"showbackground\": true, \"ticks\": \"\", \"zerolinecolor\": \"white\"}, \"yaxis\": {\"backgroundcolor\": \"#E5ECF6\", \"gridcolor\": \"white\", \"gridwidth\": 2, \"linecolor\": \"white\", \"showbackground\": true, \"ticks\": \"\", \"zerolinecolor\": \"white\"}, \"zaxis\": {\"backgroundcolor\": \"#E5ECF6\", \"gridcolor\": \"white\", \"gridwidth\": 2, \"linecolor\": \"white\", \"showbackground\": true, \"ticks\": \"\", \"zerolinecolor\": \"white\"}}, \"shapedefaults\": {\"line\": {\"color\": \"#2a3f5f\"}}, \"ternary\": {\"aaxis\": {\"gridcolor\": \"white\", \"linecolor\": \"white\", \"ticks\": \"\"}, \"baxis\": {\"gridcolor\": \"white\", \"linecolor\": \"white\", \"ticks\": \"\"}, \"bgcolor\": \"#E5ECF6\", \"caxis\": {\"gridcolor\": \"white\", \"linecolor\": \"white\", \"ticks\": \"\"}}, \"title\": {\"x\": 0.05}, \"xaxis\": {\"automargin\": true, \"gridcolor\": \"white\", \"linecolor\": \"white\", \"ticks\": \"\", \"title\": {\"standoff\": 15}, \"zerolinecolor\": \"white\", \"zerolinewidth\": 2}, \"yaxis\": {\"automargin\": true, \"gridcolor\": \"white\", \"linecolor\": \"white\", \"ticks\": \"\", \"title\": {\"standoff\": 15}, \"zerolinecolor\": \"white\", \"zerolinewidth\": 2}}}, \"width\": 800, \"xaxis\": {\"mirror\": \"allticks\", \"rangemode\": \"tozero\", \"showgrid\": false, \"showline\": true, \"showticklabels\": true, \"tickmode\": \"array\", \"ticks\": \"outside\", \"ticktext\": [\"9\", \"14\", \"11\", \"3\", \"7\", \"2\", \"12\", \"10\", \"0\", \"6\", \"8\", \"5\", \"4\", \"1\", \"13\"], \"tickvals\": [5.0, 15.0, 25.0, 35.0, 45.0, 55.0, 65.0, 75.0, 85.0, 95.0, 105.0, 115.0, 125.0, 135.0, 145.0], \"type\": \"linear\", \"zeroline\": false}, \"yaxis\": {\"mirror\": \"allticks\", \"rangemode\": \"tozero\", \"showgrid\": false, \"showline\": true, \"showticklabels\": true, \"ticks\": \"outside\", \"type\": \"linear\", \"zeroline\": false}},\n",
       "                        {\"responsive\": true}\n",
       "                    ).then(function(){\n",
       "                            \n",
       "var gd = document.getElementById('75543f29-b810-4cf9-9dac-10c985ada86f');\n",
       "var x = new MutationObserver(function (mutations, observer) {{\n",
       "        var display = window.getComputedStyle(gd).display;\n",
       "        if (!display || display === 'none') {{\n",
       "            console.log([gd, 'removed!']);\n",
       "            Plotly.purge(gd);\n",
       "            observer.disconnect();\n",
       "        }}\n",
       "}});\n",
       "\n",
       "// Listen for the removal of the full notebook cells\n",
       "var notebookContainer = gd.closest('#notebook-container');\n",
       "if (notebookContainer) {{\n",
       "    x.observe(notebookContainer, {childList: true});\n",
       "}}\n",
       "\n",
       "// Listen for the clearing of the current output cell\n",
       "var outputEl = gd.closest('.output');\n",
       "if (outputEl) {{\n",
       "    x.observe(outputEl, {childList: true});\n",
       "}}\n",
       "\n",
       "                        })\n",
       "                };\n",
       "                });\n",
       "            </script>\n",
       "        </div>"
      ]
     },
     "metadata": {},
     "output_type": "display_data"
    }
   ],
   "source": [
    "fig=ff.create_dendrogram(X[[\"B\",\"C\",\"D\",\"E\",\"F\",\"G\"]],\\\n",
    "        distfun=lambda x: pdist(x, \"euclidean\"),linkagefun=lambda x: sch.linkage(x, \"single\"))\n",
    "\n",
    "fig.update_layout(width=800, height=500)\n",
    "fig.show()"
   ]
  },
  {
   "cell_type": "code",
   "execution_count": 22,
   "metadata": {},
   "outputs": [
    {
     "data": {
      "text/plain": [
       "['gene_id',\n",
       " 'gene_name',\n",
       " 'N2_0',\n",
       " 'N2_1',\n",
       " 'N2_2',\n",
       " 'daf2_0',\n",
       " 'daf2_1',\n",
       " 'daf2_2',\n",
       " 'go_id',\n",
       " 'go_name',\n",
       " 'go_definition']"
      ]
     },
     "execution_count": 22,
     "metadata": {},
     "output_type": "execute_result"
    }
   ],
   "source": [
    "list(genexp.columns)"
   ]
  },
  {
   "cell_type": "code",
   "execution_count": 19,
   "metadata": {},
   "outputs": [
    {
     "data": {
      "text/html": [
       "<div>\n",
       "<style scoped>\n",
       "    .dataframe tbody tr th:only-of-type {\n",
       "        vertical-align: middle;\n",
       "    }\n",
       "\n",
       "    .dataframe tbody tr th {\n",
       "        vertical-align: top;\n",
       "    }\n",
       "\n",
       "    .dataframe thead th {\n",
       "        text-align: right;\n",
       "    }\n",
       "</style>\n",
       "<table border=\"1\" class=\"dataframe\">\n",
       "  <thead>\n",
       "    <tr style=\"text-align: right;\">\n",
       "      <th></th>\n",
       "      <th>gene_id</th>\n",
       "      <th>gene_name</th>\n",
       "      <th>N2_0</th>\n",
       "      <th>N2_1</th>\n",
       "      <th>N2_2</th>\n",
       "      <th>daf2_0</th>\n",
       "      <th>daf2_1</th>\n",
       "      <th>daf2_2</th>\n",
       "      <th>go_id</th>\n",
       "      <th>go_name</th>\n",
       "      <th>go_definition</th>\n",
       "    </tr>\n",
       "  </thead>\n",
       "  <tbody>\n",
       "    <tr>\n",
       "      <th>0</th>\n",
       "      <td>WBGene00197333</td>\n",
       "      <td>cTel3X.2</td>\n",
       "      <td>0.000</td>\n",
       "      <td>0.000</td>\n",
       "      <td>0.000</td>\n",
       "      <td>7.330</td>\n",
       "      <td>4.849</td>\n",
       "      <td>0.000</td>\n",
       "      <td>NaN</td>\n",
       "      <td>NaN</td>\n",
       "      <td>NaN</td>\n",
       "    </tr>\n",
       "    <tr>\n",
       "      <th>1</th>\n",
       "      <td>WBGene00015153</td>\n",
       "      <td>B0348.5</td>\n",
       "      <td>9.956</td>\n",
       "      <td>2.426</td>\n",
       "      <td>20.351</td>\n",
       "      <td>5.509</td>\n",
       "      <td>8.747</td>\n",
       "      <td>8.367</td>\n",
       "      <td>NaN</td>\n",
       "      <td>NaN</td>\n",
       "      <td>NaN</td>\n",
       "    </tr>\n",
       "    <tr>\n",
       "      <th>2</th>\n",
       "      <td>WBGene00002061</td>\n",
       "      <td>ife-3</td>\n",
       "      <td>8755.953</td>\n",
       "      <td>6353.077</td>\n",
       "      <td>6112.907</td>\n",
       "      <td>1923.245</td>\n",
       "      <td>3888.583</td>\n",
       "      <td>4828.126</td>\n",
       "      <td>GO:0005515, GO:0003743, GO:0006412, GO:0005737...</td>\n",
       "      <td>regulation of translation, translation, RNA 7-...</td>\n",
       "      <td>\"Any process that modulates the frequency, rat...</td>\n",
       "    </tr>\n",
       "    <tr>\n",
       "      <th>3</th>\n",
       "      <td>WBGene00255704</td>\n",
       "      <td>B0348.10</td>\n",
       "      <td>0.000</td>\n",
       "      <td>3.221</td>\n",
       "      <td>0.000</td>\n",
       "      <td>1.463</td>\n",
       "      <td>0.000</td>\n",
       "      <td>0.000</td>\n",
       "      <td>NaN</td>\n",
       "      <td>NaN</td>\n",
       "      <td>NaN</td>\n",
       "    </tr>\n",
       "    <tr>\n",
       "      <th>4</th>\n",
       "      <td>WBGene00235314</td>\n",
       "      <td>B0348.9</td>\n",
       "      <td>15.957</td>\n",
       "      <td>2.916</td>\n",
       "      <td>0.000</td>\n",
       "      <td>5.298</td>\n",
       "      <td>5.257</td>\n",
       "      <td>8.047</td>\n",
       "      <td>NaN</td>\n",
       "      <td>NaN</td>\n",
       "      <td>NaN</td>\n",
       "    </tr>\n",
       "    <tr>\n",
       "      <th>...</th>\n",
       "      <td>...</td>\n",
       "      <td>...</td>\n",
       "      <td>...</td>\n",
       "      <td>...</td>\n",
       "      <td>...</td>\n",
       "      <td>...</td>\n",
       "      <td>...</td>\n",
       "      <td>...</td>\n",
       "      <td>...</td>\n",
       "      <td>...</td>\n",
       "      <td>...</td>\n",
       "    </tr>\n",
       "    <tr>\n",
       "      <th>20293</th>\n",
       "      <td>WBGene00010963</td>\n",
       "      <td>nduo-4</td>\n",
       "      <td>113027.616</td>\n",
       "      <td>124621.833</td>\n",
       "      <td>144197.382</td>\n",
       "      <td>88644.517</td>\n",
       "      <td>48632.307</td>\n",
       "      <td>22410.018</td>\n",
       "      <td>GO:0003954, GO:0009060, GO:0008137, GO:0005747...</td>\n",
       "      <td>mitochondrial electron transport, NADH to ubiq...</td>\n",
       "      <td>\"A lipid bilayer along with all the proteins a...</td>\n",
       "    </tr>\n",
       "    <tr>\n",
       "      <th>20294</th>\n",
       "      <td>WBGene00010964</td>\n",
       "      <td>ctc-1</td>\n",
       "      <td>399082.787</td>\n",
       "      <td>312672.376</td>\n",
       "      <td>376485.113</td>\n",
       "      <td>517210.469</td>\n",
       "      <td>284322.014</td>\n",
       "      <td>103998.434</td>\n",
       "      <td>GO:0006119, GO:0005743, GO:0016021, GO:0004129...</td>\n",
       "      <td>respiratory chain complex IV, metal ion bindin...</td>\n",
       "      <td>\"A semiautonomous, self replicating organelle ...</td>\n",
       "    </tr>\n",
       "    <tr>\n",
       "      <th>20295</th>\n",
       "      <td>WBGene00010965</td>\n",
       "      <td>ctc-2</td>\n",
       "      <td>899435.675</td>\n",
       "      <td>808607.204</td>\n",
       "      <td>1088833.626</td>\n",
       "      <td>304131.493</td>\n",
       "      <td>354913.437</td>\n",
       "      <td>268562.961</td>\n",
       "      <td>GO:0022900, GO:0006123, GO:0016491, GO:0046872...</td>\n",
       "      <td>metal ion binding, integral component of membr...</td>\n",
       "      <td>\"A lipid bilayer along with all the proteins a...</td>\n",
       "    </tr>\n",
       "    <tr>\n",
       "      <th>20296</th>\n",
       "      <td>WBGene00010966</td>\n",
       "      <td>nduo-3</td>\n",
       "      <td>26341.576</td>\n",
       "      <td>83928.961</td>\n",
       "      <td>58919.775</td>\n",
       "      <td>1369.153</td>\n",
       "      <td>2500.552</td>\n",
       "      <td>2898.561</td>\n",
       "      <td>GO:0008137, GO:0005747, GO:0016491, GO:0016021...</td>\n",
       "      <td>mitochondrial electron transport, NADH to ubiq...</td>\n",
       "      <td>\"A lipid bilayer along with all the proteins a...</td>\n",
       "    </tr>\n",
       "    <tr>\n",
       "      <th>20297</th>\n",
       "      <td>WBGene00010967</td>\n",
       "      <td>nduo-5</td>\n",
       "      <td>62213.886</td>\n",
       "      <td>70283.919</td>\n",
       "      <td>59453.812</td>\n",
       "      <td>98194.168</td>\n",
       "      <td>36947.078</td>\n",
       "      <td>19486.843</td>\n",
       "      <td>GO:0008137, GO:0005747, GO:0016491, GO:0016021...</td>\n",
       "      <td>mitochondrial electron transport, NADH to ubiq...</td>\n",
       "      <td>\"A lipid bilayer along with all the proteins a...</td>\n",
       "    </tr>\n",
       "  </tbody>\n",
       "</table>\n",
       "<p>20298 rows × 11 columns</p>\n",
       "</div>"
      ],
      "text/plain": [
       "              gene_id gene_name        N2_0        N2_1         N2_2  \\\n",
       "0      WBGene00197333  cTel3X.2       0.000       0.000        0.000   \n",
       "1      WBGene00015153   B0348.5       9.956       2.426       20.351   \n",
       "2      WBGene00002061     ife-3    8755.953    6353.077     6112.907   \n",
       "3      WBGene00255704  B0348.10       0.000       3.221        0.000   \n",
       "4      WBGene00235314   B0348.9      15.957       2.916        0.000   \n",
       "...               ...       ...         ...         ...          ...   \n",
       "20293  WBGene00010963    nduo-4  113027.616  124621.833   144197.382   \n",
       "20294  WBGene00010964     ctc-1  399082.787  312672.376   376485.113   \n",
       "20295  WBGene00010965     ctc-2  899435.675  808607.204  1088833.626   \n",
       "20296  WBGene00010966    nduo-3   26341.576   83928.961    58919.775   \n",
       "20297  WBGene00010967    nduo-5   62213.886   70283.919    59453.812   \n",
       "\n",
       "           daf2_0      daf2_1      daf2_2  \\\n",
       "0           7.330       4.849       0.000   \n",
       "1           5.509       8.747       8.367   \n",
       "2        1923.245    3888.583    4828.126   \n",
       "3           1.463       0.000       0.000   \n",
       "4           5.298       5.257       8.047   \n",
       "...           ...         ...         ...   \n",
       "20293   88644.517   48632.307   22410.018   \n",
       "20294  517210.469  284322.014  103998.434   \n",
       "20295  304131.493  354913.437  268562.961   \n",
       "20296    1369.153    2500.552    2898.561   \n",
       "20297   98194.168   36947.078   19486.843   \n",
       "\n",
       "                                                   go_id  \\\n",
       "0                                                    NaN   \n",
       "1                                                    NaN   \n",
       "2      GO:0005515, GO:0003743, GO:0006412, GO:0005737...   \n",
       "3                                                    NaN   \n",
       "4                                                    NaN   \n",
       "...                                                  ...   \n",
       "20293  GO:0003954, GO:0009060, GO:0008137, GO:0005747...   \n",
       "20294  GO:0006119, GO:0005743, GO:0016021, GO:0004129...   \n",
       "20295  GO:0022900, GO:0006123, GO:0016491, GO:0046872...   \n",
       "20296  GO:0008137, GO:0005747, GO:0016491, GO:0016021...   \n",
       "20297  GO:0008137, GO:0005747, GO:0016491, GO:0016021...   \n",
       "\n",
       "                                                 go_name  \\\n",
       "0                                                    NaN   \n",
       "1                                                    NaN   \n",
       "2      regulation of translation, translation, RNA 7-...   \n",
       "3                                                    NaN   \n",
       "4                                                    NaN   \n",
       "...                                                  ...   \n",
       "20293  mitochondrial electron transport, NADH to ubiq...   \n",
       "20294  respiratory chain complex IV, metal ion bindin...   \n",
       "20295  metal ion binding, integral component of membr...   \n",
       "20296  mitochondrial electron transport, NADH to ubiq...   \n",
       "20297  mitochondrial electron transport, NADH to ubiq...   \n",
       "\n",
       "                                           go_definition  \n",
       "0                                                    NaN  \n",
       "1                                                    NaN  \n",
       "2      \"Any process that modulates the frequency, rat...  \n",
       "3                                                    NaN  \n",
       "4                                                    NaN  \n",
       "...                                                  ...  \n",
       "20293  \"A lipid bilayer along with all the proteins a...  \n",
       "20294  \"A semiautonomous, self replicating organelle ...  \n",
       "20295  \"A lipid bilayer along with all the proteins a...  \n",
       "20296  \"A lipid bilayer along with all the proteins a...  \n",
       "20297  \"A lipid bilayer along with all the proteins a...  \n",
       "\n",
       "[20298 rows x 11 columns]"
      ]
     },
     "execution_count": 19,
     "metadata": {},
     "output_type": "execute_result"
    }
   ],
   "source": [
    "genexp"
   ]
  },
  {
   "cell_type": "code",
   "execution_count": null,
   "metadata": {},
   "outputs": [],
   "source": [
    "fig = ff.create_dendrogram(genexp[[\"N2_0\",\"N2_1\",\"N2_2\"]],distfun=lambda x: pdist(x, \"canberra\"))\n",
    "fig.update_layout(width=800, height=500)\n",
    "fig.show()"
   ]
  },
  {
   "cell_type": "code",
   "execution_count": 17,
   "metadata": {},
   "outputs": [
    {
     "name": "stdout",
     "output_type": "stream",
     "text": [
      "Help on method update_traces in module plotly.basedatatypes:\n",
      "\n",
      "update_traces(patch=None, selector=None, row=None, col=None, secondary_y=None, overwrite=False, **kwargs) method of plotly.graph_objs._figure.Figure instance\n",
      "    Perform a property update operation on all traces that satisfy the\n",
      "    specified selection criteria\n",
      "    \n",
      "    Parameters\n",
      "    ----------\n",
      "    patch: dict or None (default None)\n",
      "        Dictionary of property updates to be applied to all traces that\n",
      "        satisfy the selection criteria.\n",
      "    selector: dict or None (default None)\n",
      "        Dict to use as selection criteria.\n",
      "        Traces will be selected if they contain properties corresponding\n",
      "        to all of the dictionary's keys, with values that exactly match\n",
      "        the supplied values. If None (the default), all traces are\n",
      "        selected.\n",
      "    row, col: int or None (default None)\n",
      "        Subplot row and column index of traces to select.\n",
      "        To select traces by row and column, the Figure must have been\n",
      "        created using plotly.subplots.make_subplots.  If None\n",
      "        (the default), all traces are selected.\n",
      "    secondary_y: boolean or None (default None)\n",
      "        * If True, only select traces associated with the secondary\n",
      "          y-axis of the subplot.\n",
      "        * If False, only select traces associated with the primary\n",
      "          y-axis of the subplot.\n",
      "        * If None (the default), do not filter traces based on secondary\n",
      "          y-axis.\n",
      "    \n",
      "        To select traces by secondary y-axis, the Figure must have been\n",
      "        created using plotly.subplots.make_subplots. See the docstring\n",
      "        for the specs argument to make_subplots for more info on\n",
      "        creating subplots with secondary y-axes.\n",
      "    overwrite: bool\n",
      "        If True, overwrite existing properties. If False, apply updates\n",
      "        to existing properties recursively, preserving existing\n",
      "        properties that are not specified in the update operation.\n",
      "    **kwargs\n",
      "        Additional property updates to apply to each selected trace. If\n",
      "        a property is specified in both patch and in **kwargs then the\n",
      "        one in **kwargs takes precedence.\n",
      "    \n",
      "    Returns\n",
      "    -------\n",
      "    self\n",
      "        Returns the Figure object that the method was called on\n",
      "\n"
     ]
    }
   ],
   "source": [
    "help(fig.update_traces)"
   ]
  },
  {
   "cell_type": "code",
   "execution_count": null,
   "metadata": {},
   "outputs": [],
   "source": []
  }
 ],
 "metadata": {
  "kernelspec": {
   "display_name": "Python 3",
   "language": "python",
   "name": "python3"
  },
  "language_info": {
   "codemirror_mode": {
    "name": "ipython",
    "version": 3
   },
   "file_extension": ".py",
   "mimetype": "text/x-python",
   "name": "python",
   "nbconvert_exporter": "python",
   "pygments_lexer": "ipython3",
   "version": "3.7.3"
  }
 },
 "nbformat": 4,
 "nbformat_minor": 4
}
